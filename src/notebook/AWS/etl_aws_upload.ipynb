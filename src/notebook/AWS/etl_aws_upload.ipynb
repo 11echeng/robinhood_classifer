{
 "cells": [
  {
   "cell_type": "code",
   "execution_count": 1,
   "metadata": {},
   "outputs": [],
   "source": [
    "import polars as pl\n",
    "import pandas as pd\n",
    "import numpy as np\n",
    "import psycopg2\n",
    "from sqlalchemy import create_engine\n",
    "import os\n",
    "\n",
    "host=os.environ['HOST']\n",
    "database=os.environ['DATABASE']\n",
    "user=os.environ['USER']\n",
    "password=os.environ['PASSWORD']\n",
    "port=os.environ['PORT']\n",
    "engine = create_engine(f'postgresql://{user}:{password}@{host}:{port}/{database}')"
   ]
  },
  {
   "cell_type": "markdown",
   "metadata": {},
   "source": [
    "## RobinHood"
   ]
  },
  {
   "cell_type": "code",
   "execution_count": 4,
   "metadata": {},
   "outputs": [
    {
     "data": {
      "text/plain": [
       "584"
      ]
     },
     "execution_count": 4,
     "metadata": {},
     "output_type": "execute_result"
    }
   ],
   "source": [
    "equity_data = pd.read_csv(r'../../data/equity_value_data.csv', parse_dates=['timestamp'])\n",
    "features_data =  pd.read_csv(r'../../data/features_data.csv')\n",
    "\n",
    "features_data.dtypes\n",
    "\n",
    "equity_data['timestamp'] = pd.to_datetime(equity_data['timestamp'])\n",
    "equity_data.dtypes\n",
    "\n",
    "equity_data['timestamp'] = equity_data['timestamp'].dt.tz_localize(None)\n",
    "equity_data.dtypes\n",
    "\n",
    "features_data.to_sql('features_data', engine, if_exists='replace', index=False)\n",
    "# equity_data.to_sql('equity_value_data', engine, if_exists='replace', index=False)\n",
    "\n",
    "# try:\n",
    "#     with engine.connect() as conn:\n",
    "#         conn.execute(\"COMMIT\")  # End transaction block\n",
    "#         conn.execute('CREATE DATABASE \"robinhood\";')\n",
    "#     print(\"Database 'robinhood' created successfully.\")\n",
    "# except Exception as e:\n",
    "#     print(f\"Error creating database: {e}\")"
   ]
  },
  {
   "cell_type": "markdown",
   "metadata": {},
   "source": [
    "## Klaviyo"
   ]
  },
  {
   "cell_type": "code",
   "execution_count": 2,
   "metadata": {},
   "outputs": [
    {
     "data": {
      "text/plain": [
       "471"
      ]
     },
     "execution_count": 2,
     "metadata": {},
     "output_type": "execute_result"
    }
   ],
   "source": [
    "klaviyo_data =  pd.read_csv(r'../../data/screening_exercise_orders_v201810.csv')\n",
    "klaviyo_data.to_sql('klaviyo_data', engine, if_exists='replace', index=False)"
   ]
  },
  {
   "cell_type": "markdown",
   "metadata": {},
   "source": [
    "## MLB"
   ]
  },
  {
   "cell_type": "code",
   "execution_count": 3,
   "metadata": {},
   "outputs": [
    {
     "data": {
      "text/plain": [
       "1000"
      ]
     },
     "execution_count": 3,
     "metadata": {},
     "output_type": "execute_result"
    }
   ],
   "source": [
    "ds1_data =  pd.read_csv(r'../../data/ds1.csv')\n",
    "ds2_data =  pd.read_csv(r'../../data/ds2.csv')\n",
    "ds1_data.to_sql('ds1_data', engine, if_exists='replace', index=False)\n",
    "ds2_data.to_sql('ds2_data', engine, if_exists='replace', index=False)"
   ]
  },
  {
   "cell_type": "markdown",
   "metadata": {},
   "source": [
    "### Amazon"
   ]
  },
  {
   "cell_type": "code",
   "execution_count": 7,
   "metadata": {},
   "outputs": [
    {
     "data": {
      "text/plain": [
       "8"
      ]
     },
     "execution_count": 7,
     "metadata": {},
     "output_type": "execute_result"
    }
   ],
   "source": [
    "merchants_data =  pd.read_csv(r'../../../data/Amazon/merchants.csv')\n",
    "merchants_data['launch_date'] = pd.to_datetime(merchants_data['launch_date'])\n",
    "merchants_data\n",
    "merchants_data.to_sql('merchants', engine, if_exists='replace', index=False)"
   ]
  },
  {
   "cell_type": "code",
   "execution_count": 10,
   "metadata": {},
   "outputs": [
    {
     "data": {
      "text/plain": [
       "6"
      ]
     },
     "execution_count": 10,
     "metadata": {},
     "output_type": "execute_result"
    }
   ],
   "source": [
    "orders_data =  pd.read_csv(r'../../../data/Amazon/orders.csv')\n",
    "orders_data['order_date'] = pd.to_datetime(orders_data['order_date'])\n",
    "orders_data\n",
    "orders_data.to_sql('orders', engine, if_exists='replace', index=False)"
   ]
  },
  {
   "cell_type": "markdown",
   "metadata": {},
   "source": [
    "### DICKS"
   ]
  },
  {
   "cell_type": "code",
   "execution_count": 13,
   "metadata": {},
   "outputs": [
    {
     "data": {
      "text/plain": [
       "2"
      ]
     },
     "execution_count": 13,
     "metadata": {},
     "output_type": "execute_result"
    }
   ],
   "source": [
    "products_q1_v1_data =  pd.read_csv(r'../../../data/dicks/products_q1_v1.csv')\n",
    "products_q1_v1_data.to_sql('products_q1_v1_data', engine, if_exists='replace', index=False)\n",
    "#\n",
    "products_q1_v2_data =  pd.read_csv(r'../../../data/dicks/products_q1_v2.csv')\n",
    "products_q1_v2_data.to_sql('products_q1_v2_data', engine, if_exists='replace', index=False)\n",
    "#\n",
    "products_q1_v3_data =  pd.read_csv(r'../../../data/dicks/products_q1_v3.csv')\n",
    "products_q1_v3_data.to_sql('products_q1_v3_data', engine, if_exists='replace', index=False)"
   ]
  },
  {
   "cell_type": "code",
   "execution_count": 16,
   "metadata": {},
   "outputs": [
    {
     "data": {
      "text/plain": [
       "6"
      ]
     },
     "execution_count": 16,
     "metadata": {},
     "output_type": "execute_result"
    }
   ],
   "source": [
    "transactions_q2_v1_data =  pd.read_csv(r'../../../data/dicks/transactions_q2_v1.csv')\n",
    "transactions_q2_v1_data['date'] = pd.to_datetime(transactions_q2_v1_data['date'])\n",
    "transactions_q2_v1_data.to_sql('transactions_q2_v1_data', engine, if_exists='replace', index=False)\n",
    "#\n",
    "transactions_q2_v2_data =  pd.read_csv(r'../../../data/dicks/transactions_q2_v2.csv')\n",
    "transactions_q2_v2_data['date'] = pd.to_datetime(transactions_q2_v2_data['date'])\n",
    "transactions_q2_v2_data.to_sql('transactions_q2_v2_data', engine, if_exists='replace', index=False)\n",
    "#\n",
    "transactions_q2_v3_data =  pd.read_csv(r'../../../data/dicks/transactions_q2_v3.csv')\n",
    "transactions_q2_v3_data['date'] = pd.to_datetime(transactions_q2_v3_data['date'])\n",
    "transactions_q2_v3_data.to_sql('transactions_q2_v3_data', engine, if_exists='replace', index=False)"
   ]
  }
 ],
 "metadata": {
  "kernelspec": {
   "display_name": "venv",
   "language": "python",
   "name": "python3"
  },
  "language_info": {
   "codemirror_mode": {
    "name": "ipython",
    "version": 3
   },
   "file_extension": ".py",
   "mimetype": "text/x-python",
   "name": "python",
   "nbconvert_exporter": "python",
   "pygments_lexer": "ipython3",
   "version": "3.8.5"
  }
 },
 "nbformat": 4,
 "nbformat_minor": 2
}
