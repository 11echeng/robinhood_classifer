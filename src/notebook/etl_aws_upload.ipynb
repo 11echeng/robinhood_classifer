{
 "cells": [
  {
   "cell_type": "code",
   "execution_count": 2,
   "metadata": {},
   "outputs": [],
   "source": [
    "import polars as pl\n",
    "import pandas as pd\n",
    "import numpy as np\n",
    "import psycopg2\n",
    "from sqlalchemy import create_engine\n",
    "import os\n",
    "\n",
    "host=os.environ['HOST']\n",
    "database=os.environ['DATABASE']\n",
    "user=os.environ['USER']\n",
    "password=os.environ['PASSWORD']\n",
    "port=os.environ['PORT']\n",
    "engine = create_engine(f'postgresql://{user}:{password}@{host}:{port}/{database}')"
   ]
  },
  {
   "cell_type": "markdown",
   "metadata": {},
   "source": [
    "## RobinHood"
   ]
  },
  {
   "cell_type": "code",
   "execution_count": 1,
   "metadata": {},
   "outputs": [
    {
     "ename": "NameError",
     "evalue": "name 'os' is not defined",
     "output_type": "error",
     "traceback": [
      "\u001b[1;31m---------------------------------------------------------------------------\u001b[0m",
      "\u001b[1;31mNameError\u001b[0m                                 Traceback (most recent call last)",
      "Cell \u001b[1;32mIn[1], line 1\u001b[0m\n\u001b[1;32m----> 1\u001b[0m host\u001b[38;5;241m=\u001b[39m\u001b[43mos\u001b[49m\u001b[38;5;241m.\u001b[39menviron[\u001b[38;5;124m'\u001b[39m\u001b[38;5;124mHOST\u001b[39m\u001b[38;5;124m'\u001b[39m]\n\u001b[0;32m      2\u001b[0m database\u001b[38;5;241m=\u001b[39mos\u001b[38;5;241m.\u001b[39menviron[\u001b[38;5;124m'\u001b[39m\u001b[38;5;124mDATABASE\u001b[39m\u001b[38;5;124m'\u001b[39m]\n\u001b[0;32m      3\u001b[0m user\u001b[38;5;241m=\u001b[39mos\u001b[38;5;241m.\u001b[39menviron[\u001b[38;5;124m'\u001b[39m\u001b[38;5;124mUSER\u001b[39m\u001b[38;5;124m'\u001b[39m]\n",
      "\u001b[1;31mNameError\u001b[0m: name 'os' is not defined"
     ]
    }
   ],
   "source": [
    "equity_data = pd.read_csv(r'../../data/equity_value_data.csv', parse_dates=['timestamp'])\n",
    "features_data =  pd.read_csv(r'../../data/features_data.csv')\n",
    "\n",
    "features_data['time_spent'] = pd.to_datetime(features_data['time_spent'])\n",
    "features_data.dtypes\n",
    "\n",
    "equity_data['timestamp'] = pd.to_datetime(equity_data['timestamp'])\n",
    "equity_data.dtypes\n",
    "\n",
    "equity_data['timestamp'] = equity_data['timestamp'].dt.tz_localize(None)\n",
    "equity_data.dtypes\n",
    "\n",
    "features_data.to_sql('features_data', engine, if_exists='replace', index=False)\n",
    "equity_data.to_sql('equity_value_data', engine, if_exists='replace', index=False)\n",
    "\n",
    "try:\n",
    "    with engine.connect() as conn:\n",
    "        conn.execute(\"COMMIT\")  # End transaction block\n",
    "        conn.execute('CREATE DATABASE \"robinhood\";')\n",
    "    print(\"Database 'robinhood' created successfully.\")\n",
    "except Exception as e:\n",
    "    print(f\"Error creating database: {e}\")"
   ]
  },
  {
   "cell_type": "markdown",
   "metadata": {},
   "source": [
    "## Klaviyo"
   ]
  },
  {
   "cell_type": "code",
   "execution_count": 7,
   "metadata": {},
   "outputs": [
    {
     "data": {
      "text/plain": [
       "471"
      ]
     },
     "execution_count": 7,
     "metadata": {},
     "output_type": "execute_result"
    }
   ],
   "source": [
    "klaviyo_data =  pd.read_csv(r'../../data/screening_exercise_orders_v201810.csv')\n",
    "klaviyo_data.to_sql('klaviyo_data', engine, if_exists='replace', index=False)"
   ]
  },
  {
   "cell_type": "markdown",
   "metadata": {},
   "source": [
    "## MLB"
   ]
  },
  {
   "cell_type": "code",
   "execution_count": 3,
   "metadata": {},
   "outputs": [
    {
     "data": {
      "text/plain": [
       "1000"
      ]
     },
     "execution_count": 3,
     "metadata": {},
     "output_type": "execute_result"
    }
   ],
   "source": [
    "ds1_data =  pd.read_csv(r'../../data/ds1.csv')\n",
    "ds2_data =  pd.read_csv(r'../../data/ds2.csv')\n",
    "ds1_data.to_sql('ds1_data', engine, if_exists='replace', index=False)\n",
    "ds2_data.to_sql('ds2_data', engine, if_exists='replace', index=False)"
   ]
  }
 ],
 "metadata": {
  "kernelspec": {
   "display_name": "venv",
   "language": "python",
   "name": "python3"
  },
  "language_info": {
   "codemirror_mode": {
    "name": "ipython",
    "version": 3
   },
   "file_extension": ".py",
   "mimetype": "text/x-python",
   "name": "python",
   "nbconvert_exporter": "python",
   "pygments_lexer": "ipython3",
   "version": "3.8.5"
  }
 },
 "nbformat": 4,
 "nbformat_minor": 2
}
