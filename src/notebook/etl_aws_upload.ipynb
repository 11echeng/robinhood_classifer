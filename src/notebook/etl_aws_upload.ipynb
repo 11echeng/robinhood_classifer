{
 "cells": [
  {
   "cell_type": "code",
   "execution_count": 2,
   "metadata": {},
   "outputs": [],
   "source": [
    "import polars as pl\n",
    "import pandas as pd\n",
    "import numpy as np\n",
    "import psycopg2\n",
    "from sqlalchemy import create_engine\n",
    "import os\n",
    "\n",
    "host=os.environ['HOST']\n",
    "database=os.environ['DATABASE']\n",
    "user=os.environ['USER']\n",
    "password=os.environ['PASSWORD']\n",
    "port=os.environ['PORT']\n",
    "engine = create_engine(f'postgresql://{user}:{password}@{host}:{port}/{database}')"
   ]
  },
  {
   "cell_type": "markdown",
   "metadata": {},
   "source": [
    "## RobinHood"
   ]
  },
  {
   "cell_type": "code",
   "execution_count": 1,
   "metadata": {},
   "outputs": [
    {
     "ename": "NameError",
     "evalue": "name 'os' is not defined",
     "output_type": "error",
     "traceback": [
      "\u001b[1;31m---------------------------------------------------------------------------\u001b[0m",
      "\u001b[1;31mNameError\u001b[0m                                 Traceback (most recent call last)",
      "Cell \u001b[1;32mIn[1], line 1\u001b[0m\n\u001b[1;32m----> 1\u001b[0m host\u001b[38;5;241m=\u001b[39m\u001b[43mos\u001b[49m\u001b[38;5;241m.\u001b[39menviron[\u001b[38;5;124m'\u001b[39m\u001b[38;5;124mHOST\u001b[39m\u001b[38;5;124m'\u001b[39m]\n\u001b[0;32m      2\u001b[0m database\u001b[38;5;241m=\u001b[39mos\u001b[38;5;241m.\u001b[39menviron[\u001b[38;5;124m'\u001b[39m\u001b[38;5;124mDATABASE\u001b[39m\u001b[38;5;124m'\u001b[39m]\n\u001b[0;32m      3\u001b[0m user\u001b[38;5;241m=\u001b[39mos\u001b[38;5;241m.\u001b[39menviron[\u001b[38;5;124m'\u001b[39m\u001b[38;5;124mUSER\u001b[39m\u001b[38;5;124m'\u001b[39m]\n",
      "\u001b[1;31mNameError\u001b[0m: name 'os' is not defined"
     ]
    }
   ],
   "source": [
    "equity_data = pd.read_csv(r'../../data/equity_value_data.csv', parse_dates=['timestamp'])\n",
    "features_data =  pd.read_csv(r'../../data/features_data.csv')\n",
    "\n",
    "features_data['time_spent'] = pd.to_datetime(features_data['time_spent'])\n",
    "features_data.dtypes\n",
    "\n",
    "equity_data['timestamp'] = pd.to_datetime(equity_data['timestamp'])\n",
    "equity_data.dtypes\n",
    "\n",
    "equity_data['timestamp'] = equity_data['timestamp'].dt.tz_localize(None)\n",
    "equity_data.dtypes\n",
    "\n",
    "features_data.to_sql('features_data', engine, if_exists='replace', index=False)\n",
    "equity_data.to_sql('equity_value_data', engine, if_exists='replace', index=False)\n",
    "\n",
    "try:\n",
    "    with engine.connect() as conn:\n",
    "        conn.execute(\"COMMIT\")  # End transaction block\n",
    "        conn.execute('CREATE DATABASE \"robinhood\";')\n",
    "    print(\"Database 'robinhood' created successfully.\")\n",
    "except Exception as e:\n",
    "    print(f\"Error creating database: {e}\")"
   ]
  },
  {
   "cell_type": "markdown",
   "metadata": {},
   "source": [
    "## Klaviyo"
   ]
  },
  {
   "cell_type": "code",
   "execution_count": 7,
   "metadata": {},
   "outputs": [
    {
     "data": {
      "text/plain": [
       "471"
      ]
     },
     "execution_count": 7,
     "metadata": {},
     "output_type": "execute_result"
    }
   ],
   "source": [
    "klaviyo_data =  pd.read_csv(r'../../data/screening_exercise_orders_v201810.csv')\n",
    "klaviyo_data.to_sql('klaviyo_data', engine, if_exists='replace', index=False)"
   ]
  },
  {
   "cell_type": "markdown",
   "metadata": {},
   "source": [
    "## MLB"
   ]
  },
  {
   "cell_type": "code",
   "execution_count": null,
   "metadata": {},
   "outputs": [],
   "source": [
    "# Consider data set 1 (ds1.csv). The data set comprises features (the Five xs) along with three sequences\n",
    "# that may or may not be generated from the features (3 ys).\n",
    "#\n",
    "# a. Describe the data set in a few sentences. E.g. What are the distributions of each feature?\n",
    "# Summary statistics?\n",
    "#\n",
    "# b. Try to come up with a predictive model, e.g. y = f(x_1 , … , x_n) for each y sequence. Describe\n",
    "# your models and how you came up with them. What (if any) are the predictive variables?\n",
    "# How good would you say each of your models is?\n",
    "#\n",
    "#\n",
    "# Consider data set 2 (ds2.csv). The dataset comprises a set of observations that correspond to multiple\n",
    "# groups.\n",
    "# a. Describe the data in a few sentences\n",
    "# b. How would you visualize this data set?\n",
    "# c. Can you identify the number of groups in the data and assign each row to its group?\n",
    "# d. Can you create a good visualization of your groupings?\n",
    "\n",
    "# Stack Overflow provides a tool at https://data.stackexchange.com/stackoverflow/query/new that\n",
    "# allows SQL queries to be run against their data. After reviewing the database schema provided on\n",
    "# their site, please answer the questions below by providing both your answer and the query used to\n",
    "# derive it.\n",
    "# a. How many posts were created in 2017?\n",
    "# b. What post/question received the most answers?\n",
    "# c. For posts created in 2020, what were the top 10 tags?\n",
    "# d. *BONUS* For the questions created in 2017, what was the average time (in seconds) between"
   ]
  },
  {
   "cell_type": "code",
   "execution_count": 3,
   "metadata": {},
   "outputs": [
    {
     "data": {
      "text/plain": [
       "1000"
      ]
     },
     "execution_count": 3,
     "metadata": {},
     "output_type": "execute_result"
    }
   ],
   "source": [
    "ds1_data =  pd.read_csv(r'../../data/ds1.csv')\n",
    "ds2_data =  pd.read_csv(r'../../data/ds2.csv')\n",
    "ds1_data.to_sql('ds1_data', engine, if_exists='replace', index=False)\n",
    "ds2_data.to_sql('ds2_data', engine, if_exists='replace', index=False)"
   ]
  }
 ],
 "metadata": {
  "kernelspec": {
   "display_name": "venv",
   "language": "python",
   "name": "python3"
  },
  "language_info": {
   "codemirror_mode": {
    "name": "ipython",
    "version": 3
   },
   "file_extension": ".py",
   "mimetype": "text/x-python",
   "name": "python",
   "nbconvert_exporter": "python",
   "pygments_lexer": "ipython3",
   "version": "3.8.5"
  }
 },
 "nbformat": 4,
 "nbformat_minor": 2
}
