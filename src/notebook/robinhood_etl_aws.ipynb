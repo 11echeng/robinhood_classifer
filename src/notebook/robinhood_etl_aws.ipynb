{
 "cells": [
  {
   "cell_type": "code",
   "execution_count": null,
   "metadata": {},
   "outputs": [],
   "source": [
    "import polars as pl\n",
    "import pandas as pd\n",
    "import numpy as np\n",
    "import psycopg2\n",
    "from sqlalchemy import create_engine\n",
    "import os"
   ]
  },
  {
   "cell_type": "code",
   "execution_count": null,
   "metadata": {},
   "outputs": [],
   "source": [
    "host=os.environ['host']\n",
    "database=os.environ['database']\n",
    "user=os.environ['user']\n",
    "password=os.environ['password']\n",
    "port=os.environ['port']\n",
    "\n",
    "equity_data = pd.read_csv(r'../../data/equity_value_data.csv', parse_dates=['timestamp'])\n",
    "features_data =  pd.read_csv(r'../../data/features_data.csv')\n",
    "\n",
    "features_data['time_spent'] = pd.to_datetime(features_data['time_spent'])\n",
    "features_data.dtypes\n",
    "\n",
    "equity_data['timestamp'] = pd.to_datetime(equity_data['timestamp'])\n",
    "equity_data.dtypes\n",
    "\n",
    "equity_data['timestamp'] = equity_data['timestamp'].dt.tz_localize(None)\n",
    "equity_data.dtypes\n",
    "\n",
    "engine = create_engine(f'postgresql://{user}:{password}@{host}:{port}/{database}')\n",
    "\n",
    "features_data.to_sql('features_data', engine, if_exists='replace', index=False)\n",
    "equity_data.to_sql('equity_value_data', engine, if_exists='replace', index=False)\n",
    "\n",
    "try:\n",
    "    with engine.connect() as conn:\n",
    "        conn.execute(\"COMMIT\")  # End transaction block\n",
    "        conn.execute('CREATE DATABASE \"robinhood\";')\n",
    "    print(\"Database 'robinhood' created successfully.\")\n",
    "except Exception as e:\n",
    "    print(f\"Error creating database: {e}\")"
   ]
  }
 ],
 "metadata": {
  "language_info": {
   "name": "python"
  }
 },
 "nbformat": 4,
 "nbformat_minor": 2
}
