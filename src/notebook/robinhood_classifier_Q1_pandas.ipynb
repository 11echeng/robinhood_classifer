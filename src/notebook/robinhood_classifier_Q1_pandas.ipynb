{
 "cells": [
  {
   "cell_type": "code",
   "execution_count": 41,
   "metadata": {},
   "outputs": [
    {
     "name": "stdout",
     "output_type": "stream",
     "text": [
      "The dotenv extension is already loaded. To reload it, use:\n",
      "  %reload_ext dotenv\n"
     ]
    }
   ],
   "source": [
    "# Data Manipulation and Handling\n",
    "import polars as pl\n",
    "import pandas as pd\n",
    "import numpy as np\n",
    "import psycopg2\n",
    "\n",
    "# DB Credentials\n",
    "from dotenv import load_dotenv\n",
    "import os\n",
    "\n",
    "# Machine Learning Libraries\n",
    "import torch\n",
    "import xgboost as xgb\n",
    "import lightgbm as lgb\n",
    "from sklearn.model_selection import train_test_split, GridSearchCV\n",
    "from sklearn.preprocessing import StandardScaler, LabelEncoder\n",
    "from sklearn.ensemble import RandomForestClassifier\n",
    "from sklearn.pipeline import Pipeline\n",
    "from sklearn.metrics import accuracy_score, confusion_matrix, classification_report, roc_auc_score, roc_curve\n",
    "\n",
    "# Visualization\n",
    "import matplotlib.pyplot as plt\n",
    "import seaborn as sns\n",
    "\n",
    "# Handling Imbalanced Data\n",
    "from imblearn.over_sampling import SMOTE\n",
    "from imblearn.under_sampling import RandomUnderSampler\n",
    "from imblearn.pipeline import Pipeline as ImbPipeline\n",
    "\n",
    "# Gradient Boosting Libraries\n",
    "from xgboost import XGBClassifier\n",
    "from lightgbm import LGBMClassifier\n",
    "\n",
    "# Model Lifecycle Management\n",
    "import mlflow\n",
    "import mlflow.sklearn\n",
    "\n",
    "# Distributed Computing\n",
    "from pyspark.sql import SparkSession\n",
    "from pyspark.ml.feature import VectorAssembler\n",
    "from pyspark.ml.classification import RandomForestClassifier as SparkRFClassifier\n",
    "\n",
    "# Model Interpretability\n",
    "import shap\n",
    "\n",
    "# Hyperparameter Optimization\n",
    "import optuna\n",
    "\n",
    "# Automated Feature Engineering\n",
    "import featuretools as ft\n",
    "\n",
    "%load_ext dotenv\n",
    "%dotenv\n",
    "BASE_DIR = '../SQL/'\n"
   ]
  },
  {
   "cell_type": "markdown",
   "metadata": {},
   "source": [
    "## Step 1: Load the Data"
   ]
  },
  {
   "cell_type": "code",
   "execution_count": 42,
   "metadata": {},
   "outputs": [],
   "source": [
    "equity_data = pd.read_csv(r'../../data/equity_value_data.csv', parse_dates=['timestamp'])\n",
    "features_data =  pd.read_csv(r'../../data/features_data.csv')"
   ]
  },
  {
   "cell_type": "code",
   "execution_count": 43,
   "metadata": {},
   "outputs": [
    {
     "data": {
      "text/html": [
       "<div>\n",
       "<style scoped>\n",
       "    .dataframe tbody tr th:only-of-type {\n",
       "        vertical-align: middle;\n",
       "    }\n",
       "\n",
       "    .dataframe tbody tr th {\n",
       "        vertical-align: top;\n",
       "    }\n",
       "\n",
       "    .dataframe thead th {\n",
       "        text-align: right;\n",
       "    }\n",
       "</style>\n",
       "<table border=\"1\" class=\"dataframe\">\n",
       "  <thead>\n",
       "    <tr style=\"text-align: right;\">\n",
       "      <th></th>\n",
       "      <th>timestamp</th>\n",
       "      <th>close_equity</th>\n",
       "      <th>user_id</th>\n",
       "    </tr>\n",
       "  </thead>\n",
       "  <tbody>\n",
       "    <tr>\n",
       "      <th>0</th>\n",
       "      <td>2016-11-16 00:00:00+00:00</td>\n",
       "      <td>48.16</td>\n",
       "      <td>bcef4fa9b0bdf22bcf7deae708decf03</td>\n",
       "    </tr>\n",
       "    <tr>\n",
       "      <th>1</th>\n",
       "      <td>2016-11-17 00:00:00+00:00</td>\n",
       "      <td>48.16</td>\n",
       "      <td>bcef4fa9b0bdf22bcf7deae708decf03</td>\n",
       "    </tr>\n",
       "    <tr>\n",
       "      <th>2</th>\n",
       "      <td>2016-11-18 00:00:00+00:00</td>\n",
       "      <td>48.16</td>\n",
       "      <td>bcef4fa9b0bdf22bcf7deae708decf03</td>\n",
       "    </tr>\n",
       "    <tr>\n",
       "      <th>3</th>\n",
       "      <td>2016-11-21 00:00:00+00:00</td>\n",
       "      <td>48.16</td>\n",
       "      <td>bcef4fa9b0bdf22bcf7deae708decf03</td>\n",
       "    </tr>\n",
       "    <tr>\n",
       "      <th>4</th>\n",
       "      <td>2016-11-22 00:00:00+00:00</td>\n",
       "      <td>48.16</td>\n",
       "      <td>bcef4fa9b0bdf22bcf7deae708decf03</td>\n",
       "    </tr>\n",
       "    <tr>\n",
       "      <th>...</th>\n",
       "      <td>...</td>\n",
       "      <td>...</td>\n",
       "      <td>...</td>\n",
       "    </tr>\n",
       "    <tr>\n",
       "      <th>1119153</th>\n",
       "      <td>2017-08-14 00:00:00+00:00</td>\n",
       "      <td>2270.71</td>\n",
       "      <td>98580360c4fb5b0ec511cd87f0d429ed</td>\n",
       "    </tr>\n",
       "    <tr>\n",
       "      <th>1119154</th>\n",
       "      <td>2017-08-15 00:00:00+00:00</td>\n",
       "      <td>2275.02</td>\n",
       "      <td>98580360c4fb5b0ec511cd87f0d429ed</td>\n",
       "    </tr>\n",
       "    <tr>\n",
       "      <th>1119155</th>\n",
       "      <td>2017-08-16 00:00:00+00:00</td>\n",
       "      <td>2282.03</td>\n",
       "      <td>98580360c4fb5b0ec511cd87f0d429ed</td>\n",
       "    </tr>\n",
       "    <tr>\n",
       "      <th>1119156</th>\n",
       "      <td>2017-08-17 00:00:00+00:00</td>\n",
       "      <td>2237.45</td>\n",
       "      <td>98580360c4fb5b0ec511cd87f0d429ed</td>\n",
       "    </tr>\n",
       "    <tr>\n",
       "      <th>1119157</th>\n",
       "      <td>2017-08-18 00:00:00+00:00</td>\n",
       "      <td>2227.35</td>\n",
       "      <td>98580360c4fb5b0ec511cd87f0d429ed</td>\n",
       "    </tr>\n",
       "  </tbody>\n",
       "</table>\n",
       "<p>1119158 rows × 3 columns</p>\n",
       "</div>"
      ],
      "text/plain": [
       "                        timestamp  close_equity  \\\n",
       "0       2016-11-16 00:00:00+00:00         48.16   \n",
       "1       2016-11-17 00:00:00+00:00         48.16   \n",
       "2       2016-11-18 00:00:00+00:00         48.16   \n",
       "3       2016-11-21 00:00:00+00:00         48.16   \n",
       "4       2016-11-22 00:00:00+00:00         48.16   \n",
       "...                           ...           ...   \n",
       "1119153 2017-08-14 00:00:00+00:00       2270.71   \n",
       "1119154 2017-08-15 00:00:00+00:00       2275.02   \n",
       "1119155 2017-08-16 00:00:00+00:00       2282.03   \n",
       "1119156 2017-08-17 00:00:00+00:00       2237.45   \n",
       "1119157 2017-08-18 00:00:00+00:00       2227.35   \n",
       "\n",
       "                                  user_id  \n",
       "0        bcef4fa9b0bdf22bcf7deae708decf03  \n",
       "1        bcef4fa9b0bdf22bcf7deae708decf03  \n",
       "2        bcef4fa9b0bdf22bcf7deae708decf03  \n",
       "3        bcef4fa9b0bdf22bcf7deae708decf03  \n",
       "4        bcef4fa9b0bdf22bcf7deae708decf03  \n",
       "...                                   ...  \n",
       "1119153  98580360c4fb5b0ec511cd87f0d429ed  \n",
       "1119154  98580360c4fb5b0ec511cd87f0d429ed  \n",
       "1119155  98580360c4fb5b0ec511cd87f0d429ed  \n",
       "1119156  98580360c4fb5b0ec511cd87f0d429ed  \n",
       "1119157  98580360c4fb5b0ec511cd87f0d429ed  \n",
       "\n",
       "[1119158 rows x 3 columns]"
      ]
     },
     "execution_count": 43,
     "metadata": {},
     "output_type": "execute_result"
    }
   ],
   "source": [
    "equity_data"
   ]
  },
  {
   "cell_type": "code",
   "execution_count": 44,
   "metadata": {},
   "outputs": [
    {
     "data": {
      "text/html": [
       "<div>\n",
       "<style scoped>\n",
       "    .dataframe tbody tr th:only-of-type {\n",
       "        vertical-align: middle;\n",
       "    }\n",
       "\n",
       "    .dataframe tbody tr th {\n",
       "        vertical-align: top;\n",
       "    }\n",
       "\n",
       "    .dataframe thead th {\n",
       "        text-align: right;\n",
       "    }\n",
       "</style>\n",
       "<table border=\"1\" class=\"dataframe\">\n",
       "  <thead>\n",
       "    <tr style=\"text-align: right;\">\n",
       "      <th></th>\n",
       "      <th>risk_tolerance</th>\n",
       "      <th>investment_experience</th>\n",
       "      <th>liquidity_needs</th>\n",
       "      <th>platform</th>\n",
       "      <th>time_spent</th>\n",
       "      <th>instrument_type_first_traded</th>\n",
       "      <th>first_deposit_amount</th>\n",
       "      <th>time_horizon</th>\n",
       "      <th>user_id</th>\n",
       "    </tr>\n",
       "  </thead>\n",
       "  <tbody>\n",
       "    <tr>\n",
       "      <th>0</th>\n",
       "      <td>high_risk_tolerance</td>\n",
       "      <td>limited_investment_exp</td>\n",
       "      <td>very_important_liq_need</td>\n",
       "      <td>Android</td>\n",
       "      <td>33.129417</td>\n",
       "      <td>stock</td>\n",
       "      <td>40.0</td>\n",
       "      <td>med_time_horizon</td>\n",
       "      <td>895044c23edc821881e87da749c01034</td>\n",
       "    </tr>\n",
       "    <tr>\n",
       "      <th>1</th>\n",
       "      <td>med_risk_tolerance</td>\n",
       "      <td>limited_investment_exp</td>\n",
       "      <td>very_important_liq_need</td>\n",
       "      <td>Android</td>\n",
       "      <td>16.573517</td>\n",
       "      <td>stock</td>\n",
       "      <td>200.0</td>\n",
       "      <td>short_time_horizon</td>\n",
       "      <td>458b1d95441ced242949deefe8e4b638</td>\n",
       "    </tr>\n",
       "    <tr>\n",
       "      <th>2</th>\n",
       "      <td>med_risk_tolerance</td>\n",
       "      <td>limited_investment_exp</td>\n",
       "      <td>very_important_liq_need</td>\n",
       "      <td>iOS</td>\n",
       "      <td>10.008367</td>\n",
       "      <td>stock</td>\n",
       "      <td>25.0</td>\n",
       "      <td>long_time_horizon</td>\n",
       "      <td>c7936f653d293479e034865db9bb932f</td>\n",
       "    </tr>\n",
       "    <tr>\n",
       "      <th>3</th>\n",
       "      <td>med_risk_tolerance</td>\n",
       "      <td>limited_investment_exp</td>\n",
       "      <td>very_important_liq_need</td>\n",
       "      <td>Android</td>\n",
       "      <td>1.031633</td>\n",
       "      <td>stock</td>\n",
       "      <td>100.0</td>\n",
       "      <td>short_time_horizon</td>\n",
       "      <td>b255d4bd6c9ba194d3a350b3e76c6393</td>\n",
       "    </tr>\n",
       "    <tr>\n",
       "      <th>4</th>\n",
       "      <td>high_risk_tolerance</td>\n",
       "      <td>limited_investment_exp</td>\n",
       "      <td>very_important_liq_need</td>\n",
       "      <td>Android</td>\n",
       "      <td>8.187250</td>\n",
       "      <td>stock</td>\n",
       "      <td>20.0</td>\n",
       "      <td>long_time_horizon</td>\n",
       "      <td>4a168225e89375b8de605cbc0977ae91</td>\n",
       "    </tr>\n",
       "    <tr>\n",
       "      <th>...</th>\n",
       "      <td>...</td>\n",
       "      <td>...</td>\n",
       "      <td>...</td>\n",
       "      <td>...</td>\n",
       "      <td>...</td>\n",
       "      <td>...</td>\n",
       "      <td>...</td>\n",
       "      <td>...</td>\n",
       "      <td>...</td>\n",
       "    </tr>\n",
       "    <tr>\n",
       "      <th>5579</th>\n",
       "      <td>high_risk_tolerance</td>\n",
       "      <td>limited_investment_exp</td>\n",
       "      <td>very_important_liq_need</td>\n",
       "      <td>Android</td>\n",
       "      <td>8.339283</td>\n",
       "      <td>stock</td>\n",
       "      <td>300.0</td>\n",
       "      <td>long_time_horizon</td>\n",
       "      <td>03880c726d8a4e5db006afe4119ad974</td>\n",
       "    </tr>\n",
       "    <tr>\n",
       "      <th>5580</th>\n",
       "      <td>med_risk_tolerance</td>\n",
       "      <td>limited_investment_exp</td>\n",
       "      <td>somewhat_important_liq_need</td>\n",
       "      <td>iOS</td>\n",
       "      <td>7.241383</td>\n",
       "      <td>stock</td>\n",
       "      <td>100.0</td>\n",
       "      <td>short_time_horizon</td>\n",
       "      <td>ae8315109657f44852b24c6bca4decd6</td>\n",
       "    </tr>\n",
       "    <tr>\n",
       "      <th>5581</th>\n",
       "      <td>med_risk_tolerance</td>\n",
       "      <td>no_investment_exp</td>\n",
       "      <td>very_important_liq_need</td>\n",
       "      <td>both</td>\n",
       "      <td>22.967167</td>\n",
       "      <td>stock</td>\n",
       "      <td>50.0</td>\n",
       "      <td>short_time_horizon</td>\n",
       "      <td>f29c174989f9737058fe808fcf264135</td>\n",
       "    </tr>\n",
       "    <tr>\n",
       "      <th>5582</th>\n",
       "      <td>med_risk_tolerance</td>\n",
       "      <td>limited_investment_exp</td>\n",
       "      <td>somewhat_important_liq_need</td>\n",
       "      <td>iOS</td>\n",
       "      <td>10.338417</td>\n",
       "      <td>stock</td>\n",
       "      <td>100.0</td>\n",
       "      <td>long_time_horizon</td>\n",
       "      <td>24843497d1de88b2e7233f694436cb3a</td>\n",
       "    </tr>\n",
       "    <tr>\n",
       "      <th>5583</th>\n",
       "      <td>high_risk_tolerance</td>\n",
       "      <td>limited_investment_exp</td>\n",
       "      <td>somewhat_important_liq_need</td>\n",
       "      <td>iOS</td>\n",
       "      <td>18.470950</td>\n",
       "      <td>stock</td>\n",
       "      <td>50.0</td>\n",
       "      <td>long_time_horizon</td>\n",
       "      <td>49ee0531ee9dfbce0e7d9afa1c3d86f4</td>\n",
       "    </tr>\n",
       "  </tbody>\n",
       "</table>\n",
       "<p>5584 rows × 9 columns</p>\n",
       "</div>"
      ],
      "text/plain": [
       "           risk_tolerance   investment_experience  \\\n",
       "0     high_risk_tolerance  limited_investment_exp   \n",
       "1      med_risk_tolerance  limited_investment_exp   \n",
       "2      med_risk_tolerance  limited_investment_exp   \n",
       "3      med_risk_tolerance  limited_investment_exp   \n",
       "4     high_risk_tolerance  limited_investment_exp   \n",
       "...                   ...                     ...   \n",
       "5579  high_risk_tolerance  limited_investment_exp   \n",
       "5580   med_risk_tolerance  limited_investment_exp   \n",
       "5581   med_risk_tolerance       no_investment_exp   \n",
       "5582   med_risk_tolerance  limited_investment_exp   \n",
       "5583  high_risk_tolerance  limited_investment_exp   \n",
       "\n",
       "                  liquidity_needs platform  time_spent  \\\n",
       "0         very_important_liq_need  Android   33.129417   \n",
       "1         very_important_liq_need  Android   16.573517   \n",
       "2         very_important_liq_need      iOS   10.008367   \n",
       "3         very_important_liq_need  Android    1.031633   \n",
       "4         very_important_liq_need  Android    8.187250   \n",
       "...                           ...      ...         ...   \n",
       "5579      very_important_liq_need  Android    8.339283   \n",
       "5580  somewhat_important_liq_need      iOS    7.241383   \n",
       "5581      very_important_liq_need     both   22.967167   \n",
       "5582  somewhat_important_liq_need      iOS   10.338417   \n",
       "5583  somewhat_important_liq_need      iOS   18.470950   \n",
       "\n",
       "     instrument_type_first_traded  first_deposit_amount        time_horizon  \\\n",
       "0                           stock                  40.0    med_time_horizon   \n",
       "1                           stock                 200.0  short_time_horizon   \n",
       "2                           stock                  25.0   long_time_horizon   \n",
       "3                           stock                 100.0  short_time_horizon   \n",
       "4                           stock                  20.0   long_time_horizon   \n",
       "...                           ...                   ...                 ...   \n",
       "5579                        stock                 300.0   long_time_horizon   \n",
       "5580                        stock                 100.0  short_time_horizon   \n",
       "5581                        stock                  50.0  short_time_horizon   \n",
       "5582                        stock                 100.0   long_time_horizon   \n",
       "5583                        stock                  50.0   long_time_horizon   \n",
       "\n",
       "                               user_id  \n",
       "0     895044c23edc821881e87da749c01034  \n",
       "1     458b1d95441ced242949deefe8e4b638  \n",
       "2     c7936f653d293479e034865db9bb932f  \n",
       "3     b255d4bd6c9ba194d3a350b3e76c6393  \n",
       "4     4a168225e89375b8de605cbc0977ae91  \n",
       "...                                ...  \n",
       "5579  03880c726d8a4e5db006afe4119ad974  \n",
       "5580  ae8315109657f44852b24c6bca4decd6  \n",
       "5581  f29c174989f9737058fe808fcf264135  \n",
       "5582  24843497d1de88b2e7233f694436cb3a  \n",
       "5583  49ee0531ee9dfbce0e7d9afa1c3d86f4  \n",
       "\n",
       "[5584 rows x 9 columns]"
      ]
     },
     "execution_count": 44,
     "metadata": {},
     "output_type": "execute_result"
    }
   ],
   "source": [
    "features_data"
   ]
  },
  {
   "cell_type": "code",
   "execution_count": 45,
   "metadata": {},
   "outputs": [
    {
     "data": {
      "text/plain": [
       "dtype('float64')"
      ]
     },
     "execution_count": 45,
     "metadata": {},
     "output_type": "execute_result"
    }
   ],
   "source": [
    "features_data.dtypes\n",
    "#features_data['time_spent'].dtypes"
   ]
  },
  {
   "cell_type": "code",
   "execution_count": 46,
   "metadata": {},
   "outputs": [
    {
     "data": {
      "text/plain": [
       "risk_tolerance                          object\n",
       "investment_experience                   object\n",
       "liquidity_needs                         object\n",
       "platform                                object\n",
       "time_spent                      datetime64[ns]\n",
       "instrument_type_first_traded            object\n",
       "first_deposit_amount                   float64\n",
       "time_horizon                            object\n",
       "user_id                                 object\n",
       "dtype: object"
      ]
     },
     "execution_count": 46,
     "metadata": {},
     "output_type": "execute_result"
    }
   ],
   "source": [
    "features_data['time_spent'] = pd.to_datetime(features_data['time_spent'])\n",
    "features_data.dtypes"
   ]
  },
  {
   "cell_type": "code",
   "execution_count": 47,
   "metadata": {},
   "outputs": [
    {
     "data": {
      "text/plain": [
       "timestamp       datetime64[ns, UTC]\n",
       "close_equity                float64\n",
       "user_id                      object\n",
       "dtype: object"
      ]
     },
     "execution_count": 47,
     "metadata": {},
     "output_type": "execute_result"
    }
   ],
   "source": [
    "equity_data['timestamp'] = pd.to_datetime(equity_data['timestamp'])\n",
    "equity_data.dtypes"
   ]
  },
  {
   "cell_type": "code",
   "execution_count": 48,
   "metadata": {},
   "outputs": [
    {
     "data": {
      "text/plain": [
       "timestamp       datetime64[ns]\n",
       "close_equity           float64\n",
       "user_id                 object\n",
       "dtype: object"
      ]
     },
     "execution_count": 48,
     "metadata": {},
     "output_type": "execute_result"
    }
   ],
   "source": [
    "equity_data['timestamp'] = equity_data['timestamp'].dt.tz_localize(None)\n",
    "equity_data.dtypes"
   ]
  },
  {
   "cell_type": "markdown",
   "metadata": {},
   "source": [
    "## Step 2: Generate the Complete Calendar"
   ]
  },
  {
   "cell_type": "code",
   "execution_count": 49,
   "metadata": {},
   "outputs": [
    {
     "data": {
      "text/plain": [
       "DatetimeIndex(['2016-08-16', '2016-08-17', '2016-08-18', '2016-08-19',\n",
       "               '2016-08-20', '2016-08-21', '2016-08-22', '2016-08-23',\n",
       "               '2016-08-24', '2016-08-25',\n",
       "               ...\n",
       "               '2017-08-09', '2017-08-10', '2017-08-11', '2017-08-12',\n",
       "               '2017-08-13', '2017-08-14', '2017-08-15', '2017-08-16',\n",
       "               '2017-08-17', '2017-08-18'],\n",
       "              dtype='datetime64[ns]', length=368, freq='D')"
      ]
     },
     "execution_count": 49,
     "metadata": {},
     "output_type": "execute_result"
    }
   ],
   "source": [
    "# Get the min and max dates from the equity data\n",
    "min_date = equity_data['timestamp'].min()\n",
    "max_date = equity_data['timestamp'].max()\n",
    "\n",
    "# Create a date range of all calendar dates\n",
    "all_dates = pd.date_range(start=min_date, end=max_date, freq='D')\n",
    "all_dates"
   ]
  },
  {
   "cell_type": "markdown",
   "metadata": {},
   "source": [
    "## Step 3: Identify Market Open and Closed Days"
   ]
  },
  {
   "cell_type": "code",
   "execution_count": 50,
   "metadata": {},
   "outputs": [],
   "source": [
    "# Determine market open days (dates with any data)\n",
    "market_open_days = equity_data['timestamp'].dt.date.unique()\n",
    "\n",
    "# Create a DataFrame for all dates with market status\n",
    "calendar_df = pd.DataFrame({'date': all_dates})\n",
    "calendar_df['market_status'] = calendar_df['date'].dt.date.apply(\n",
    "    lambda x: 'open' if x in market_open_days else 'closed'\n",
    ")\n"
   ]
  },
  {
   "cell_type": "markdown",
   "metadata": {},
   "source": [
    "## Step 4: Prepare User-Date Data"
   ]
  },
  {
   "cell_type": "code",
   "execution_count": 51,
   "metadata": {},
   "outputs": [],
   "source": [
    "# Get the list of all users\n",
    "user_ids = equity_data['user_id'].unique()\n",
    "\n",
    "# Create a MultiIndex with all users and all dates\n",
    "user_date_index = pd.MultiIndex.from_product(\n",
    "    [user_ids, all_dates], names=['user_id', 'date']\n",
    ")\n",
    "\n",
    "# Create a DataFrame with this index\n",
    "user_date_df = pd.DataFrame(index=user_date_index).reset_index()\n",
    "\n",
    "# Merge with the calendar DataFrame to get market status\n",
    "user_date_df = user_date_df.merge(calendar_df, on='date', how='left')"
   ]
  },
  {
   "cell_type": "markdown",
   "metadata": {},
   "source": [
    "## Step 5: Merge Equity Data"
   ]
  },
  {
   "cell_type": "code",
   "execution_count": 52,
   "metadata": {},
   "outputs": [],
   "source": [
    "# print(\"Data types before conversion:\")\n",
    "# print(\"user_date_df['date'] dtype:\", user_date_df['date'].dtype)\n",
    "# print(\"equity_data['date'] dtype:\", equity_data['date'].dtype)\n",
    "\n",
    "# equity_data['date'] = pd.to_datetime(equity_data['date'])\n",
    "# equity_data.dtypes\n"
   ]
  },
  {
   "cell_type": "code",
   "execution_count": 53,
   "metadata": {},
   "outputs": [],
   "source": [
    "# Prepare equity data by setting the index\n",
    "equity_data['date'] = equity_data['timestamp'].dt.date\n",
    "equity_data['date'] = pd.to_datetime(equity_data['date'])\n",
    "\n",
    "equity_data = equity_data[['user_id', 'date', 'close_equity']]\n",
    "\n",
    "# Merge user-date DataFrame with equity data\n",
    "user_date_df = user_date_df.merge(\n",
    "    equity_data, on=['user_id', 'date'], how='left'\n",
    ")\n"
   ]
  },
  {
   "cell_type": "markdown",
   "metadata": {},
   "source": [
    "## Step 6: Determine Equity State"
   ]
  },
  {
   "cell_type": "code",
   "execution_count": 54,
   "metadata": {},
   "outputs": [],
   "source": [
    "# Determine the equity state\n",
    "def determine_state(row):\n",
    "    if pd.notnull(row['close_equity']):\n",
    "        return 'equity_ge_10'\n",
    "    elif row['market_status'] == 'open':\n",
    "        return 'equity_lt_10'\n",
    "    else:\n",
    "        return None  # Will fill this later\n",
    "\n",
    "user_date_df['state'] = user_date_df.apply(determine_state, axis=1)\n"
   ]
  },
  {
   "cell_type": "markdown",
   "metadata": {},
   "source": [
    "## Step 7: Carry Forward the Last Known State"
   ]
  },
  {
   "cell_type": "code",
   "execution_count": 55,
   "metadata": {},
   "outputs": [],
   "source": [
    "# Sort the DataFrame\n",
    "user_date_df = user_date_df.sort_values(['user_id', 'date'])\n",
    "\n",
    "# Group by user and fill forward the state\n",
    "user_date_df['state'] = user_date_df.groupby('user_id')['state'].ffill()\n",
    "\n",
    "# For any remaining missing states at the beginning, fill with 'equity_ge_10'\n",
    "user_date_df['state'] = user_date_df['state'].fillna('equity_ge_10')\n"
   ]
  },
  {
   "cell_type": "markdown",
   "metadata": {},
   "source": [
    "## Step 8: Identify Consecutive Periods of Equity < $10"
   ]
  },
  {
   "cell_type": "code",
   "execution_count": 56,
   "metadata": {},
   "outputs": [],
   "source": [
    "# # Ensure the DataFrame is sorted by 'user_id' and 'date'\n",
    "# user_date_df = user_date_df.sort_values(['user_id', 'date']).reset_index(drop=True)\n",
    "\n",
    "# # Identify consecutive sequences\n",
    "# user_date_df['grp'] = (\n",
    "#     user_date_df.groupby('user_id')['below_10']\n",
    "#     .apply(lambda x: (x != x.shift()).cumsum())\n",
    "#     .reset_index(level=0, drop=True)\n",
    "# )\n",
    "# # Filter only the periods where equity was below $10\n",
    "# # below_10_df = user_date_df[user_date_df['below_10']]\n",
    "# # Option 2\n",
    "# # # Ensure the DataFrame is sorted\n",
    "# # user_date_df = user_date_df.sort_values(['user_id', 'date']).reset_index(drop=True)\n",
    "\n",
    "# # # Identify changes in 'below_10' and compute cumulative sum\n",
    "# # user_date_df['grp'] = user_date_df.groupby('user_id')['below_10'].transform(\n",
    "# #     lambda x: (x != x.shift()).cumsum()\n",
    "# # )\n",
    "# # Option 3\n",
    "# # # Ensure the DataFrame is sorted\n",
    "# # user_date_df = user_date_df.sort_values(['user_id', 'date']).reset_index(drop=True)\n",
    "\n",
    "# # # Identify consecutive sequences\n",
    "# # user_date_df['grp'] = (\n",
    "# #     (user_date_df['below_10'] != user_date_df.groupby('user_id')['below_10'].shift())\n",
    "# #     .astype(int)\n",
    "# #     .groupby(user_date_df['user_id'])\n",
    "# #     .cumsum()\n",
    "# # )\n",
    "\n",
    "# # Final Update\n",
    "# Flag days where equity is less than $10\n",
    "user_date_df['below_10'] = user_date_df['state'] == 'equity_lt_10'\n",
    "\n",
    "# Ensure the DataFrame is sorted\n",
    "user_date_df = user_date_df.sort_values(['user_id', 'date']).reset_index(drop=True)\n",
    "\n",
    "# Identify consecutive sequences without using apply()\n",
    "user_date_df['grp'] = (\n",
    "    (user_date_df['below_10'] != user_date_df.groupby('user_id')['below_10'].shift())\n",
    "    .fillna(1)  # Handle NaN values resulting from the shift\n",
    "    .astype(int)\n",
    "    .groupby(user_date_df['user_id'])\n",
    "    .cumsum()\n",
    ")\n",
    "\n",
    "# Filter only the periods where equity was below $10\n",
    "below_10_df = user_date_df[user_date_df['below_10']]\n",
    "\n"
   ]
  },
  {
   "cell_type": "markdown",
   "metadata": {},
   "source": [
    "## Step 9: Calculate Sequence Lengths"
   ]
  },
  {
   "cell_type": "code",
   "execution_count": 57,
   "metadata": {},
   "outputs": [],
   "source": [
    "# Calculate the length of each sequence\n",
    "sequence_lengths = (\n",
    "    below_10_df.groupby(['user_id', 'grp'])\n",
    "    .agg(start_date=('date', 'min'), end_date=('date', 'max'), num_days=('date', 'count'))\n",
    "    .reset_index()\n",
    ")\n",
    "\n",
    "# Calculate the number of calendar days in each sequence\n",
    "sequence_lengths['num_calendar_days'] = (\n",
    "    sequence_lengths['end_date'] - sequence_lengths['start_date']\n",
    ").dt.days + 1  # Add 1 to include both start and end dates\n",
    "# # Calculate the length of each sequence\n",
    "# sequence_lengths = (\n",
    "#     user_date_df[user_date_df['below_10']]\n",
    "#     .groupby(['user_id', 'grp'])\n",
    "#     .agg(\n",
    "#         start_date=('date', 'min'),\n",
    "#         end_date=('date', 'max'),\n",
    "#         num_days=('date', 'count')\n",
    "#     )\n",
    "#     .reset_index()\n",
    "# )\n",
    "\n",
    "# # Calculate the number of calendar days\n",
    "# sequence_lengths['num_calendar_days'] = (\n",
    "#     sequence_lengths['end_date'] - sequence_lengths['start_date']\n",
    "# ).dt.days + 1\n"
   ]
  },
  {
   "cell_type": "markdown",
   "metadata": {},
   "source": [
    "## Step 10: Identify Users Who Have Churned"
   ]
  },
  {
   "cell_type": "code",
   "execution_count": 58,
   "metadata": {},
   "outputs": [],
   "source": [
    "# Identify sequences where num_calendar_days >= 28\n",
    "churned_sequences = sequence_lengths[sequence_lengths['num_calendar_days'] >= 28]\n",
    "\n",
    "# Get the list of churned users\n",
    "churned_users = churned_sequences['user_id'].unique()\n",
    "\n",
    "# # Identify sequences where num_calendar_days >= 28\n",
    "# churned_sequences = sequence_lengths[sequence_lengths['num_calendar_days'] >= 28]\n",
    "\n",
    "# # Get the list of churned users\n",
    "# churned_users = churned_sequences['user_id'].unique()\n"
   ]
  },
  {
   "cell_type": "markdown",
   "metadata": {},
   "source": [
    "## Step 11: Calculate the Percentage of Users Who Have Churned"
   ]
  },
  {
   "cell_type": "code",
   "execution_count": 59,
   "metadata": {},
   "outputs": [
    {
     "name": "stdout",
     "output_type": "stream",
     "text": [
      "Percentage of users who have churned: 45.38%\n"
     ]
    }
   ],
   "source": [
    "total_users = len(user_ids)\n",
    "num_churned_users = len(churned_users)\n",
    "percentage_churned = (num_churned_users / total_users) * 100\n",
    "\n",
    "print(f\"Percentage of users who have churned: {percentage_churned:.2f}%\")\n",
    "# # Ensure the DataFrame is sorted\n",
    "# user_date_df = user_date_df.sort_values(['user_id', 'date']).reset_index(drop=True)\n",
    "\n",
    "# # Identify consecutive sequences\n",
    "# user_date_df['grp'] = (\n",
    "#     (user_date_df['below_10'] != user_date_df.groupby('user_id')['below_10'].shift())\n",
    "#     .astype(int)\n",
    "#     .groupby(user_date_df['user_id'])\n",
    "#     .cumsum()\n",
    "# )"
   ]
  },
  {
   "cell_type": "code",
   "execution_count": null,
   "metadata": {},
   "outputs": [],
   "source": []
  }
 ],
 "metadata": {
  "kernelspec": {
   "display_name": "venv",
   "language": "python",
   "name": "python3"
  },
  "language_info": {
   "codemirror_mode": {
    "name": "ipython",
    "version": 3
   },
   "file_extension": ".py",
   "mimetype": "text/x-python",
   "name": "python",
   "nbconvert_exporter": "python",
   "pygments_lexer": "ipython3",
   "version": "3.8.5"
  }
 },
 "nbformat": 4,
 "nbformat_minor": 2
}
