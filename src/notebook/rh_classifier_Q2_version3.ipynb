{
 "cells": [
  {
   "cell_type": "code",
   "execution_count": 1,
   "metadata": {},
   "outputs": [
    {
     "name": "stderr",
     "output_type": "stream",
     "text": [
      "IProgress not found. Please update jupyter and ipywidgets. See https://ipywidgets.readthedocs.io/en/stable/user_install.html\n",
      "'PYARROW_IGNORE_TIMEZONE' environment variable was not set. It is required to set this environment variable to '1' in both driver and executor sides if you use pyarrow>=2.0.0. pandas-on-Spark will set it for you but it does not work if there is a Spark context already launched.\n"
     ]
    }
   ],
   "source": [
    "# Data Manipulation and Handling\n",
    "import polars as pl\n",
    "import pandas as pd\n",
    "import numpy as np\n",
    "import psycopg2\n",
    "\n",
    "# DB Credentials\n",
    "from dotenv import load_dotenv\n",
    "import os\n",
    "import sys\n",
    "from sqlalchemy import create_engine\n",
    "\n",
    "# Machine Learning Libraries\n",
    "import torch\n",
    "import xgboost as xgb\n",
    "import lightgbm as lgb\n",
    "# from catboost import CatBoostClassifier\n",
    "from sklearn.model_selection import train_test_split, GridSearchCV\n",
    "from sklearn.preprocessing import StandardScaler, LabelEncoder\n",
    "from sklearn.linear_model import LogisticRegression\n",
    "from sklearn.ensemble import RandomForestClassifier\n",
    "from sklearn.pipeline import Pipeline\n",
    "from sklearn.metrics import accuracy_score, confusion_matrix, classification_report, roc_auc_score, roc_curve\n",
    "\n",
    "# Visualization\n",
    "import matplotlib.pyplot as plt\n",
    "import seaborn as sns\n",
    "\n",
    "# Handling Imbalanced Data\n",
    "from imblearn.over_sampling import SMOTE\n",
    "from imblearn.under_sampling import RandomUnderSampler\n",
    "from imblearn.pipeline import Pipeline as ImbPipeline\n",
    "\n",
    "# Gradient Boosting Libraries\n",
    "from xgboost import XGBClassifier\n",
    "from lightgbm import LGBMClassifier\n",
    "\n",
    "# Model Lifecycle Management\n",
    "import mlflow\n",
    "import mlflow.sklearn\n",
    "\n",
    "# Distributed Computing\n",
    "from pyspark.sql import SparkSession\n",
    "from pyspark.ml.feature import VectorAssembler\n",
    "from pyspark.ml.classification import RandomForestClassifier as SparkRFClassifier\n",
    "\n",
    "# Model Interpretability\n",
    "import shap\n",
    "\n",
    "# Hyperparameter Optimization\n",
    "import optuna\n",
    "\n",
    "# Automated Feature Engineering\n",
    "import featuretools as ft\n",
    "\n",
    "# Add parent directory to sys.path\n",
    "current_dir = os.getcwd()\n",
    "parent_dir = os.path.abspath(os.path.join(current_dir, os.pardir))\n",
    "if parent_dir not in sys.path:\n",
    "    sys.path.insert(0, parent_dir)\n",
    "\n",
    "# Custom Modules\n",
    "from fetch_data_hook import fetch_sql_code, fetch_sql_file"
   ]
  },
  {
   "cell_type": "markdown",
   "metadata": {},
   "source": [
    "# ML Pipeline Flow"
   ]
  },
  {
   "cell_type": "code",
   "execution_count": 2,
   "metadata": {},
   "outputs": [],
   "source": [
    "# 1. EDA Analysis\n",
    "# 2. Feature Engineering\n",
    "# 3. Train-Test Split\n",
    "# 4. Feature Scaling: {normalization/standardization, dimension reduction techniques, handling imbalance datasets/sampling}\n",
    "# 5. Model Training -> Tuning -> Evaluating\n",
    "# 6. Model Prediction\n",
    "# 7. Model Deployment"
   ]
  },
  {
   "cell_type": "code",
   "execution_count": 3,
   "metadata": {},
   "outputs": [
    {
     "data": {
      "text/html": [
       "<div>\n",
       "<style scoped>\n",
       "    .dataframe tbody tr th:only-of-type {\n",
       "        vertical-align: middle;\n",
       "    }\n",
       "\n",
       "    .dataframe tbody tr th {\n",
       "        vertical-align: top;\n",
       "    }\n",
       "\n",
       "    .dataframe thead th {\n",
       "        text-align: right;\n",
       "    }\n",
       "</style>\n",
       "<table border=\"1\" class=\"dataframe\">\n",
       "  <thead>\n",
       "    <tr style=\"text-align: right;\">\n",
       "      <th></th>\n",
       "      <th>risk_tolerance</th>\n",
       "      <th>investment_experience</th>\n",
       "      <th>liquidity_needs</th>\n",
       "      <th>platform</th>\n",
       "      <th>time_spent</th>\n",
       "      <th>instrument_type_first_traded</th>\n",
       "      <th>first_deposit_amount</th>\n",
       "      <th>time_horizon</th>\n",
       "      <th>user_id</th>\n",
       "      <th>churn_flag</th>\n",
       "    </tr>\n",
       "  </thead>\n",
       "  <tbody>\n",
       "    <tr>\n",
       "      <th>0</th>\n",
       "      <td>high_risk_tolerance</td>\n",
       "      <td>limited_investment_exp</td>\n",
       "      <td>very_important_liq_need</td>\n",
       "      <td>Android</td>\n",
       "      <td>33.129417</td>\n",
       "      <td>stock</td>\n",
       "      <td>40.0</td>\n",
       "      <td>med_time_horizon</td>\n",
       "      <td>895044c23edc821881e87da749c01034</td>\n",
       "      <td>0</td>\n",
       "    </tr>\n",
       "    <tr>\n",
       "      <th>1</th>\n",
       "      <td>med_risk_tolerance</td>\n",
       "      <td>limited_investment_exp</td>\n",
       "      <td>very_important_liq_need</td>\n",
       "      <td>Android</td>\n",
       "      <td>16.573517</td>\n",
       "      <td>stock</td>\n",
       "      <td>200.0</td>\n",
       "      <td>short_time_horizon</td>\n",
       "      <td>458b1d95441ced242949deefe8e4b638</td>\n",
       "      <td>0</td>\n",
       "    </tr>\n",
       "    <tr>\n",
       "      <th>2</th>\n",
       "      <td>med_risk_tolerance</td>\n",
       "      <td>limited_investment_exp</td>\n",
       "      <td>very_important_liq_need</td>\n",
       "      <td>iOS</td>\n",
       "      <td>10.008367</td>\n",
       "      <td>stock</td>\n",
       "      <td>25.0</td>\n",
       "      <td>long_time_horizon</td>\n",
       "      <td>c7936f653d293479e034865db9bb932f</td>\n",
       "      <td>0</td>\n",
       "    </tr>\n",
       "    <tr>\n",
       "      <th>3</th>\n",
       "      <td>med_risk_tolerance</td>\n",
       "      <td>limited_investment_exp</td>\n",
       "      <td>very_important_liq_need</td>\n",
       "      <td>Android</td>\n",
       "      <td>1.031633</td>\n",
       "      <td>stock</td>\n",
       "      <td>100.0</td>\n",
       "      <td>short_time_horizon</td>\n",
       "      <td>b255d4bd6c9ba194d3a350b3e76c6393</td>\n",
       "      <td>0</td>\n",
       "    </tr>\n",
       "    <tr>\n",
       "      <th>4</th>\n",
       "      <td>high_risk_tolerance</td>\n",
       "      <td>limited_investment_exp</td>\n",
       "      <td>very_important_liq_need</td>\n",
       "      <td>Android</td>\n",
       "      <td>8.187250</td>\n",
       "      <td>stock</td>\n",
       "      <td>20.0</td>\n",
       "      <td>long_time_horizon</td>\n",
       "      <td>4a168225e89375b8de605cbc0977ae91</td>\n",
       "      <td>0</td>\n",
       "    </tr>\n",
       "    <tr>\n",
       "      <th>...</th>\n",
       "      <td>...</td>\n",
       "      <td>...</td>\n",
       "      <td>...</td>\n",
       "      <td>...</td>\n",
       "      <td>...</td>\n",
       "      <td>...</td>\n",
       "      <td>...</td>\n",
       "      <td>...</td>\n",
       "      <td>...</td>\n",
       "      <td>...</td>\n",
       "    </tr>\n",
       "    <tr>\n",
       "      <th>5579</th>\n",
       "      <td>high_risk_tolerance</td>\n",
       "      <td>limited_investment_exp</td>\n",
       "      <td>very_important_liq_need</td>\n",
       "      <td>Android</td>\n",
       "      <td>8.339283</td>\n",
       "      <td>stock</td>\n",
       "      <td>300.0</td>\n",
       "      <td>long_time_horizon</td>\n",
       "      <td>03880c726d8a4e5db006afe4119ad974</td>\n",
       "      <td>0</td>\n",
       "    </tr>\n",
       "    <tr>\n",
       "      <th>5580</th>\n",
       "      <td>med_risk_tolerance</td>\n",
       "      <td>limited_investment_exp</td>\n",
       "      <td>somewhat_important_liq_need</td>\n",
       "      <td>iOS</td>\n",
       "      <td>7.241383</td>\n",
       "      <td>stock</td>\n",
       "      <td>100.0</td>\n",
       "      <td>short_time_horizon</td>\n",
       "      <td>ae8315109657f44852b24c6bca4decd6</td>\n",
       "      <td>1</td>\n",
       "    </tr>\n",
       "    <tr>\n",
       "      <th>5581</th>\n",
       "      <td>med_risk_tolerance</td>\n",
       "      <td>no_investment_exp</td>\n",
       "      <td>very_important_liq_need</td>\n",
       "      <td>both</td>\n",
       "      <td>22.967167</td>\n",
       "      <td>stock</td>\n",
       "      <td>50.0</td>\n",
       "      <td>short_time_horizon</td>\n",
       "      <td>f29c174989f9737058fe808fcf264135</td>\n",
       "      <td>0</td>\n",
       "    </tr>\n",
       "    <tr>\n",
       "      <th>5582</th>\n",
       "      <td>med_risk_tolerance</td>\n",
       "      <td>limited_investment_exp</td>\n",
       "      <td>somewhat_important_liq_need</td>\n",
       "      <td>iOS</td>\n",
       "      <td>10.338417</td>\n",
       "      <td>stock</td>\n",
       "      <td>100.0</td>\n",
       "      <td>long_time_horizon</td>\n",
       "      <td>24843497d1de88b2e7233f694436cb3a</td>\n",
       "      <td>0</td>\n",
       "    </tr>\n",
       "    <tr>\n",
       "      <th>5583</th>\n",
       "      <td>high_risk_tolerance</td>\n",
       "      <td>limited_investment_exp</td>\n",
       "      <td>somewhat_important_liq_need</td>\n",
       "      <td>iOS</td>\n",
       "      <td>18.470950</td>\n",
       "      <td>stock</td>\n",
       "      <td>50.0</td>\n",
       "      <td>long_time_horizon</td>\n",
       "      <td>49ee0531ee9dfbce0e7d9afa1c3d86f4</td>\n",
       "      <td>0</td>\n",
       "    </tr>\n",
       "  </tbody>\n",
       "</table>\n",
       "<p>5584 rows × 10 columns</p>\n",
       "</div>"
      ],
      "text/plain": [
       "           risk_tolerance   investment_experience  \\\n",
       "0     high_risk_tolerance  limited_investment_exp   \n",
       "1      med_risk_tolerance  limited_investment_exp   \n",
       "2      med_risk_tolerance  limited_investment_exp   \n",
       "3      med_risk_tolerance  limited_investment_exp   \n",
       "4     high_risk_tolerance  limited_investment_exp   \n",
       "...                   ...                     ...   \n",
       "5579  high_risk_tolerance  limited_investment_exp   \n",
       "5580   med_risk_tolerance  limited_investment_exp   \n",
       "5581   med_risk_tolerance       no_investment_exp   \n",
       "5582   med_risk_tolerance  limited_investment_exp   \n",
       "5583  high_risk_tolerance  limited_investment_exp   \n",
       "\n",
       "                  liquidity_needs platform  time_spent  \\\n",
       "0         very_important_liq_need  Android   33.129417   \n",
       "1         very_important_liq_need  Android   16.573517   \n",
       "2         very_important_liq_need      iOS   10.008367   \n",
       "3         very_important_liq_need  Android    1.031633   \n",
       "4         very_important_liq_need  Android    8.187250   \n",
       "...                           ...      ...         ...   \n",
       "5579      very_important_liq_need  Android    8.339283   \n",
       "5580  somewhat_important_liq_need      iOS    7.241383   \n",
       "5581      very_important_liq_need     both   22.967167   \n",
       "5582  somewhat_important_liq_need      iOS   10.338417   \n",
       "5583  somewhat_important_liq_need      iOS   18.470950   \n",
       "\n",
       "     instrument_type_first_traded  first_deposit_amount        time_horizon  \\\n",
       "0                           stock                  40.0    med_time_horizon   \n",
       "1                           stock                 200.0  short_time_horizon   \n",
       "2                           stock                  25.0   long_time_horizon   \n",
       "3                           stock                 100.0  short_time_horizon   \n",
       "4                           stock                  20.0   long_time_horizon   \n",
       "...                           ...                   ...                 ...   \n",
       "5579                        stock                 300.0   long_time_horizon   \n",
       "5580                        stock                 100.0  short_time_horizon   \n",
       "5581                        stock                  50.0  short_time_horizon   \n",
       "5582                        stock                 100.0   long_time_horizon   \n",
       "5583                        stock                  50.0   long_time_horizon   \n",
       "\n",
       "                               user_id  churn_flag  \n",
       "0     895044c23edc821881e87da749c01034           0  \n",
       "1     458b1d95441ced242949deefe8e4b638           0  \n",
       "2     c7936f653d293479e034865db9bb932f           0  \n",
       "3     b255d4bd6c9ba194d3a350b3e76c6393           0  \n",
       "4     4a168225e89375b8de605cbc0977ae91           0  \n",
       "...                                ...         ...  \n",
       "5579  03880c726d8a4e5db006afe4119ad974           0  \n",
       "5580  ae8315109657f44852b24c6bca4decd6           1  \n",
       "5581  f29c174989f9737058fe808fcf264135           0  \n",
       "5582  24843497d1de88b2e7233f694436cb3a           0  \n",
       "5583  49ee0531ee9dfbce0e7d9afa1c3d86f4           0  \n",
       "\n",
       "[5584 rows x 10 columns]"
      ]
     },
     "execution_count": 3,
     "metadata": {},
     "output_type": "execute_result"
    }
   ],
   "source": [
    "churn_df = fetch_sql_code('''\n",
    "WITH temp1 AS (\n",
    "    SELECT\n",
    "        *,\n",
    "        ROW_NUMBER() OVER (PARTITION BY user_id ORDER BY timestamp) AS rn,\n",
    "        timestamp::date - ROW_NUMBER() OVER (PARTITION BY user_id ORDER BY timestamp)::int AS streak_id\n",
    "    FROM\n",
    "        equity_value_data\n",
    "),\n",
    "temp2 AS (\n",
    "    SELECT\n",
    "        user_id,\n",
    "        MIN(timestamp::date) AS start_streak_date,\n",
    "        MAX(timestamp::date) AS end_streak_date,\n",
    "        COUNT(*) AS duration_of_above10_streak\n",
    "    FROM\n",
    "        temp1\n",
    "    GROUP BY\n",
    "        user_id, streak_id\n",
    "),\n",
    "temp3 AS (\n",
    "    SELECT\n",
    "        *,\n",
    "        LAG(end_streak_date) OVER (PARTITION BY user_id ORDER BY start_streak_date ASC) AS prev_above10_streak_date,\n",
    "        start_streak_date - LAG(end_streak_date) OVER (PARTITION BY user_id ORDER BY start_streak_date ASC) AS duration_between_above10_streaks\n",
    "    FROM\n",
    "        temp2\n",
    ")\n",
    "SELECT distinct user_id\n",
    "FROM temp3\n",
    "WHERE duration_between_above10_streaks >= 28\n",
    "''')\n",
    "churn_df\n",
    "churn_users = set(churn_df['user_id'].tolist())\n",
    "\n",
    "df = fetch_sql_code('''\n",
    "select * from features_data\n",
    "''')\n",
    "\n",
    "df['churn_flag'] = df['user_id'].apply(lambda x: 1 if x in churn_users else 0 )\n",
    "df\n"
   ]
  },
  {
   "cell_type": "code",
   "execution_count": 4,
   "metadata": {},
   "outputs": [
    {
     "data": {
      "text/plain": [
       "\"\\n1. Data Preprocessing: This step will involve reading the dataset, handling categorical and numerical columns, scaling the data, and feature engineering.\\n2. Handling Imbalance: Using SMOTE to oversample the minority class (churners).\\n3. Automated Hyperparameter Tuning: We'll use Optuna to automatically select the best model (among XGBoost, LightGBM, RandomForest, and Logistic Regression) based on the AUC score.\\n4. Final Model Training and Evaluation: After Optuna selects the best model, it will be retrained on the full resampled dataset, and we will evaluate the model's performance.\\n5. Feature Importance Analysis with SHAP: Finally, we'll interpret the model using SHAP to gain insights into which features are most influential.\""
      ]
     },
     "execution_count": 4,
     "metadata": {},
     "output_type": "execute_result"
    }
   ],
   "source": [
    "'''\n",
    "1. Data Preprocessing: This step will involve reading the dataset, handling categorical and numerical columns, scaling the data, and feature engineering.\n",
    "2. Handling Imbalance: Using SMOTE to oversample the minority class (churners).\n",
    "3. Automated Hyperparameter Tuning: We'll use Optuna to automatically select the best model (among XGBoost, LightGBM, RandomForest, and Logistic Regression) based on the AUC score.\n",
    "4. Final Model Training and Evaluation: After Optuna selects the best model, it will be retrained on the full resampled dataset, and we will evaluate the model's performance.\n",
    "5. Feature Importance Analysis with SHAP: Finally, we'll interpret the model using SHAP to gain insights into which features are most influential.'''"
   ]
  },
  {
   "cell_type": "markdown",
   "metadata": {},
   "source": [
    "### Step 1: Data Preprocessing and Feature Engineering"
   ]
  },
  {
   "cell_type": "code",
   "execution_count": 5,
   "metadata": {},
   "outputs": [
    {
     "data": {
      "text/plain": [
       "'Data Preprocessing: Label encoding, scaling, and feature engineering.\\nHandling Imbalanced Data: SMOTE was used to oversample the minority class.\\nModeling and Hyperparameter Tuning: Models like XGBoost, LightGBM, RandomForest, and Logistic Regression were optimized using Optuna.\\nEvaluation: The best model was chosen based on the highest AUC score.\\nExplainability: SHAP was used to interpret the best model’s predictions.'"
      ]
     },
     "execution_count": 5,
     "metadata": {},
     "output_type": "execute_result"
    }
   ],
   "source": [
    "'''Data Preprocessing: Label encoding, scaling, and feature engineering.\n",
    "Handling Imbalanced Data: SMOTE was used to oversample the minority class.\n",
    "Modeling and Hyperparameter Tuning: Models like XGBoost, LightGBM, RandomForest, and Logistic Regression were optimized using Optuna.\n",
    "Evaluation: The best model was chosen based on the highest AUC score.\n",
    "Explainability: SHAP was used to interpret the best model’s predictions.'''"
   ]
  },
  {
   "cell_type": "code",
   "execution_count": 6,
   "metadata": {},
   "outputs": [],
   "source": [
    "# Label encoding for categorical variables\n",
    "label_enc = LabelEncoder()\n",
    "df['risk_tolerance'] = label_enc.fit_transform(df['risk_tolerance'])\n",
    "df['investment_experience'] = label_enc.fit_transform(df['investment_experience'])\n",
    "df['liquidity_needs'] = label_enc.fit_transform(df['liquidity_needs'])\n",
    "df['platform'] = label_enc.fit_transform(df['platform'])\n",
    "df['time_horizon'] = label_enc.fit_transform(df['time_horizon'])\n",
    "\n",
    "# Scaling the numerical features\n",
    "scaler = StandardScaler()\n",
    "df[['time_spent', 'first_deposit_amount']] = scaler.fit_transform(df[['time_spent', 'first_deposit_amount']])\n",
    "\n",
    "# Feature Engineering: Additional features\n",
    "df['deposit_per_time'] = df['first_deposit_amount'] / (df['time_spent'] + 1)  # Avoid division by zero\n",
    "df['is_high_risk'] = (df['risk_tolerance'] == 0).astype(int)  # Assuming 0 = high risk\n",
    "\n",
    "\n",
    "# Split the dataset into features and target\n",
    "X = df.drop(columns=['user_id', 'churn_flag'])\n",
    "\n",
    "# One-hot encode categorical variables\n",
    "X = pd.get_dummies(X, drop_first=True)\n",
    "\n",
    "y = df['churn_flag']\n",
    "\n",
    "# Handle imbalance using SMOTE\n",
    "smote = SMOTE(random_state=42)\n",
    "X_original = X  # Store the original feature matrix\n",
    "y_original = y  # Store the original target variable\n",
    "X_resampled, y_resampled = smote.fit_resample(X_original, y_original)\n"
   ]
  },
  {
   "cell_type": "code",
   "execution_count": 7,
   "metadata": {},
   "outputs": [],
   "source": [
    "# Train-test split\n",
    "X_train, X_test, y_train, y_test = train_test_split(X_resampled, y_resampled, test_size=0.3, random_state=42)\n"
   ]
  },
  {
   "cell_type": "code",
   "execution_count": 8,
   "metadata": {},
   "outputs": [],
   "source": [
    "import optuna\n",
    "\n",
    "# Define the objective function for hyperparameter tuning\n",
    "def objective(trial):\n",
    "    # Suggest model type\n",
    "    model_type = trial.suggest_categorical('model_type', ['xgboost', 'lightgbm', 'randomforest', 'logistic'])\n",
    "\n",
    "    if model_type == 'xgboost':\n",
    "        model = xgb.XGBClassifier(\n",
    "            max_depth=trial.suggest_int('max_depth', 3, 10),\n",
    "            learning_rate=trial.suggest_loguniform('learning_rate', 0.01, 0.3),\n",
    "            n_estimators=trial.suggest_int('n_estimators', 50, 300),\n",
    "            subsample=trial.suggest_uniform('subsample', 0.6, 1.0)\n",
    "        )\n",
    "\n",
    "    elif model_type == 'lightgbm':\n",
    "        model = lgb.LGBMClassifier(\n",
    "            num_leaves=trial.suggest_int('num_leaves', 20, 150),\n",
    "            learning_rate=trial.suggest_loguniform('learning_rate', 0.01, 0.3),\n",
    "            n_estimators=trial.suggest_int('n_estimators', 50, 300),\n",
    "            feature_fraction=trial.suggest_uniform('feature_fraction', 0.6, 1.0)\n",
    "        )\n",
    "\n",
    "    elif model_type == 'randomforest':\n",
    "        model = RandomForestClassifier(\n",
    "            max_depth=trial.suggest_int('max_depth', 3, 10),\n",
    "            n_estimators=trial.suggest_int('n_estimators', 50, 300),\n",
    "            max_features=trial.suggest_categorical('max_features', ['sqrt', 'log2', None])\n",
    "        )\n",
    "\n",
    "    elif model_type == 'logistic':\n",
    "        model = LogisticRegression(\n",
    "            penalty=trial.suggest_categorical('penalty', ['l1', 'l2']),\n",
    "            C=trial.suggest_float('C', 0.01, 10, log=True),\n",
    "            solver='liblinear'\n",
    "        )\n",
    "\n",
    "    # Train the model\n",
    "    model.fit(X_train, y_train)\n",
    "\n",
    "    # Make predictions on the test set\n",
    "    y_pred = model.predict(X_test)\n",
    "\n",
    "    # Compute AUC score\n",
    "    auc = roc_auc_score(y_test, y_pred)\n",
    "\n",
    "    return auc\n"
   ]
  },
  {
   "cell_type": "code",
   "execution_count": 9,
   "metadata": {},
   "outputs": [
    {
     "name": "stderr",
     "output_type": "stream",
     "text": [
      "[I 2024-10-03 19:41:57,707] A new study created in memory with name: no-name-c38e26de-4475-4ab5-8e98-4332b43a6580\n",
      "C:\\Users\\cheng\\AppData\\Local\\Temp\\ipykernel_19784\\2020316554.py:11: FutureWarning: suggest_loguniform has been deprecated in v3.0.0. This feature will be removed in v6.0.0. See https://github.com/optuna/optuna/releases/tag/v3.0.0. Use suggest_float(..., log=True) instead.\n",
      "  learning_rate=trial.suggest_loguniform('learning_rate', 0.01, 0.3),\n",
      "C:\\Users\\cheng\\AppData\\Local\\Temp\\ipykernel_19784\\2020316554.py:13: FutureWarning: suggest_uniform has been deprecated in v3.0.0. This feature will be removed in v6.0.0. See https://github.com/optuna/optuna/releases/tag/v3.0.0. Use suggest_float instead.\n",
      "  subsample=trial.suggest_uniform('subsample', 0.6, 1.0)\n",
      "[I 2024-10-03 19:41:58,521] Trial 0 finished with value: 0.8985162377337237 and parameters: {'model_type': 'xgboost', 'max_depth': 7, 'learning_rate': 0.081336624536688, 'n_estimators': 293, 'subsample': 0.7079838683836442}. Best is trial 0 with value: 0.8985162377337237.\n",
      "[I 2024-10-03 19:41:58,577] Trial 1 finished with value: 0.6093504511556742 and parameters: {'model_type': 'logistic', 'penalty': 'l1', 'C': 0.017179197062779723}. Best is trial 0 with value: 0.8985162377337237.\n",
      "C:\\Users\\cheng\\AppData\\Local\\Temp\\ipykernel_19784\\2020316554.py:11: FutureWarning: suggest_loguniform has been deprecated in v3.0.0. This feature will be removed in v6.0.0. See https://github.com/optuna/optuna/releases/tag/v3.0.0. Use suggest_float(..., log=True) instead.\n",
      "  learning_rate=trial.suggest_loguniform('learning_rate', 0.01, 0.3),\n",
      "C:\\Users\\cheng\\AppData\\Local\\Temp\\ipykernel_19784\\2020316554.py:13: FutureWarning: suggest_uniform has been deprecated in v3.0.0. This feature will be removed in v6.0.0. See https://github.com/optuna/optuna/releases/tag/v3.0.0. Use suggest_float instead.\n",
      "  subsample=trial.suggest_uniform('subsample', 0.6, 1.0)\n",
      "[I 2024-10-03 19:41:58,744] Trial 2 finished with value: 0.8402471304634941 and parameters: {'model_type': 'xgboost', 'max_depth': 4, 'learning_rate': 0.05394620267012436, 'n_estimators': 112, 'subsample': 0.7377064070988877}. Best is trial 0 with value: 0.8985162377337237.\n",
      "C:\\Users\\cheng\\AppData\\Local\\Temp\\ipykernel_19784\\2020316554.py:19: FutureWarning: suggest_loguniform has been deprecated in v3.0.0. This feature will be removed in v6.0.0. See https://github.com/optuna/optuna/releases/tag/v3.0.0. Use suggest_float(..., log=True) instead.\n",
      "  learning_rate=trial.suggest_loguniform('learning_rate', 0.01, 0.3),\n",
      "C:\\Users\\cheng\\AppData\\Local\\Temp\\ipykernel_19784\\2020316554.py:21: FutureWarning: suggest_uniform has been deprecated in v3.0.0. This feature will be removed in v6.0.0. See https://github.com/optuna/optuna/releases/tag/v3.0.0. Use suggest_float instead.\n",
      "  feature_fraction=trial.suggest_uniform('feature_fraction', 0.6, 1.0)\n"
     ]
    },
    {
     "name": "stdout",
     "output_type": "stream",
     "text": [
      "[LightGBM] [Warning] feature_fraction is set=0.9940930552591927, colsample_bytree=1.0 will be ignored. Current value: feature_fraction=0.9940930552591927\n",
      "[LightGBM] [Warning] feature_fraction is set=0.9940930552591927, colsample_bytree=1.0 will be ignored. Current value: feature_fraction=0.9940930552591927\n",
      "[LightGBM] [Info] Number of positive: 3744, number of negative: 3683\n",
      "[LightGBM] [Info] Auto-choosing row-wise multi-threading, the overhead of testing was 0.000553 seconds.\n",
      "You can set `force_row_wise=true` to remove the overhead.\n",
      "And if memory is not enough, you can set `force_col_wise=true`.\n",
      "[LightGBM] [Info] Total Bins 797\n",
      "[LightGBM] [Info] Number of data points in the train set: 7427, number of used features: 16\n",
      "[LightGBM] [Info] [binary:BoostFromScore]: pavg=0.504107 -> initscore=0.016427\n",
      "[LightGBM] [Info] Start training from score 0.016427\n"
     ]
    },
    {
     "name": "stderr",
     "output_type": "stream",
     "text": [
      "[I 2024-10-03 19:41:59,287] Trial 3 finished with value: 0.8865635547733717 and parameters: {'model_type': 'lightgbm', 'num_leaves': 45, 'learning_rate': 0.01069524849353468, 'n_estimators': 265, 'feature_fraction': 0.9940930552591927}. Best is trial 0 with value: 0.8985162377337237.\n"
     ]
    },
    {
     "name": "stdout",
     "output_type": "stream",
     "text": [
      "[LightGBM] [Warning] feature_fraction is set=0.9940930552591927, colsample_bytree=1.0 will be ignored. Current value: feature_fraction=0.9940930552591927\n"
     ]
    },
    {
     "name": "stderr",
     "output_type": "stream",
     "text": [
      "C:\\Users\\cheng\\AppData\\Local\\Temp\\ipykernel_19784\\2020316554.py:11: FutureWarning: suggest_loguniform has been deprecated in v3.0.0. This feature will be removed in v6.0.0. See https://github.com/optuna/optuna/releases/tag/v3.0.0. Use suggest_float(..., log=True) instead.\n",
      "  learning_rate=trial.suggest_loguniform('learning_rate', 0.01, 0.3),\n",
      "C:\\Users\\cheng\\AppData\\Local\\Temp\\ipykernel_19784\\2020316554.py:13: FutureWarning: suggest_uniform has been deprecated in v3.0.0. This feature will be removed in v6.0.0. See https://github.com/optuna/optuna/releases/tag/v3.0.0. Use suggest_float instead.\n",
      "  subsample=trial.suggest_uniform('subsample', 0.6, 1.0)\n",
      "[I 2024-10-03 19:41:59,768] Trial 4 finished with value: 0.8744258359788653 and parameters: {'model_type': 'xgboost', 'max_depth': 6, 'learning_rate': 0.030977248468497986, 'n_estimators': 290, 'subsample': 0.8477889505328072}. Best is trial 0 with value: 0.8985162377337237.\n",
      "[I 2024-10-03 19:41:59,834] Trial 5 finished with value: 0.6394253896811223 and parameters: {'model_type': 'logistic', 'penalty': 'l2', 'C': 2.1107976613236605}. Best is trial 0 with value: 0.8985162377337237.\n",
      "C:\\Users\\cheng\\AppData\\Local\\Temp\\ipykernel_19784\\2020316554.py:11: FutureWarning: suggest_loguniform has been deprecated in v3.0.0. This feature will be removed in v6.0.0. See https://github.com/optuna/optuna/releases/tag/v3.0.0. Use suggest_float(..., log=True) instead.\n",
      "  learning_rate=trial.suggest_loguniform('learning_rate', 0.01, 0.3),\n",
      "C:\\Users\\cheng\\AppData\\Local\\Temp\\ipykernel_19784\\2020316554.py:13: FutureWarning: suggest_uniform has been deprecated in v3.0.0. This feature will be removed in v6.0.0. See https://github.com/optuna/optuna/releases/tag/v3.0.0. Use suggest_float instead.\n",
      "  subsample=trial.suggest_uniform('subsample', 0.6, 1.0)\n",
      "[I 2024-10-03 19:42:00,419] Trial 6 finished with value: 0.8755554037177788 and parameters: {'model_type': 'xgboost', 'max_depth': 8, 'learning_rate': 0.016178452844102187, 'n_estimators': 217, 'subsample': 0.849751466139772}. Best is trial 0 with value: 0.8985162377337237.\n",
      "[I 2024-10-03 19:42:03,703] Trial 7 finished with value: 0.768152864481098 and parameters: {'model_type': 'randomforest', 'max_depth': 5, 'n_estimators': 190, 'max_features': None}. Best is trial 0 with value: 0.8985162377337237.\n",
      "[I 2024-10-03 19:42:04,323] Trial 8 finished with value: 0.7072134748742269 and parameters: {'model_type': 'randomforest', 'max_depth': 5, 'n_estimators': 111, 'max_features': 'log2'}. Best is trial 0 with value: 0.8985162377337237.\n",
      "[I 2024-10-03 19:42:04,374] Trial 9 finished with value: 0.6430330947549351 and parameters: {'model_type': 'logistic', 'penalty': 'l2', 'C': 0.8671685384370258}. Best is trial 0 with value: 0.8985162377337237.\n",
      "C:\\Users\\cheng\\AppData\\Local\\Temp\\ipykernel_19784\\2020316554.py:19: FutureWarning: suggest_loguniform has been deprecated in v3.0.0. This feature will be removed in v6.0.0. See https://github.com/optuna/optuna/releases/tag/v3.0.0. Use suggest_float(..., log=True) instead.\n",
      "  learning_rate=trial.suggest_loguniform('learning_rate', 0.01, 0.3),\n",
      "C:\\Users\\cheng\\AppData\\Local\\Temp\\ipykernel_19784\\2020316554.py:21: FutureWarning: suggest_uniform has been deprecated in v3.0.0. This feature will be removed in v6.0.0. See https://github.com/optuna/optuna/releases/tag/v3.0.0. Use suggest_float instead.\n",
      "  feature_fraction=trial.suggest_uniform('feature_fraction', 0.6, 1.0)\n"
     ]
    },
    {
     "name": "stdout",
     "output_type": "stream",
     "text": [
      "[LightGBM] [Warning] feature_fraction is set=0.6114834503180508, colsample_bytree=1.0 will be ignored. Current value: feature_fraction=0.6114834503180508\n",
      "[LightGBM] [Warning] feature_fraction is set=0.6114834503180508, colsample_bytree=1.0 will be ignored. Current value: feature_fraction=0.6114834503180508\n",
      "[LightGBM] [Info] Number of positive: 3744, number of negative: 3683\n",
      "[LightGBM] [Info] Auto-choosing col-wise multi-threading, the overhead of testing was 0.000916 seconds.\n",
      "You can set `force_col_wise=true` to remove the overhead.\n",
      "[LightGBM] [Info] Total Bins 797\n",
      "[LightGBM] [Info] Number of data points in the train set: 7427, number of used features: 16\n",
      "[LightGBM] [Info] [binary:BoostFromScore]: pavg=0.504107 -> initscore=0.016427\n",
      "[LightGBM] [Info] Start training from score 0.016427\n"
     ]
    },
    {
     "name": "stderr",
     "output_type": "stream",
     "text": [
      "[I 2024-10-03 19:42:04,821] Trial 10 finished with value: 0.9189146117881059 and parameters: {'model_type': 'lightgbm', 'num_leaves': 150, 'learning_rate': 0.24153399664546088, 'n_estimators': 51, 'feature_fraction': 0.6114834503180508}. Best is trial 10 with value: 0.9189146117881059.\n"
     ]
    },
    {
     "name": "stdout",
     "output_type": "stream",
     "text": [
      "[LightGBM] [Warning] No further splits with positive gain, best gain: -inf\n",
      "[LightGBM] [Warning] No further splits with positive gain, best gain: -inf\n",
      "[LightGBM] [Warning] No further splits with positive gain, best gain: -inf\n",
      "[LightGBM] [Warning] feature_fraction is set=0.6114834503180508, colsample_bytree=1.0 will be ignored. Current value: feature_fraction=0.6114834503180508\n",
      "[LightGBM] [Warning] feature_fraction is set=0.6207717635720555, colsample_bytree=1.0 will be ignored. Current value: feature_fraction=0.6207717635720555\n",
      "[LightGBM] [Warning] feature_fraction is set=0.6207717635720555, colsample_bytree=1.0 will be ignored. Current value: feature_fraction=0.6207717635720555\n",
      "[LightGBM] [Info] Number of positive: 3744, number of negative: 3683\n",
      "[LightGBM] [Info] Auto-choosing row-wise multi-threading, the overhead of testing was 0.000719 seconds.\n",
      "You can set `force_row_wise=true` to remove the overhead.\n",
      "And if memory is not enough, you can set `force_col_wise=true`.\n",
      "[LightGBM] [Info] Total Bins 797\n",
      "[LightGBM] [Info] Number of data points in the train set: 7427, number of used features: 16\n",
      "[LightGBM] [Info] [binary:BoostFromScore]: pavg=0.504107 -> initscore=0.016427\n",
      "[LightGBM] [Info] Start training from score 0.016427\n"
     ]
    },
    {
     "name": "stderr",
     "output_type": "stream",
     "text": [
      "C:\\Users\\cheng\\AppData\\Local\\Temp\\ipykernel_19784\\2020316554.py:19: FutureWarning: suggest_loguniform has been deprecated in v3.0.0. This feature will be removed in v6.0.0. See https://github.com/optuna/optuna/releases/tag/v3.0.0. Use suggest_float(..., log=True) instead.\n",
      "  learning_rate=trial.suggest_loguniform('learning_rate', 0.01, 0.3),\n",
      "C:\\Users\\cheng\\AppData\\Local\\Temp\\ipykernel_19784\\2020316554.py:21: FutureWarning: suggest_uniform has been deprecated in v3.0.0. This feature will be removed in v6.0.0. See https://github.com/optuna/optuna/releases/tag/v3.0.0. Use suggest_float instead.\n",
      "  feature_fraction=trial.suggest_uniform('feature_fraction', 0.6, 1.0)\n",
      "[I 2024-10-03 19:42:05,253] Trial 11 finished with value: 0.9177297505235112 and parameters: {'model_type': 'lightgbm', 'num_leaves': 143, 'learning_rate': 0.27925085995579624, 'n_estimators': 77, 'feature_fraction': 0.6207717635720555}. Best is trial 10 with value: 0.9189146117881059.\n"
     ]
    },
    {
     "name": "stdout",
     "output_type": "stream",
     "text": [
      "[LightGBM] [Warning] No further splits with positive gain, best gain: -inf\n",
      "[LightGBM] [Warning] No further splits with positive gain, best gain: -inf\n",
      "[LightGBM] [Warning] No further splits with positive gain, best gain: -inf\n",
      "[LightGBM] [Warning] feature_fraction is set=0.6207717635720555, colsample_bytree=1.0 will be ignored. Current value: feature_fraction=0.6207717635720555\n"
     ]
    },
    {
     "name": "stderr",
     "output_type": "stream",
     "text": [
      "C:\\Users\\cheng\\AppData\\Local\\Temp\\ipykernel_19784\\2020316554.py:19: FutureWarning: suggest_loguniform has been deprecated in v3.0.0. This feature will be removed in v6.0.0. See https://github.com/optuna/optuna/releases/tag/v3.0.0. Use suggest_float(..., log=True) instead.\n",
      "  learning_rate=trial.suggest_loguniform('learning_rate', 0.01, 0.3),\n",
      "C:\\Users\\cheng\\AppData\\Local\\Temp\\ipykernel_19784\\2020316554.py:21: FutureWarning: suggest_uniform has been deprecated in v3.0.0. This feature will be removed in v6.0.0. See https://github.com/optuna/optuna/releases/tag/v3.0.0. Use suggest_float instead.\n",
      "  feature_fraction=trial.suggest_uniform('feature_fraction', 0.6, 1.0)\n"
     ]
    },
    {
     "name": "stdout",
     "output_type": "stream",
     "text": [
      "[LightGBM] [Warning] feature_fraction is set=0.6017572992460999, colsample_bytree=1.0 will be ignored. Current value: feature_fraction=0.6017572992460999\n",
      "[LightGBM] [Warning] feature_fraction is set=0.6017572992460999, colsample_bytree=1.0 will be ignored. Current value: feature_fraction=0.6017572992460999\n",
      "[LightGBM] [Info] Number of positive: 3744, number of negative: 3683\n",
      "[LightGBM] [Info] Auto-choosing row-wise multi-threading, the overhead of testing was 0.000687 seconds.\n",
      "You can set `force_row_wise=true` to remove the overhead.\n",
      "And if memory is not enough, you can set `force_col_wise=true`.\n",
      "[LightGBM] [Info] Total Bins 797\n",
      "[LightGBM] [Info] Number of data points in the train set: 7427, number of used features: 16\n",
      "[LightGBM] [Info] [binary:BoostFromScore]: pavg=0.504107 -> initscore=0.016427\n",
      "[LightGBM] [Info] Start training from score 0.016427\n",
      "[LightGBM] [Warning] No further splits with positive gain, best gain: -inf\n",
      "[LightGBM] [Warning] No further splits with positive gain, best gain: -inf\n",
      "[LightGBM] [Warning] No further splits with positive gain, best gain: -inf\n"
     ]
    },
    {
     "name": "stderr",
     "output_type": "stream",
     "text": [
      "[I 2024-10-03 19:42:05,664] Trial 12 finished with value: 0.9128889998270103 and parameters: {'model_type': 'lightgbm', 'num_leaves': 149, 'learning_rate': 0.28764899070578653, 'n_estimators': 76, 'feature_fraction': 0.6017572992460999}. Best is trial 10 with value: 0.9189146117881059.\n"
     ]
    },
    {
     "name": "stdout",
     "output_type": "stream",
     "text": [
      "[LightGBM] [Warning] feature_fraction is set=0.6017572992460999, colsample_bytree=1.0 will be ignored. Current value: feature_fraction=0.6017572992460999\n",
      "[LightGBM] [Warning] feature_fraction is set=0.6019595118889047, colsample_bytree=1.0 will be ignored. Current value: feature_fraction=0.6019595118889047\n",
      "[LightGBM] [Warning] feature_fraction is set=0.6019595118889047, colsample_bytree=1.0 will be ignored. Current value: feature_fraction=0.6019595118889047\n",
      "[LightGBM] [Info] Number of positive: 3744, number of negative: 3683\n",
      "[LightGBM] [Info] Auto-choosing row-wise multi-threading, the overhead of testing was 0.000357 seconds.\n",
      "You can set `force_row_wise=true` to remove the overhead.\n",
      "And if memory is not enough, you can set `force_col_wise=true`.\n",
      "[LightGBM] [Info] Total Bins 797\n",
      "[LightGBM] [Info] Number of data points in the train set: 7427, number of used features: 16\n",
      "[LightGBM] [Info] [binary:BoostFromScore]: pavg=0.504107 -> initscore=0.016427\n",
      "[LightGBM] [Info] Start training from score 0.016427\n",
      "[LightGBM] [Warning] No further splits with positive gain, best gain: -inf\n",
      "[LightGBM] [Warning] No further splits with positive gain, best gain: -inf\n"
     ]
    },
    {
     "name": "stderr",
     "output_type": "stream",
     "text": [
      "C:\\Users\\cheng\\AppData\\Local\\Temp\\ipykernel_19784\\2020316554.py:19: FutureWarning: suggest_loguniform has been deprecated in v3.0.0. This feature will be removed in v6.0.0. See https://github.com/optuna/optuna/releases/tag/v3.0.0. Use suggest_float(..., log=True) instead.\n",
      "  learning_rate=trial.suggest_loguniform('learning_rate', 0.01, 0.3),\n",
      "C:\\Users\\cheng\\AppData\\Local\\Temp\\ipykernel_19784\\2020316554.py:21: FutureWarning: suggest_uniform has been deprecated in v3.0.0. This feature will be removed in v6.0.0. See https://github.com/optuna/optuna/releases/tag/v3.0.0. Use suggest_float instead.\n",
      "  feature_fraction=trial.suggest_uniform('feature_fraction', 0.6, 1.0)\n",
      "[I 2024-10-03 19:42:05,953] Trial 13 finished with value: 0.9173371664911756 and parameters: {'model_type': 'lightgbm', 'num_leaves': 149, 'learning_rate': 0.2914836039027662, 'n_estimators': 53, 'feature_fraction': 0.6019595118889047}. Best is trial 10 with value: 0.9189146117881059.\n"
     ]
    },
    {
     "name": "stdout",
     "output_type": "stream",
     "text": [
      "[LightGBM] [Warning] No further splits with positive gain, best gain: -inf\n",
      "[LightGBM] [Warning] feature_fraction is set=0.6019595118889047, colsample_bytree=1.0 will be ignored. Current value: feature_fraction=0.6019595118889047\n",
      "[LightGBM] [Warning] feature_fraction is set=0.7179455424814422, colsample_bytree=1.0 will be ignored. Current value: feature_fraction=0.7179455424814422\n",
      "[LightGBM] [Warning] feature_fraction is set=0.7179455424814422, colsample_bytree=1.0 will be ignored. Current value: feature_fraction=0.7179455424814422\n",
      "[LightGBM] [Info] Number of positive: 3744, number of negative: 3683\n",
      "[LightGBM] [Info] Auto-choosing row-wise multi-threading, the overhead of testing was 0.000469 seconds.\n",
      "You can set `force_row_wise=true` to remove the overhead.\n",
      "And if memory is not enough, you can set `force_col_wise=true`.\n",
      "[LightGBM] [Info] Total Bins 797\n",
      "[LightGBM] [Info] Number of data points in the train set: 7427, number of used features: 16\n",
      "[LightGBM] [Info] [binary:BoostFromScore]: pavg=0.504107 -> initscore=0.016427\n",
      "[LightGBM] [Info] Start training from score 0.016427\n"
     ]
    },
    {
     "name": "stderr",
     "output_type": "stream",
     "text": [
      "C:\\Users\\cheng\\AppData\\Local\\Temp\\ipykernel_19784\\2020316554.py:19: FutureWarning: suggest_loguniform has been deprecated in v3.0.0. This feature will be removed in v6.0.0. See https://github.com/optuna/optuna/releases/tag/v3.0.0. Use suggest_float(..., log=True) instead.\n",
      "  learning_rate=trial.suggest_loguniform('learning_rate', 0.01, 0.3),\n",
      "C:\\Users\\cheng\\AppData\\Local\\Temp\\ipykernel_19784\\2020316554.py:21: FutureWarning: suggest_uniform has been deprecated in v3.0.0. This feature will be removed in v6.0.0. See https://github.com/optuna/optuna/releases/tag/v3.0.0. Use suggest_float instead.\n",
      "  feature_fraction=trial.suggest_uniform('feature_fraction', 0.6, 1.0)\n",
      "[I 2024-10-03 19:42:06,523] Trial 14 finished with value: 0.9208244106697547 and parameters: {'model_type': 'lightgbm', 'num_leaves': 125, 'learning_rate': 0.13811537544662406, 'n_estimators': 125, 'feature_fraction': 0.7179455424814422}. Best is trial 14 with value: 0.9208244106697547.\n"
     ]
    },
    {
     "name": "stdout",
     "output_type": "stream",
     "text": [
      "[LightGBM] [Warning] feature_fraction is set=0.7179455424814422, colsample_bytree=1.0 will be ignored. Current value: feature_fraction=0.7179455424814422\n",
      "[LightGBM] [Warning] feature_fraction is set=0.7583795020176114, colsample_bytree=1.0 will be ignored. Current value: feature_fraction=0.7583795020176114\n",
      "[LightGBM] [Warning] feature_fraction is set=0.7583795020176114, colsample_bytree=1.0 will be ignored. Current value: feature_fraction=0.7583795020176114\n",
      "[LightGBM] [Info] Number of positive: 3744, number of negative: 3683\n",
      "[LightGBM] [Info] Auto-choosing row-wise multi-threading, the overhead of testing was 0.000433 seconds.\n",
      "You can set `force_row_wise=true` to remove the overhead.\n",
      "And if memory is not enough, you can set `force_col_wise=true`.\n",
      "[LightGBM] [Info] Total Bins 797\n",
      "[LightGBM] [Info] Number of data points in the train set: 7427, number of used features: 16\n",
      "[LightGBM] [Info] [binary:BoostFromScore]: pavg=0.504107 -> initscore=0.016427\n",
      "[LightGBM] [Info] Start training from score 0.016427\n"
     ]
    },
    {
     "name": "stderr",
     "output_type": "stream",
     "text": [
      "C:\\Users\\cheng\\AppData\\Local\\Temp\\ipykernel_19784\\2020316554.py:19: FutureWarning: suggest_loguniform has been deprecated in v3.0.0. This feature will be removed in v6.0.0. See https://github.com/optuna/optuna/releases/tag/v3.0.0. Use suggest_float(..., log=True) instead.\n",
      "  learning_rate=trial.suggest_loguniform('learning_rate', 0.01, 0.3),\n",
      "C:\\Users\\cheng\\AppData\\Local\\Temp\\ipykernel_19784\\2020316554.py:21: FutureWarning: suggest_uniform has been deprecated in v3.0.0. This feature will be removed in v6.0.0. See https://github.com/optuna/optuna/releases/tag/v3.0.0. Use suggest_float instead.\n",
      "  feature_fraction=trial.suggest_uniform('feature_fraction', 0.6, 1.0)\n",
      "[I 2024-10-03 19:42:07,033] Trial 15 finished with value: 0.9220574562924426 and parameters: {'model_type': 'lightgbm', 'num_leaves': 104, 'learning_rate': 0.11722693874321485, 'n_estimators': 143, 'feature_fraction': 0.7583795020176114}. Best is trial 15 with value: 0.9220574562924426.\n"
     ]
    },
    {
     "name": "stdout",
     "output_type": "stream",
     "text": [
      "[LightGBM] [Warning] feature_fraction is set=0.7583795020176114, colsample_bytree=1.0 will be ignored. Current value: feature_fraction=0.7583795020176114\n",
      "[LightGBM] [Warning] feature_fraction is set=0.7693354640370328, colsample_bytree=1.0 will be ignored. Current value: feature_fraction=0.7693354640370328\n",
      "[LightGBM] [Warning] feature_fraction is set=0.7693354640370328, colsample_bytree=1.0 will be ignored. Current value: feature_fraction=0.7693354640370328\n",
      "[LightGBM] [Info] Number of positive: 3744, number of negative: 3683\n",
      "[LightGBM] [Info] Auto-choosing row-wise multi-threading, the overhead of testing was 0.000427 seconds.\n",
      "You can set `force_row_wise=true` to remove the overhead.\n",
      "And if memory is not enough, you can set `force_col_wise=true`.\n",
      "[LightGBM] [Info] Total Bins 797\n",
      "[LightGBM] [Info] Number of data points in the train set: 7427, number of used features: 16\n",
      "[LightGBM] [Info] [binary:BoostFromScore]: pavg=0.504107 -> initscore=0.016427\n",
      "[LightGBM] [Info] Start training from score 0.016427\n"
     ]
    },
    {
     "name": "stderr",
     "output_type": "stream",
     "text": [
      "C:\\Users\\cheng\\AppData\\Local\\Temp\\ipykernel_19784\\2020316554.py:19: FutureWarning: suggest_loguniform has been deprecated in v3.0.0. This feature will be removed in v6.0.0. See https://github.com/optuna/optuna/releases/tag/v3.0.0. Use suggest_float(..., log=True) instead.\n",
      "  learning_rate=trial.suggest_loguniform('learning_rate', 0.01, 0.3),\n",
      "C:\\Users\\cheng\\AppData\\Local\\Temp\\ipykernel_19784\\2020316554.py:21: FutureWarning: suggest_uniform has been deprecated in v3.0.0. This feature will be removed in v6.0.0. See https://github.com/optuna/optuna/releases/tag/v3.0.0. Use suggest_float instead.\n",
      "  feature_fraction=trial.suggest_uniform('feature_fraction', 0.6, 1.0)\n",
      "[I 2024-10-03 19:42:07,549] Trial 16 finished with value: 0.9213807030334819 and parameters: {'model_type': 'lightgbm', 'num_leaves': 102, 'learning_rate': 0.12087625662888465, 'n_estimators': 141, 'feature_fraction': 0.7693354640370328}. Best is trial 15 with value: 0.9220574562924426.\n"
     ]
    },
    {
     "name": "stdout",
     "output_type": "stream",
     "text": [
      "[LightGBM] [Warning] feature_fraction is set=0.7693354640370328, colsample_bytree=1.0 will be ignored. Current value: feature_fraction=0.7693354640370328\n",
      "[LightGBM] [Warning] feature_fraction is set=0.8095087690435997, colsample_bytree=1.0 will be ignored. Current value: feature_fraction=0.8095087690435997\n",
      "[LightGBM] [Warning] feature_fraction is set=0.8095087690435997, colsample_bytree=1.0 will be ignored. Current value: feature_fraction=0.8095087690435997\n",
      "[LightGBM] [Info] Number of positive: 3744, number of negative: 3683\n",
      "[LightGBM] [Info] Auto-choosing col-wise multi-threading, the overhead of testing was 0.001156 seconds.\n",
      "You can set `force_col_wise=true` to remove the overhead.\n",
      "[LightGBM] [Info] Total Bins 797\n",
      "[LightGBM] [Info] Number of data points in the train set: 7427, number of used features: 16\n",
      "[LightGBM] [Info] [binary:BoostFromScore]: pavg=0.504107 -> initscore=0.016427\n",
      "[LightGBM] [Info] Start training from score 0.016427\n"
     ]
    },
    {
     "name": "stderr",
     "output_type": "stream",
     "text": [
      "C:\\Users\\cheng\\AppData\\Local\\Temp\\ipykernel_19784\\2020316554.py:19: FutureWarning: suggest_loguniform has been deprecated in v3.0.0. This feature will be removed in v6.0.0. See https://github.com/optuna/optuna/releases/tag/v3.0.0. Use suggest_float(..., log=True) instead.\n",
      "  learning_rate=trial.suggest_loguniform('learning_rate', 0.01, 0.3),\n",
      "C:\\Users\\cheng\\AppData\\Local\\Temp\\ipykernel_19784\\2020316554.py:21: FutureWarning: suggest_uniform has been deprecated in v3.0.0. This feature will be removed in v6.0.0. See https://github.com/optuna/optuna/releases/tag/v3.0.0. Use suggest_float instead.\n",
      "  feature_fraction=trial.suggest_uniform('feature_fraction', 0.6, 1.0)\n",
      "[I 2024-10-03 19:42:08,091] Trial 17 finished with value: 0.919507042420403 and parameters: {'model_type': 'lightgbm', 'num_leaves': 92, 'learning_rate': 0.11962101079487837, 'n_estimators': 153, 'feature_fraction': 0.8095087690435997}. Best is trial 15 with value: 0.9220574562924426.\n"
     ]
    },
    {
     "name": "stdout",
     "output_type": "stream",
     "text": [
      "[LightGBM] [Warning] feature_fraction is set=0.8095087690435997, colsample_bytree=1.0 will be ignored. Current value: feature_fraction=0.8095087690435997\n",
      "[LightGBM] [Warning] feature_fraction is set=0.7959150268129633, colsample_bytree=1.0 will be ignored. Current value: feature_fraction=0.7959150268129633\n",
      "[LightGBM] [Warning] feature_fraction is set=0.7959150268129633, colsample_bytree=1.0 will be ignored. Current value: feature_fraction=0.7959150268129633\n",
      "[LightGBM] [Info] Number of positive: 3744, number of negative: 3683\n",
      "[LightGBM] [Info] Auto-choosing row-wise multi-threading, the overhead of testing was 0.000664 seconds.\n",
      "You can set `force_row_wise=true` to remove the overhead.\n",
      "And if memory is not enough, you can set `force_col_wise=true`.\n",
      "[LightGBM] [Info] Total Bins 797\n",
      "[LightGBM] [Info] Number of data points in the train set: 7427, number of used features: 16\n",
      "[LightGBM] [Info] [binary:BoostFromScore]: pavg=0.504107 -> initscore=0.016427\n",
      "[LightGBM] [Info] Start training from score 0.016427\n"
     ]
    },
    {
     "name": "stderr",
     "output_type": "stream",
     "text": [
      "C:\\Users\\cheng\\AppData\\Local\\Temp\\ipykernel_19784\\2020316554.py:19: FutureWarning: suggest_loguniform has been deprecated in v3.0.0. This feature will be removed in v6.0.0. See https://github.com/optuna/optuna/releases/tag/v3.0.0. Use suggest_float(..., log=True) instead.\n",
      "  learning_rate=trial.suggest_loguniform('learning_rate', 0.01, 0.3),\n",
      "C:\\Users\\cheng\\AppData\\Local\\Temp\\ipykernel_19784\\2020316554.py:21: FutureWarning: suggest_uniform has been deprecated in v3.0.0. This feature will be removed in v6.0.0. See https://github.com/optuna/optuna/releases/tag/v3.0.0. Use suggest_float instead.\n",
      "  feature_fraction=trial.suggest_uniform('feature_fraction', 0.6, 1.0)\n",
      "[I 2024-10-03 19:42:08,738] Trial 18 finished with value: 0.9226257947456933 and parameters: {'model_type': 'lightgbm', 'num_leaves': 93, 'learning_rate': 0.06463815899739823, 'n_estimators': 166, 'feature_fraction': 0.7959150268129633}. Best is trial 18 with value: 0.9226257947456933.\n"
     ]
    },
    {
     "name": "stdout",
     "output_type": "stream",
     "text": [
      "[LightGBM] [Warning] feature_fraction is set=0.7959150268129633, colsample_bytree=1.0 will be ignored. Current value: feature_fraction=0.7959150268129633\n"
     ]
    },
    {
     "name": "stderr",
     "output_type": "stream",
     "text": [
      "[I 2024-10-03 19:42:10,511] Trial 19 finished with value: 0.8255716363171035 and parameters: {'model_type': 'randomforest', 'max_depth': 10, 'n_estimators': 198, 'max_features': 'sqrt'}. Best is trial 18 with value: 0.9226257947456933.\n",
      "C:\\Users\\cheng\\AppData\\Local\\Temp\\ipykernel_19784\\2020316554.py:19: FutureWarning: suggest_loguniform has been deprecated in v3.0.0. This feature will be removed in v6.0.0. See https://github.com/optuna/optuna/releases/tag/v3.0.0. Use suggest_float(..., log=True) instead.\n",
      "  learning_rate=trial.suggest_loguniform('learning_rate', 0.01, 0.3),\n",
      "C:\\Users\\cheng\\AppData\\Local\\Temp\\ipykernel_19784\\2020316554.py:21: FutureWarning: suggest_uniform has been deprecated in v3.0.0. This feature will be removed in v6.0.0. See https://github.com/optuna/optuna/releases/tag/v3.0.0. Use suggest_float instead.\n",
      "  feature_fraction=trial.suggest_uniform('feature_fraction', 0.6, 1.0)\n"
     ]
    },
    {
     "name": "stdout",
     "output_type": "stream",
     "text": [
      "[LightGBM] [Warning] feature_fraction is set=0.8475970130633966, colsample_bytree=1.0 will be ignored. Current value: feature_fraction=0.8475970130633966\n",
      "[LightGBM] [Warning] feature_fraction is set=0.8475970130633966, colsample_bytree=1.0 will be ignored. Current value: feature_fraction=0.8475970130633966\n",
      "[LightGBM] [Info] Number of positive: 3744, number of negative: 3683\n",
      "[LightGBM] [Info] Auto-choosing col-wise multi-threading, the overhead of testing was 0.000919 seconds.\n",
      "You can set `force_col_wise=true` to remove the overhead.\n",
      "[LightGBM] [Info] Total Bins 797\n",
      "[LightGBM] [Info] Number of data points in the train set: 7427, number of used features: 16\n",
      "[LightGBM] [Info] [binary:BoostFromScore]: pavg=0.504107 -> initscore=0.016427\n",
      "[LightGBM] [Info] Start training from score 0.016427\n"
     ]
    },
    {
     "name": "stderr",
     "output_type": "stream",
     "text": [
      "[I 2024-10-03 19:42:11,271] Trial 20 finished with value: 0.9187821048033485 and parameters: {'model_type': 'lightgbm', 'num_leaves': 63, 'learning_rate': 0.04357456604864248, 'n_estimators': 233, 'feature_fraction': 0.8475970130633966}. Best is trial 18 with value: 0.9226257947456933.\n"
     ]
    },
    {
     "name": "stdout",
     "output_type": "stream",
     "text": [
      "[LightGBM] [Warning] feature_fraction is set=0.8475970130633966, colsample_bytree=1.0 will be ignored. Current value: feature_fraction=0.8475970130633966\n",
      "[LightGBM] [Warning] feature_fraction is set=0.7446302505042354, colsample_bytree=1.0 will be ignored. Current value: feature_fraction=0.7446302505042354\n",
      "[LightGBM] [Warning] feature_fraction is set=0.7446302505042354, colsample_bytree=1.0 will be ignored. Current value: feature_fraction=0.7446302505042354\n",
      "[LightGBM] [Info] Number of positive: 3744, number of negative: 3683\n",
      "[LightGBM] [Info] Auto-choosing row-wise multi-threading, the overhead of testing was 0.000426 seconds.\n",
      "You can set `force_row_wise=true` to remove the overhead.\n",
      "And if memory is not enough, you can set `force_col_wise=true`.\n",
      "[LightGBM] [Info] Total Bins 797\n",
      "[LightGBM] [Info] Number of data points in the train set: 7427, number of used features: 16\n",
      "[LightGBM] [Info] [binary:BoostFromScore]: pavg=0.504107 -> initscore=0.016427\n",
      "[LightGBM] [Info] Start training from score 0.016427\n"
     ]
    },
    {
     "name": "stderr",
     "output_type": "stream",
     "text": [
      "C:\\Users\\cheng\\AppData\\Local\\Temp\\ipykernel_19784\\2020316554.py:19: FutureWarning: suggest_loguniform has been deprecated in v3.0.0. This feature will be removed in v6.0.0. See https://github.com/optuna/optuna/releases/tag/v3.0.0. Use suggest_float(..., log=True) instead.\n",
      "  learning_rate=trial.suggest_loguniform('learning_rate', 0.01, 0.3),\n",
      "C:\\Users\\cheng\\AppData\\Local\\Temp\\ipykernel_19784\\2020316554.py:21: FutureWarning: suggest_uniform has been deprecated in v3.0.0. This feature will be removed in v6.0.0. See https://github.com/optuna/optuna/releases/tag/v3.0.0. Use suggest_float instead.\n",
      "  feature_fraction=trial.suggest_uniform('feature_fraction', 0.6, 1.0)\n",
      "[I 2024-10-03 19:42:11,830] Trial 21 finished with value: 0.921320472585865 and parameters: {'model_type': 'lightgbm', 'num_leaves': 99, 'learning_rate': 0.10953399686116472, 'n_estimators': 161, 'feature_fraction': 0.7446302505042354}. Best is trial 18 with value: 0.9226257947456933.\n"
     ]
    },
    {
     "name": "stdout",
     "output_type": "stream",
     "text": [
      "[LightGBM] [Warning] No further splits with positive gain, best gain: -inf\n",
      "[LightGBM] [Warning] feature_fraction is set=0.7446302505042354, colsample_bytree=1.0 will be ignored. Current value: feature_fraction=0.7446302505042354\n",
      "[LightGBM] [Warning] feature_fraction is set=0.7453292433624096, colsample_bytree=1.0 will be ignored. Current value: feature_fraction=0.7453292433624096\n",
      "[LightGBM] [Warning] feature_fraction is set=0.7453292433624096, colsample_bytree=1.0 will be ignored. Current value: feature_fraction=0.7453292433624096\n",
      "[LightGBM] [Info] Number of positive: 3744, number of negative: 3683\n",
      "[LightGBM] [Info] Auto-choosing row-wise multi-threading, the overhead of testing was 0.000650 seconds.\n",
      "You can set `force_row_wise=true` to remove the overhead.\n",
      "And if memory is not enough, you can set `force_col_wise=true`.\n",
      "[LightGBM] [Info] Total Bins 797\n",
      "[LightGBM] [Info] Number of data points in the train set: 7427, number of used features: 16\n",
      "[LightGBM] [Info] [binary:BoostFromScore]: pavg=0.504107 -> initscore=0.016427\n",
      "[LightGBM] [Info] Start training from score 0.016427\n"
     ]
    },
    {
     "name": "stderr",
     "output_type": "stream",
     "text": [
      "C:\\Users\\cheng\\AppData\\Local\\Temp\\ipykernel_19784\\2020316554.py:19: FutureWarning: suggest_loguniform has been deprecated in v3.0.0. This feature will be removed in v6.0.0. See https://github.com/optuna/optuna/releases/tag/v3.0.0. Use suggest_float(..., log=True) instead.\n",
      "  learning_rate=trial.suggest_loguniform('learning_rate', 0.01, 0.3),\n",
      "C:\\Users\\cheng\\AppData\\Local\\Temp\\ipykernel_19784\\2020316554.py:21: FutureWarning: suggest_uniform has been deprecated in v3.0.0. This feature will be removed in v6.0.0. See https://github.com/optuna/optuna/releases/tag/v3.0.0. Use suggest_float instead.\n",
      "  feature_fraction=trial.suggest_uniform('feature_fraction', 0.6, 1.0)\n",
      "[I 2024-10-03 19:42:12,420] Trial 22 finished with value: 0.9194829502413563 and parameters: {'model_type': 'lightgbm', 'num_leaves': 108, 'learning_rate': 0.08177729536265586, 'n_estimators': 146, 'feature_fraction': 0.7453292433624096}. Best is trial 18 with value: 0.9226257947456933.\n"
     ]
    },
    {
     "name": "stdout",
     "output_type": "stream",
     "text": [
      "[LightGBM] [Warning] feature_fraction is set=0.7453292433624096, colsample_bytree=1.0 will be ignored. Current value: feature_fraction=0.7453292433624096\n",
      "[LightGBM] [Warning] feature_fraction is set=0.8306481004427063, colsample_bytree=1.0 will be ignored. Current value: feature_fraction=0.8306481004427063\n",
      "[LightGBM] [Warning] feature_fraction is set=0.8306481004427063, colsample_bytree=1.0 will be ignored. Current value: feature_fraction=0.8306481004427063\n",
      "[LightGBM] [Info] Number of positive: 3744, number of negative: 3683\n",
      "[LightGBM] [Info] Auto-choosing col-wise multi-threading, the overhead of testing was 0.001011 seconds.\n",
      "You can set `force_col_wise=true` to remove the overhead.\n",
      "[LightGBM] [Info] Total Bins 797\n",
      "[LightGBM] [Info] Number of data points in the train set: 7427, number of used features: 16\n",
      "[LightGBM] [Info] [binary:BoostFromScore]: pavg=0.504107 -> initscore=0.016427\n",
      "[LightGBM] [Info] Start training from score 0.016427\n"
     ]
    },
    {
     "name": "stderr",
     "output_type": "stream",
     "text": [
      "C:\\Users\\cheng\\AppData\\Local\\Temp\\ipykernel_19784\\2020316554.py:19: FutureWarning: suggest_loguniform has been deprecated in v3.0.0. This feature will be removed in v6.0.0. See https://github.com/optuna/optuna/releases/tag/v3.0.0. Use suggest_float(..., log=True) instead.\n",
      "  learning_rate=trial.suggest_loguniform('learning_rate', 0.01, 0.3),\n",
      "C:\\Users\\cheng\\AppData\\Local\\Temp\\ipykernel_19784\\2020316554.py:21: FutureWarning: suggest_uniform has been deprecated in v3.0.0. This feature will be removed in v6.0.0. See https://github.com/optuna/optuna/releases/tag/v3.0.0. Use suggest_float instead.\n",
      "  feature_fraction=trial.suggest_uniform('feature_fraction', 0.6, 1.0)\n",
      "[I 2024-10-03 19:42:12,832] Trial 23 finished with value: 0.9207039497745207 and parameters: {'model_type': 'lightgbm', 'num_leaves': 74, 'learning_rate': 0.1456712651519057, 'n_estimators': 133, 'feature_fraction': 0.8306481004427063}. Best is trial 18 with value: 0.9226257947456933.\n"
     ]
    },
    {
     "name": "stdout",
     "output_type": "stream",
     "text": [
      "[LightGBM] [Warning] feature_fraction is set=0.8306481004427063, colsample_bytree=1.0 will be ignored. Current value: feature_fraction=0.8306481004427063\n",
      "[LightGBM] [Warning] feature_fraction is set=0.8896243177713143, colsample_bytree=1.0 will be ignored. Current value: feature_fraction=0.8896243177713143\n",
      "[LightGBM] [Warning] feature_fraction is set=0.8896243177713143, colsample_bytree=1.0 will be ignored. Current value: feature_fraction=0.8896243177713143\n",
      "[LightGBM] [Info] Number of positive: 3744, number of negative: 3683\n",
      "[LightGBM] [Info] Auto-choosing col-wise multi-threading, the overhead of testing was 0.001011 seconds.\n",
      "You can set `force_col_wise=true` to remove the overhead.\n",
      "[LightGBM] [Info] Total Bins 797\n",
      "[LightGBM] [Info] Number of data points in the train set: 7427, number of used features: 16\n",
      "[LightGBM] [Info] [binary:BoostFromScore]: pavg=0.504107 -> initscore=0.016427\n",
      "[LightGBM] [Info] Start training from score 0.016427\n"
     ]
    },
    {
     "name": "stderr",
     "output_type": "stream",
     "text": [
      "C:\\Users\\cheng\\AppData\\Local\\Temp\\ipykernel_19784\\2020316554.py:19: FutureWarning: suggest_loguniform has been deprecated in v3.0.0. This feature will be removed in v6.0.0. See https://github.com/optuna/optuna/releases/tag/v3.0.0. Use suggest_float(..., log=True) instead.\n",
      "  learning_rate=trial.suggest_loguniform('learning_rate', 0.01, 0.3),\n",
      "C:\\Users\\cheng\\AppData\\Local\\Temp\\ipykernel_19784\\2020316554.py:21: FutureWarning: suggest_uniform has been deprecated in v3.0.0. This feature will be removed in v6.0.0. See https://github.com/optuna/optuna/releases/tag/v3.0.0. Use suggest_float instead.\n",
      "  feature_fraction=trial.suggest_uniform('feature_fraction', 0.6, 1.0)\n",
      "[I 2024-10-03 19:42:13,620] Trial 24 finished with value: 0.922922010061842 and parameters: {'model_type': 'lightgbm', 'num_leaves': 115, 'learning_rate': 0.06712700050134128, 'n_estimators': 174, 'feature_fraction': 0.8896243177713143}. Best is trial 24 with value: 0.922922010061842.\n"
     ]
    },
    {
     "name": "stdout",
     "output_type": "stream",
     "text": [
      "[LightGBM] [Warning] feature_fraction is set=0.8896243177713143, colsample_bytree=1.0 will be ignored. Current value: feature_fraction=0.8896243177713143\n",
      "[LightGBM] [Warning] feature_fraction is set=0.893246114464982, colsample_bytree=1.0 will be ignored. Current value: feature_fraction=0.893246114464982\n",
      "[LightGBM] [Warning] feature_fraction is set=0.893246114464982, colsample_bytree=1.0 will be ignored. Current value: feature_fraction=0.893246114464982\n",
      "[LightGBM] [Info] Number of positive: 3744, number of negative: 3683\n",
      "[LightGBM] [Info] Auto-choosing col-wise multi-threading, the overhead of testing was 0.001233 seconds.\n",
      "You can set `force_col_wise=true` to remove the overhead.\n",
      "[LightGBM] [Info] Total Bins 797\n",
      "[LightGBM] [Info] Number of data points in the train set: 7427, number of used features: 16\n",
      "[LightGBM] [Info] [binary:BoostFromScore]: pavg=0.504107 -> initscore=0.016427\n",
      "[LightGBM] [Info] Start training from score 0.016427\n"
     ]
    },
    {
     "name": "stderr",
     "output_type": "stream",
     "text": [
      "C:\\Users\\cheng\\AppData\\Local\\Temp\\ipykernel_19784\\2020316554.py:19: FutureWarning: suggest_loguniform has been deprecated in v3.0.0. This feature will be removed in v6.0.0. See https://github.com/optuna/optuna/releases/tag/v3.0.0. Use suggest_float(..., log=True) instead.\n",
      "  learning_rate=trial.suggest_loguniform('learning_rate', 0.01, 0.3),\n",
      "C:\\Users\\cheng\\AppData\\Local\\Temp\\ipykernel_19784\\2020316554.py:21: FutureWarning: suggest_uniform has been deprecated in v3.0.0. This feature will be removed in v6.0.0. See https://github.com/optuna/optuna/releases/tag/v3.0.0. Use suggest_float instead.\n",
      "  feature_fraction=trial.suggest_uniform('feature_fraction', 0.6, 1.0)\n",
      "[I 2024-10-03 19:42:14,583] Trial 25 finished with value: 0.9187821048033485 and parameters: {'model_type': 'lightgbm', 'num_leaves': 118, 'learning_rate': 0.03052617270804965, 'n_estimators': 181, 'feature_fraction': 0.893246114464982}. Best is trial 24 with value: 0.922922010061842.\n"
     ]
    },
    {
     "name": "stdout",
     "output_type": "stream",
     "text": [
      "[LightGBM] [Warning] feature_fraction is set=0.893246114464982, colsample_bytree=1.0 will be ignored. Current value: feature_fraction=0.893246114464982\n",
      "[LightGBM] [Warning] feature_fraction is set=0.9066885484215634, colsample_bytree=1.0 will be ignored. Current value: feature_fraction=0.9066885484215634\n",
      "[LightGBM] [Warning] feature_fraction is set=0.9066885484215634, colsample_bytree=1.0 will be ignored. Current value: feature_fraction=0.9066885484215634\n",
      "[LightGBM] [Info] Number of positive: 3744, number of negative: 3683\n",
      "[LightGBM] [Info] Auto-choosing row-wise multi-threading, the overhead of testing was 0.000486 seconds.\n",
      "You can set `force_row_wise=true` to remove the overhead.\n",
      "And if memory is not enough, you can set `force_col_wise=true`.\n",
      "[LightGBM] [Info] Total Bins 797\n",
      "[LightGBM] [Info] Number of data points in the train set: 7427, number of used features: 16\n",
      "[LightGBM] [Info] [binary:BoostFromScore]: pavg=0.504107 -> initscore=0.016427\n",
      "[LightGBM] [Info] Start training from score 0.016427\n"
     ]
    },
    {
     "name": "stderr",
     "output_type": "stream",
     "text": [
      "C:\\Users\\cheng\\AppData\\Local\\Temp\\ipykernel_19784\\2020316554.py:19: FutureWarning: suggest_loguniform has been deprecated in v3.0.0. This feature will be removed in v6.0.0. See https://github.com/optuna/optuna/releases/tag/v3.0.0. Use suggest_float(..., log=True) instead.\n",
      "  learning_rate=trial.suggest_loguniform('learning_rate', 0.01, 0.3),\n",
      "C:\\Users\\cheng\\AppData\\Local\\Temp\\ipykernel_19784\\2020316554.py:21: FutureWarning: suggest_uniform has been deprecated in v3.0.0. This feature will be removed in v6.0.0. See https://github.com/optuna/optuna/releases/tag/v3.0.0. Use suggest_float instead.\n",
      "  feature_fraction=trial.suggest_uniform('feature_fraction', 0.6, 1.0)\n",
      "[I 2024-10-03 19:42:15,244] Trial 26 finished with value: 0.9226619330142634 and parameters: {'model_type': 'lightgbm', 'num_leaves': 83, 'learning_rate': 0.07344675302677343, 'n_estimators': 220, 'feature_fraction': 0.9066885484215634}. Best is trial 24 with value: 0.922922010061842.\n",
      "[I 2024-10-03 19:42:15,313] Trial 27 finished with value: 0.6184444588383146 and parameters: {'model_type': 'logistic', 'penalty': 'l1', 'C': 0.025147664023847115}. Best is trial 24 with value: 0.922922010061842.\n"
     ]
    },
    {
     "name": "stdout",
     "output_type": "stream",
     "text": [
      "[LightGBM] [Warning] feature_fraction is set=0.9066885484215634, colsample_bytree=1.0 will be ignored. Current value: feature_fraction=0.9066885484215634\n"
     ]
    },
    {
     "name": "stderr",
     "output_type": "stream",
     "text": [
      "[I 2024-10-03 19:42:16,419] Trial 28 finished with value: 0.6776827826229828 and parameters: {'model_type': 'randomforest', 'max_depth': 3, 'n_estimators': 236, 'max_features': 'sqrt'}. Best is trial 24 with value: 0.922922010061842.\n",
      "C:\\Users\\cheng\\AppData\\Local\\Temp\\ipykernel_19784\\2020316554.py:11: FutureWarning: suggest_loguniform has been deprecated in v3.0.0. This feature will be removed in v6.0.0. See https://github.com/optuna/optuna/releases/tag/v3.0.0. Use suggest_float(..., log=True) instead.\n",
      "  learning_rate=trial.suggest_loguniform('learning_rate', 0.01, 0.3),\n",
      "C:\\Users\\cheng\\AppData\\Local\\Temp\\ipykernel_19784\\2020316554.py:13: FutureWarning: suggest_uniform has been deprecated in v3.0.0. This feature will be removed in v6.0.0. See https://github.com/optuna/optuna/releases/tag/v3.0.0. Use suggest_float instead.\n",
      "  subsample=trial.suggest_uniform('subsample', 0.6, 1.0)\n",
      "[I 2024-10-03 19:42:17,159] Trial 29 finished with value: 0.898335546390873 and parameters: {'model_type': 'xgboost', 'max_depth': 10, 'learning_rate': 0.0594800402476965, 'n_estimators': 208, 'subsample': 0.9969336245631994}. Best is trial 24 with value: 0.922922010061842.\n",
      "C:\\Users\\cheng\\AppData\\Local\\Temp\\ipykernel_19784\\2020316554.py:19: FutureWarning: suggest_loguniform has been deprecated in v3.0.0. This feature will be removed in v6.0.0. See https://github.com/optuna/optuna/releases/tag/v3.0.0. Use suggest_float(..., log=True) instead.\n",
      "  learning_rate=trial.suggest_loguniform('learning_rate', 0.01, 0.3),\n",
      "C:\\Users\\cheng\\AppData\\Local\\Temp\\ipykernel_19784\\2020316554.py:21: FutureWarning: suggest_uniform has been deprecated in v3.0.0. This feature will be removed in v6.0.0. See https://github.com/optuna/optuna/releases/tag/v3.0.0. Use suggest_float instead.\n",
      "  feature_fraction=trial.suggest_uniform('feature_fraction', 0.6, 1.0)\n"
     ]
    },
    {
     "name": "stdout",
     "output_type": "stream",
     "text": [
      "[LightGBM] [Warning] feature_fraction is set=0.9303313152713932, colsample_bytree=1.0 will be ignored. Current value: feature_fraction=0.9303313152713932\n",
      "[LightGBM] [Warning] feature_fraction is set=0.9303313152713932, colsample_bytree=1.0 will be ignored. Current value: feature_fraction=0.9303313152713932\n",
      "[LightGBM] [Info] Number of positive: 3744, number of negative: 3683\n",
      "[LightGBM] [Info] Auto-choosing row-wise multi-threading, the overhead of testing was 0.000487 seconds.\n",
      "You can set `force_row_wise=true` to remove the overhead.\n",
      "And if memory is not enough, you can set `force_col_wise=true`.\n",
      "[LightGBM] [Info] Total Bins 797\n",
      "[LightGBM] [Info] Number of data points in the train set: 7427, number of used features: 16\n",
      "[LightGBM] [Info] [binary:BoostFromScore]: pavg=0.504107 -> initscore=0.016427\n",
      "[LightGBM] [Info] Start training from score 0.016427\n"
     ]
    },
    {
     "name": "stderr",
     "output_type": "stream",
     "text": [
      "[I 2024-10-03 19:42:17,894] Trial 30 finished with value: 0.9146542456343786 and parameters: {'model_type': 'lightgbm', 'num_leaves': 78, 'learning_rate': 0.03577217758310965, 'n_estimators': 166, 'feature_fraction': 0.9303313152713932}. Best is trial 24 with value: 0.922922010061842.\n"
     ]
    },
    {
     "name": "stdout",
     "output_type": "stream",
     "text": [
      "[LightGBM] [Warning] feature_fraction is set=0.9303313152713932, colsample_bytree=1.0 will be ignored. Current value: feature_fraction=0.9303313152713932\n",
      "[LightGBM] [Warning] feature_fraction is set=0.8836575730794712, colsample_bytree=1.0 will be ignored. Current value: feature_fraction=0.8836575730794712\n",
      "[LightGBM] [Warning] feature_fraction is set=0.8836575730794712, colsample_bytree=1.0 will be ignored. Current value: feature_fraction=0.8836575730794712\n",
      "[LightGBM] [Info] Number of positive: 3744, number of negative: 3683\n",
      "[LightGBM] [Info] Auto-choosing row-wise multi-threading, the overhead of testing was 0.000534 seconds.\n",
      "You can set `force_row_wise=true` to remove the overhead.\n",
      "And if memory is not enough, you can set `force_col_wise=true`.\n",
      "[LightGBM] [Info] Total Bins 797\n",
      "[LightGBM] [Info] Number of data points in the train set: 7427, number of used features: 16\n",
      "[LightGBM] [Info] [binary:BoostFromScore]: pavg=0.504107 -> initscore=0.016427\n",
      "[LightGBM] [Info] Start training from score 0.016427\n"
     ]
    },
    {
     "name": "stderr",
     "output_type": "stream",
     "text": [
      "C:\\Users\\cheng\\AppData\\Local\\Temp\\ipykernel_19784\\2020316554.py:19: FutureWarning: suggest_loguniform has been deprecated in v3.0.0. This feature will be removed in v6.0.0. See https://github.com/optuna/optuna/releases/tag/v3.0.0. Use suggest_float(..., log=True) instead.\n",
      "  learning_rate=trial.suggest_loguniform('learning_rate', 0.01, 0.3),\n",
      "C:\\Users\\cheng\\AppData\\Local\\Temp\\ipykernel_19784\\2020316554.py:21: FutureWarning: suggest_uniform has been deprecated in v3.0.0. This feature will be removed in v6.0.0. See https://github.com/optuna/optuna/releases/tag/v3.0.0. Use suggest_float instead.\n",
      "  feature_fraction=trial.suggest_uniform('feature_fraction', 0.6, 1.0)\n",
      "[I 2024-10-03 19:42:18,466] Trial 31 finished with value: 0.9207762263116612 and parameters: {'model_type': 'lightgbm', 'num_leaves': 88, 'learning_rate': 0.07828615210905333, 'n_estimators': 181, 'feature_fraction': 0.8836575730794712}. Best is trial 24 with value: 0.922922010061842.\n"
     ]
    },
    {
     "name": "stdout",
     "output_type": "stream",
     "text": [
      "[LightGBM] [Warning] feature_fraction is set=0.8836575730794712, colsample_bytree=1.0 will be ignored. Current value: feature_fraction=0.8836575730794712\n",
      "[LightGBM] [Warning] feature_fraction is set=0.6877339107774365, colsample_bytree=1.0 will be ignored. Current value: feature_fraction=0.6877339107774365\n",
      "[LightGBM] [Warning] feature_fraction is set=0.6877339107774365, colsample_bytree=1.0 will be ignored. Current value: feature_fraction=0.6877339107774365\n",
      "[LightGBM] [Info] Number of positive: 3744, number of negative: 3683\n",
      "[LightGBM] [Info] Auto-choosing row-wise multi-threading, the overhead of testing was 0.000415 seconds.\n",
      "You can set `force_row_wise=true` to remove the overhead.\n",
      "And if memory is not enough, you can set `force_col_wise=true`.\n",
      "[LightGBM] [Info] Total Bins 797\n",
      "[LightGBM] [Info] Number of data points in the train set: 7427, number of used features: 16\n",
      "[LightGBM] [Info] [binary:BoostFromScore]: pavg=0.504107 -> initscore=0.016427\n",
      "[LightGBM] [Info] Start training from score 0.016427\n"
     ]
    },
    {
     "name": "stderr",
     "output_type": "stream",
     "text": [
      "C:\\Users\\cheng\\AppData\\Local\\Temp\\ipykernel_19784\\2020316554.py:19: FutureWarning: suggest_loguniform has been deprecated in v3.0.0. This feature will be removed in v6.0.0. See https://github.com/optuna/optuna/releases/tag/v3.0.0. Use suggest_float(..., log=True) instead.\n",
      "  learning_rate=trial.suggest_loguniform('learning_rate', 0.01, 0.3),\n",
      "C:\\Users\\cheng\\AppData\\Local\\Temp\\ipykernel_19784\\2020316554.py:21: FutureWarning: suggest_uniform has been deprecated in v3.0.0. This feature will be removed in v6.0.0. See https://github.com/optuna/optuna/releases/tag/v3.0.0. Use suggest_float instead.\n",
      "  feature_fraction=trial.suggest_uniform('feature_fraction', 0.6, 1.0)\n",
      "[I 2024-10-03 19:42:19,202] Trial 32 finished with value: 0.9185340738452934 and parameters: {'model_type': 'lightgbm', 'num_leaves': 120, 'learning_rate': 0.06071095385608718, 'n_estimators': 170, 'feature_fraction': 0.6877339107774365}. Best is trial 24 with value: 0.922922010061842.\n"
     ]
    },
    {
     "name": "stdout",
     "output_type": "stream",
     "text": [
      "[LightGBM] [Warning] No further splits with positive gain, best gain: -inf\n",
      "[LightGBM] [Warning] No further splits with positive gain, best gain: -inf\n",
      "[LightGBM] [Warning] feature_fraction is set=0.6877339107774365, colsample_bytree=1.0 will be ignored. Current value: feature_fraction=0.6877339107774365\n",
      "[LightGBM] [Warning] feature_fraction is set=0.9524161653443295, colsample_bytree=1.0 will be ignored. Current value: feature_fraction=0.9524161653443295\n",
      "[LightGBM] [Warning] feature_fraction is set=0.9524161653443295, colsample_bytree=1.0 will be ignored. Current value: feature_fraction=0.9524161653443295\n",
      "[LightGBM] [Info] Number of positive: 3744, number of negative: 3683\n",
      "[LightGBM] [Info] Auto-choosing row-wise multi-threading, the overhead of testing was 0.000521 seconds.\n",
      "You can set `force_row_wise=true` to remove the overhead.\n",
      "And if memory is not enough, you can set `force_col_wise=true`.\n",
      "[LightGBM] [Info] Total Bins 797\n",
      "[LightGBM] [Info] Number of data points in the train set: 7427, number of used features: 16\n",
      "[LightGBM] [Info] [binary:BoostFromScore]: pavg=0.504107 -> initscore=0.016427\n",
      "[LightGBM] [Info] Start training from score 0.016427\n"
     ]
    },
    {
     "name": "stderr",
     "output_type": "stream",
     "text": [
      "C:\\Users\\cheng\\AppData\\Local\\Temp\\ipykernel_19784\\2020316554.py:19: FutureWarning: suggest_loguniform has been deprecated in v3.0.0. This feature will be removed in v6.0.0. See https://github.com/optuna/optuna/releases/tag/v3.0.0. Use suggest_float(..., log=True) instead.\n",
      "  learning_rate=trial.suggest_loguniform('learning_rate', 0.01, 0.3),\n",
      "C:\\Users\\cheng\\AppData\\Local\\Temp\\ipykernel_19784\\2020316554.py:21: FutureWarning: suggest_uniform has been deprecated in v3.0.0. This feature will be removed in v6.0.0. See https://github.com/optuna/optuna/releases/tag/v3.0.0. Use suggest_float instead.\n",
      "  feature_fraction=trial.suggest_uniform('feature_fraction', 0.6, 1.0)\n",
      "[I 2024-10-03 19:42:19,777] Trial 33 finished with value: 0.9238588403683813 and parameters: {'model_type': 'lightgbm', 'num_leaves': 63, 'learning_rate': 0.08210653641524616, 'n_estimators': 224, 'feature_fraction': 0.9524161653443295}. Best is trial 33 with value: 0.9238588403683813.\n"
     ]
    },
    {
     "name": "stdout",
     "output_type": "stream",
     "text": [
      "[LightGBM] [Warning] feature_fraction is set=0.9524161653443295, colsample_bytree=1.0 will be ignored. Current value: feature_fraction=0.9524161653443295\n",
      "[LightGBM] [Warning] feature_fraction is set=0.9516922461811006, colsample_bytree=1.0 will be ignored. Current value: feature_fraction=0.9516922461811006\n",
      "[LightGBM] [Warning] feature_fraction is set=0.9516922461811006, colsample_bytree=1.0 will be ignored. Current value: feature_fraction=0.9516922461811006\n",
      "[LightGBM] [Info] Number of positive: 3744, number of negative: 3683\n",
      "[LightGBM] [Info] Auto-choosing row-wise multi-threading, the overhead of testing was 0.000618 seconds.\n",
      "You can set `force_row_wise=true` to remove the overhead.\n",
      "And if memory is not enough, you can set `force_col_wise=true`.\n",
      "[LightGBM] [Info] Total Bins 797\n",
      "[LightGBM] [Info] Number of data points in the train set: 7427, number of used features: 16\n",
      "[LightGBM] [Info] [binary:BoostFromScore]: pavg=0.504107 -> initscore=0.016427\n",
      "[LightGBM] [Info] Start training from score 0.016427\n"
     ]
    },
    {
     "name": "stderr",
     "output_type": "stream",
     "text": [
      "C:\\Users\\cheng\\AppData\\Local\\Temp\\ipykernel_19784\\2020316554.py:19: FutureWarning: suggest_loguniform has been deprecated in v3.0.0. This feature will be removed in v6.0.0. See https://github.com/optuna/optuna/releases/tag/v3.0.0. Use suggest_float(..., log=True) instead.\n",
      "  learning_rate=trial.suggest_loguniform('learning_rate', 0.01, 0.3),\n",
      "C:\\Users\\cheng\\AppData\\Local\\Temp\\ipykernel_19784\\2020316554.py:21: FutureWarning: suggest_uniform has been deprecated in v3.0.0. This feature will be removed in v6.0.0. See https://github.com/optuna/optuna/releases/tag/v3.0.0. Use suggest_float instead.\n",
      "  feature_fraction=trial.suggest_uniform('feature_fraction', 0.6, 1.0)\n",
      "[I 2024-10-03 19:42:20,359] Trial 34 finished with value: 0.9201356113212704 and parameters: {'model_type': 'lightgbm', 'num_leaves': 60, 'learning_rate': 0.07359825543973672, 'n_estimators': 245, 'feature_fraction': 0.9516922461811006}. Best is trial 33 with value: 0.9238588403683813.\n"
     ]
    },
    {
     "name": "stdout",
     "output_type": "stream",
     "text": [
      "[LightGBM] [Warning] feature_fraction is set=0.9516922461811006, colsample_bytree=1.0 will be ignored. Current value: feature_fraction=0.9516922461811006\n"
     ]
    },
    {
     "name": "stderr",
     "output_type": "stream",
     "text": [
      "[I 2024-10-03 19:42:21,471] Trial 35 finished with value: 0.6386884059745446 and parameters: {'model_type': 'logistic', 'penalty': 'l1', 'C': 9.323593450547946}. Best is trial 33 with value: 0.9238588403683813.\n",
      "C:\\Users\\cheng\\AppData\\Local\\Temp\\ipykernel_19784\\2020316554.py:11: FutureWarning: suggest_loguniform has been deprecated in v3.0.0. This feature will be removed in v6.0.0. See https://github.com/optuna/optuna/releases/tag/v3.0.0. Use suggest_float(..., log=True) instead.\n",
      "  learning_rate=trial.suggest_loguniform('learning_rate', 0.01, 0.3),\n",
      "C:\\Users\\cheng\\AppData\\Local\\Temp\\ipykernel_19784\\2020316554.py:13: FutureWarning: suggest_uniform has been deprecated in v3.0.0. This feature will be removed in v6.0.0. See https://github.com/optuna/optuna/releases/tag/v3.0.0. Use suggest_float instead.\n",
      "  subsample=trial.suggest_uniform('subsample', 0.6, 1.0)\n",
      "[I 2024-10-03 19:42:22,071] Trial 36 finished with value: 0.8951927018865362 and parameters: {'model_type': 'xgboost', 'max_depth': 8, 'learning_rate': 0.04572232642801417, 'n_estimators': 218, 'subsample': 0.6188177211159595}. Best is trial 33 with value: 0.9238588403683813.\n",
      "C:\\Users\\cheng\\AppData\\Local\\Temp\\ipykernel_19784\\2020316554.py:19: FutureWarning: suggest_loguniform has been deprecated in v3.0.0. This feature will be removed in v6.0.0. See https://github.com/optuna/optuna/releases/tag/v3.0.0. Use suggest_float(..., log=True) instead.\n",
      "  learning_rate=trial.suggest_loguniform('learning_rate', 0.01, 0.3),\n",
      "C:\\Users\\cheng\\AppData\\Local\\Temp\\ipykernel_19784\\2020316554.py:21: FutureWarning: suggest_uniform has been deprecated in v3.0.0. This feature will be removed in v6.0.0. See https://github.com/optuna/optuna/releases/tag/v3.0.0. Use suggest_float instead.\n",
      "  feature_fraction=trial.suggest_uniform('feature_fraction', 0.6, 1.0)\n"
     ]
    },
    {
     "name": "stdout",
     "output_type": "stream",
     "text": [
      "[LightGBM] [Warning] feature_fraction is set=0.9367510554507681, colsample_bytree=1.0 will be ignored. Current value: feature_fraction=0.9367510554507681\n",
      "[LightGBM] [Warning] feature_fraction is set=0.9367510554507681, colsample_bytree=1.0 will be ignored. Current value: feature_fraction=0.9367510554507681\n",
      "[LightGBM] [Info] Number of positive: 3744, number of negative: 3683\n",
      "[LightGBM] [Info] Auto-choosing col-wise multi-threading, the overhead of testing was 0.001071 seconds.\n",
      "You can set `force_col_wise=true` to remove the overhead.\n",
      "[LightGBM] [Info] Total Bins 797\n",
      "[LightGBM] [Info] Number of data points in the train set: 7427, number of used features: 16\n",
      "[LightGBM] [Info] [binary:BoostFromScore]: pavg=0.504107 -> initscore=0.016427\n",
      "[LightGBM] [Info] Start training from score 0.016427\n"
     ]
    },
    {
     "name": "stderr",
     "output_type": "stream",
     "text": [
      "[I 2024-10-03 19:42:22,687] Trial 37 finished with value: 0.9173973969387924 and parameters: {'model_type': 'lightgbm', 'num_leaves': 63, 'learning_rate': 0.18739119038273774, 'n_estimators': 268, 'feature_fraction': 0.9367510554507681}. Best is trial 33 with value: 0.9238588403683813.\n"
     ]
    },
    {
     "name": "stdout",
     "output_type": "stream",
     "text": [
      "[LightGBM] [Warning] feature_fraction is set=0.9367510554507681, colsample_bytree=1.0 will be ignored. Current value: feature_fraction=0.9367510554507681\n",
      "[LightGBM] [Warning] feature_fraction is set=0.8817403280438714, colsample_bytree=1.0 will be ignored. Current value: feature_fraction=0.8817403280438714\n",
      "[LightGBM] [Warning] feature_fraction is set=0.8817403280438714, colsample_bytree=1.0 will be ignored. Current value: feature_fraction=0.8817403280438714\n",
      "[LightGBM] [Info] Number of positive: 3744, number of negative: 3683\n",
      "[LightGBM] [Info] Auto-choosing col-wise multi-threading, the overhead of testing was 0.000928 seconds.\n",
      "You can set `force_col_wise=true` to remove the overhead.\n",
      "[LightGBM] [Info] Total Bins 797\n",
      "[LightGBM] [Info] Number of data points in the train set: 7427, number of used features: 16\n",
      "[LightGBM] [Info] [binary:BoostFromScore]: pavg=0.504107 -> initscore=0.016427\n",
      "[LightGBM] [Info] Start training from score 0.016427\n"
     ]
    },
    {
     "name": "stderr",
     "output_type": "stream",
     "text": [
      "C:\\Users\\cheng\\AppData\\Local\\Temp\\ipykernel_19784\\2020316554.py:19: FutureWarning: suggest_loguniform has been deprecated in v3.0.0. This feature will be removed in v6.0.0. See https://github.com/optuna/optuna/releases/tag/v3.0.0. Use suggest_float(..., log=True) instead.\n",
      "  learning_rate=trial.suggest_loguniform('learning_rate', 0.01, 0.3),\n",
      "C:\\Users\\cheng\\AppData\\Local\\Temp\\ipykernel_19784\\2020316554.py:21: FutureWarning: suggest_uniform has been deprecated in v3.0.0. This feature will be removed in v6.0.0. See https://github.com/optuna/optuna/releases/tag/v3.0.0. Use suggest_float instead.\n",
      "  feature_fraction=trial.suggest_uniform('feature_fraction', 0.6, 1.0)\n",
      "[I 2024-10-03 19:42:23,069] Trial 38 finished with value: 0.9206678115059507 and parameters: {'model_type': 'lightgbm', 'num_leaves': 34, 'learning_rate': 0.09467414515559434, 'n_estimators': 253, 'feature_fraction': 0.8817403280438714}. Best is trial 33 with value: 0.9238588403683813.\n"
     ]
    },
    {
     "name": "stdout",
     "output_type": "stream",
     "text": [
      "[LightGBM] [Warning] feature_fraction is set=0.8817403280438714, colsample_bytree=1.0 will be ignored. Current value: feature_fraction=0.8817403280438714\n"
     ]
    },
    {
     "name": "stderr",
     "output_type": "stream",
     "text": [
      "C:\\Users\\cheng\\AppData\\Local\\Temp\\ipykernel_19784\\2020316554.py:11: FutureWarning: suggest_loguniform has been deprecated in v3.0.0. This feature will be removed in v6.0.0. See https://github.com/optuna/optuna/releases/tag/v3.0.0. Use suggest_float(..., log=True) instead.\n",
      "  learning_rate=trial.suggest_loguniform('learning_rate', 0.01, 0.3),\n",
      "C:\\Users\\cheng\\AppData\\Local\\Temp\\ipykernel_19784\\2020316554.py:13: FutureWarning: suggest_uniform has been deprecated in v3.0.0. This feature will be removed in v6.0.0. See https://github.com/optuna/optuna/releases/tag/v3.0.0. Use suggest_float instead.\n",
      "  subsample=trial.suggest_uniform('subsample', 0.6, 1.0)\n",
      "[I 2024-10-03 19:42:23,369] Trial 39 finished with value: 0.8432213297145037 and parameters: {'model_type': 'xgboost', 'max_depth': 3, 'learning_rate': 0.06522420856754137, 'n_estimators': 200, 'subsample': 0.9891689012166538}. Best is trial 33 with value: 0.9238588403683813.\n",
      "[I 2024-10-03 19:42:25,978] Trial 40 finished with value: 0.8032684003030085 and parameters: {'model_type': 'randomforest', 'max_depth': 9, 'n_estimators': 284, 'max_features': 'log2'}. Best is trial 33 with value: 0.9238588403683813.\n",
      "C:\\Users\\cheng\\AppData\\Local\\Temp\\ipykernel_19784\\2020316554.py:19: FutureWarning: suggest_loguniform has been deprecated in v3.0.0. This feature will be removed in v6.0.0. See https://github.com/optuna/optuna/releases/tag/v3.0.0. Use suggest_float(..., log=True) instead.\n",
      "  learning_rate=trial.suggest_loguniform('learning_rate', 0.01, 0.3),\n",
      "C:\\Users\\cheng\\AppData\\Local\\Temp\\ipykernel_19784\\2020316554.py:21: FutureWarning: suggest_uniform has been deprecated in v3.0.0. This feature will be removed in v6.0.0. See https://github.com/optuna/optuna/releases/tag/v3.0.0. Use suggest_float instead.\n",
      "  feature_fraction=trial.suggest_uniform('feature_fraction', 0.6, 1.0)\n"
     ]
    },
    {
     "name": "stdout",
     "output_type": "stream",
     "text": [
      "[LightGBM] [Warning] feature_fraction is set=0.7821050373283044, colsample_bytree=1.0 will be ignored. Current value: feature_fraction=0.7821050373283044\n",
      "[LightGBM] [Warning] feature_fraction is set=0.7821050373283044, colsample_bytree=1.0 will be ignored. Current value: feature_fraction=0.7821050373283044\n",
      "[LightGBM] [Info] Number of positive: 3744, number of negative: 3683\n",
      "[LightGBM] [Info] Auto-choosing row-wise multi-threading, the overhead of testing was 0.003442 seconds.\n",
      "You can set `force_row_wise=true` to remove the overhead.\n",
      "And if memory is not enough, you can set `force_col_wise=true`.\n",
      "[LightGBM] [Info] Total Bins 797\n",
      "[LightGBM] [Info] Number of data points in the train set: 7427, number of used features: 16\n",
      "[LightGBM] [Info] [binary:BoostFromScore]: pavg=0.504107 -> initscore=0.016427\n",
      "[LightGBM] [Info] Start training from score 0.016427\n"
     ]
    },
    {
     "name": "stderr",
     "output_type": "stream",
     "text": [
      "[I 2024-10-03 19:42:26,819] Trial 41 finished with value: 0.9239431629950449 and parameters: {'model_type': 'lightgbm', 'num_leaves': 78, 'learning_rate': 0.09822986263987286, 'n_estimators': 216, 'feature_fraction': 0.7821050373283044}. Best is trial 41 with value: 0.9239431629950449.\n"
     ]
    },
    {
     "name": "stdout",
     "output_type": "stream",
     "text": [
      "[LightGBM] [Warning] feature_fraction is set=0.7821050373283044, colsample_bytree=1.0 will be ignored. Current value: feature_fraction=0.7821050373283044\n",
      "[LightGBM] [Warning] feature_fraction is set=0.9836462693590251, colsample_bytree=1.0 will be ignored. Current value: feature_fraction=0.9836462693590251\n",
      "[LightGBM] [Warning] feature_fraction is set=0.9836462693590251, colsample_bytree=1.0 will be ignored. Current value: feature_fraction=0.9836462693590251\n",
      "[LightGBM] [Info] Number of positive: 3744, number of negative: 3683\n",
      "[LightGBM] [Info] Auto-choosing row-wise multi-threading, the overhead of testing was 0.000462 seconds.\n",
      "You can set `force_row_wise=true` to remove the overhead.\n",
      "And if memory is not enough, you can set `force_col_wise=true`.\n",
      "[LightGBM] [Info] Total Bins 797\n",
      "[LightGBM] [Info] Number of data points in the train set: 7427, number of used features: 16\n",
      "[LightGBM] [Info] [binary:BoostFromScore]: pavg=0.504107 -> initscore=0.016427\n",
      "[LightGBM] [Info] Start training from score 0.016427\n"
     ]
    },
    {
     "name": "stderr",
     "output_type": "stream",
     "text": [
      "C:\\Users\\cheng\\AppData\\Local\\Temp\\ipykernel_19784\\2020316554.py:19: FutureWarning: suggest_loguniform has been deprecated in v3.0.0. This feature will be removed in v6.0.0. See https://github.com/optuna/optuna/releases/tag/v3.0.0. Use suggest_float(..., log=True) instead.\n",
      "  learning_rate=trial.suggest_loguniform('learning_rate', 0.01, 0.3),\n",
      "C:\\Users\\cheng\\AppData\\Local\\Temp\\ipykernel_19784\\2020316554.py:21: FutureWarning: suggest_uniform has been deprecated in v3.0.0. This feature will be removed in v6.0.0. See https://github.com/optuna/optuna/releases/tag/v3.0.0. Use suggest_float instead.\n",
      "  feature_fraction=trial.suggest_uniform('feature_fraction', 0.6, 1.0)\n",
      "[I 2024-10-03 19:42:27,605] Trial 42 finished with value: 0.9220092719343493 and parameters: {'model_type': 'lightgbm', 'num_leaves': 77, 'learning_rate': 0.08985400508941345, 'n_estimators': 219, 'feature_fraction': 0.9836462693590251}. Best is trial 41 with value: 0.9239431629950449.\n"
     ]
    },
    {
     "name": "stdout",
     "output_type": "stream",
     "text": [
      "[LightGBM] [Warning] feature_fraction is set=0.9836462693590251, colsample_bytree=1.0 will be ignored. Current value: feature_fraction=0.9836462693590251\n",
      "[LightGBM] [Warning] feature_fraction is set=0.8601281083242173, colsample_bytree=1.0 will be ignored. Current value: feature_fraction=0.8601281083242173\n",
      "[LightGBM] [Warning] feature_fraction is set=0.8601281083242173, colsample_bytree=1.0 will be ignored. Current value: feature_fraction=0.8601281083242173\n",
      "[LightGBM] [Info] Number of positive: 3744, number of negative: 3683\n",
      "[LightGBM] [Info] Auto-choosing col-wise multi-threading, the overhead of testing was 0.001021 seconds.\n",
      "You can set `force_col_wise=true` to remove the overhead.\n",
      "[LightGBM] [Info] Total Bins 797\n",
      "[LightGBM] [Info] Number of data points in the train set: 7427, number of used features: 16\n",
      "[LightGBM] [Info] [binary:BoostFromScore]: pavg=0.504107 -> initscore=0.016427\n",
      "[LightGBM] [Info] Start training from score 0.016427\n"
     ]
    },
    {
     "name": "stderr",
     "output_type": "stream",
     "text": [
      "C:\\Users\\cheng\\AppData\\Local\\Temp\\ipykernel_19784\\2020316554.py:19: FutureWarning: suggest_loguniform has been deprecated in v3.0.0. This feature will be removed in v6.0.0. See https://github.com/optuna/optuna/releases/tag/v3.0.0. Use suggest_float(..., log=True) instead.\n",
      "  learning_rate=trial.suggest_loguniform('learning_rate', 0.01, 0.3),\n",
      "C:\\Users\\cheng\\AppData\\Local\\Temp\\ipykernel_19784\\2020316554.py:21: FutureWarning: suggest_uniform has been deprecated in v3.0.0. This feature will be removed in v6.0.0. See https://github.com/optuna/optuna/releases/tag/v3.0.0. Use suggest_float instead.\n",
      "  feature_fraction=trial.suggest_uniform('feature_fraction', 0.6, 1.0)\n",
      "[I 2024-10-03 19:42:28,331] Trial 43 finished with value: 0.9197791655575048 and parameters: {'model_type': 'lightgbm', 'num_leaves': 86, 'learning_rate': 0.049485771606763984, 'n_estimators': 189, 'feature_fraction': 0.8601281083242173}. Best is trial 41 with value: 0.9239431629950449.\n",
      "[I 2024-10-03 19:42:28,383] Trial 44 finished with value: 0.6394473096145172 and parameters: {'model_type': 'logistic', 'penalty': 'l2', 'C': 0.12067045424860355}. Best is trial 41 with value: 0.9239431629950449.\n"
     ]
    },
    {
     "name": "stdout",
     "output_type": "stream",
     "text": [
      "[LightGBM] [Warning] feature_fraction is set=0.8601281083242173, colsample_bytree=1.0 will be ignored. Current value: feature_fraction=0.8601281083242173\n",
      "[LightGBM] [Warning] feature_fraction is set=0.7917916067520627, colsample_bytree=1.0 will be ignored. Current value: feature_fraction=0.7917916067520627\n",
      "[LightGBM] [Warning] feature_fraction is set=0.7917916067520627, colsample_bytree=1.0 will be ignored. Current value: feature_fraction=0.7917916067520627\n",
      "[LightGBM] [Info] Number of positive: 3744, number of negative: 3683\n",
      "[LightGBM] [Info] Auto-choosing row-wise multi-threading, the overhead of testing was 0.000715 seconds.\n",
      "You can set `force_row_wise=true` to remove the overhead.\n",
      "And if memory is not enough, you can set `force_col_wise=true`.\n",
      "[LightGBM] [Info] Total Bins 797\n",
      "[LightGBM] [Info] Number of data points in the train set: 7427, number of used features: 16\n",
      "[LightGBM] [Info] [binary:BoostFromScore]: pavg=0.504107 -> initscore=0.016427\n",
      "[LightGBM] [Info] Start training from score 0.016427\n"
     ]
    },
    {
     "name": "stderr",
     "output_type": "stream",
     "text": [
      "C:\\Users\\cheng\\AppData\\Local\\Temp\\ipykernel_19784\\2020316554.py:19: FutureWarning: suggest_loguniform has been deprecated in v3.0.0. This feature will be removed in v6.0.0. See https://github.com/optuna/optuna/releases/tag/v3.0.0. Use suggest_float(..., log=True) instead.\n",
      "  learning_rate=trial.suggest_loguniform('learning_rate', 0.01, 0.3),\n",
      "C:\\Users\\cheng\\AppData\\Local\\Temp\\ipykernel_19784\\2020316554.py:21: FutureWarning: suggest_uniform has been deprecated in v3.0.0. This feature will be removed in v6.0.0. See https://github.com/optuna/optuna/releases/tag/v3.0.0. Use suggest_float instead.\n",
      "  feature_fraction=trial.suggest_uniform('feature_fraction', 0.6, 1.0)\n",
      "[I 2024-10-03 19:42:28,823] Trial 45 finished with value: 0.9200512886946066 and parameters: {'model_type': 'lightgbm', 'num_leaves': 52, 'learning_rate': 0.06831058151988767, 'n_estimators': 229, 'feature_fraction': 0.7917916067520627}. Best is trial 41 with value: 0.9239431629950449.\n"
     ]
    },
    {
     "name": "stdout",
     "output_type": "stream",
     "text": [
      "[LightGBM] [Warning] feature_fraction is set=0.7917916067520627, colsample_bytree=1.0 will be ignored. Current value: feature_fraction=0.7917916067520627\n",
      "[LightGBM] [Warning] feature_fraction is set=0.9155484116907077, colsample_bytree=1.0 will be ignored. Current value: feature_fraction=0.9155484116907077\n",
      "[LightGBM] [Warning] feature_fraction is set=0.9155484116907077, colsample_bytree=1.0 will be ignored. Current value: feature_fraction=0.9155484116907077\n",
      "[LightGBM] [Info] Number of positive: 3744, number of negative: 3683\n",
      "[LightGBM] [Info] Auto-choosing col-wise multi-threading, the overhead of testing was 0.001123 seconds.\n",
      "You can set `force_col_wise=true` to remove the overhead.\n",
      "[LightGBM] [Info] Total Bins 797\n",
      "[LightGBM] [Info] Number of data points in the train set: 7427, number of used features: 16\n",
      "[LightGBM] [Info] [binary:BoostFromScore]: pavg=0.504107 -> initscore=0.016427\n",
      "[LightGBM] [Info] Start training from score 0.016427\n"
     ]
    },
    {
     "name": "stderr",
     "output_type": "stream",
     "text": [
      "C:\\Users\\cheng\\AppData\\Local\\Temp\\ipykernel_19784\\2020316554.py:19: FutureWarning: suggest_loguniform has been deprecated in v3.0.0. This feature will be removed in v6.0.0. See https://github.com/optuna/optuna/releases/tag/v3.0.0. Use suggest_float(..., log=True) instead.\n",
      "  learning_rate=trial.suggest_loguniform('learning_rate', 0.01, 0.3),\n",
      "C:\\Users\\cheng\\AppData\\Local\\Temp\\ipykernel_19784\\2020316554.py:21: FutureWarning: suggest_uniform has been deprecated in v3.0.0. This feature will be removed in v6.0.0. See https://github.com/optuna/optuna/releases/tag/v3.0.0. Use suggest_float instead.\n",
      "  feature_fraction=trial.suggest_uniform('feature_fraction', 0.6, 1.0)\n",
      "[I 2024-10-03 19:42:29,375] Trial 46 finished with value: 0.9208123645802313 and parameters: {'model_type': 'lightgbm', 'num_leaves': 68, 'learning_rate': 0.09355042131324877, 'n_estimators': 208, 'feature_fraction': 0.9155484116907077}. Best is trial 41 with value: 0.9239431629950449.\n"
     ]
    },
    {
     "name": "stdout",
     "output_type": "stream",
     "text": [
      "[LightGBM] [Warning] feature_fraction is set=0.9155484116907077, colsample_bytree=1.0 will be ignored. Current value: feature_fraction=0.9155484116907077\n",
      "[LightGBM] [Warning] feature_fraction is set=0.8127040904885079, colsample_bytree=1.0 will be ignored. Current value: feature_fraction=0.8127040904885079\n",
      "[LightGBM] [Warning] feature_fraction is set=0.8127040904885079, colsample_bytree=1.0 will be ignored. Current value: feature_fraction=0.8127040904885079\n",
      "[LightGBM] [Info] Number of positive: 3744, number of negative: 3683\n",
      "[LightGBM] [Info] Auto-choosing row-wise multi-threading, the overhead of testing was 0.000664 seconds.\n",
      "You can set `force_row_wise=true` to remove the overhead.\n",
      "And if memory is not enough, you can set `force_col_wise=true`.\n",
      "[LightGBM] [Info] Total Bins 797\n",
      "[LightGBM] [Info] Number of data points in the train set: 7427, number of used features: 16\n",
      "[LightGBM] [Info] [binary:BoostFromScore]: pavg=0.504107 -> initscore=0.016427\n",
      "[LightGBM] [Info] Start training from score 0.016427\n"
     ]
    },
    {
     "name": "stderr",
     "output_type": "stream",
     "text": [
      "C:\\Users\\cheng\\AppData\\Local\\Temp\\ipykernel_19784\\2020316554.py:19: FutureWarning: suggest_loguniform has been deprecated in v3.0.0. This feature will be removed in v6.0.0. See https://github.com/optuna/optuna/releases/tag/v3.0.0. Use suggest_float(..., log=True) instead.\n",
      "  learning_rate=trial.suggest_loguniform('learning_rate', 0.01, 0.3),\n",
      "C:\\Users\\cheng\\AppData\\Local\\Temp\\ipykernel_19784\\2020316554.py:21: FutureWarning: suggest_uniform has been deprecated in v3.0.0. This feature will be removed in v6.0.0. See https://github.com/optuna/optuna/releases/tag/v3.0.0. Use suggest_float instead.\n",
      "  feature_fraction=trial.suggest_uniform('feature_fraction', 0.6, 1.0)\n",
      "[I 2024-10-03 19:42:30,287] Trial 47 finished with value: 0.9220092719343493 and parameters: {'model_type': 'lightgbm', 'num_leaves': 93, 'learning_rate': 0.03776114390604963, 'n_estimators': 260, 'feature_fraction': 0.8127040904885079}. Best is trial 41 with value: 0.9239431629950449.\n"
     ]
    },
    {
     "name": "stdout",
     "output_type": "stream",
     "text": [
      "[LightGBM] [Warning] feature_fraction is set=0.8127040904885079, colsample_bytree=1.0 will be ignored. Current value: feature_fraction=0.8127040904885079\n",
      "[LightGBM] [Warning] feature_fraction is set=0.9646176486026815, colsample_bytree=1.0 will be ignored. Current value: feature_fraction=0.9646176486026815\n",
      "[LightGBM] [Warning] feature_fraction is set=0.9646176486026815, colsample_bytree=1.0 will be ignored. Current value: feature_fraction=0.9646176486026815\n",
      "[LightGBM] [Info] Number of positive: 3744, number of negative: 3683\n",
      "[LightGBM] [Info] Auto-choosing col-wise multi-threading, the overhead of testing was 0.001207 seconds.\n",
      "You can set `force_col_wise=true` to remove the overhead.\n",
      "[LightGBM] [Info] Total Bins 797\n",
      "[LightGBM] [Info] Number of data points in the train set: 7427, number of used features: 16\n",
      "[LightGBM] [Info] [binary:BoostFromScore]: pavg=0.504107 -> initscore=0.016427\n",
      "[LightGBM] [Info] Start training from score 0.016427\n"
     ]
    },
    {
     "name": "stderr",
     "output_type": "stream",
     "text": [
      "C:\\Users\\cheng\\AppData\\Local\\Temp\\ipykernel_19784\\2020316554.py:19: FutureWarning: suggest_loguniform has been deprecated in v3.0.0. This feature will be removed in v6.0.0. See https://github.com/optuna/optuna/releases/tag/v3.0.0. Use suggest_float(..., log=True) instead.\n",
      "  learning_rate=trial.suggest_loguniform('learning_rate', 0.01, 0.3),\n",
      "C:\\Users\\cheng\\AppData\\Local\\Temp\\ipykernel_19784\\2020316554.py:21: FutureWarning: suggest_uniform has been deprecated in v3.0.0. This feature will be removed in v6.0.0. See https://github.com/optuna/optuna/releases/tag/v3.0.0. Use suggest_float instead.\n",
      "  feature_fraction=trial.suggest_uniform('feature_fraction', 0.6, 1.0)\n",
      "[I 2024-10-03 19:42:30,916] Trial 48 finished with value: 0.9079277882352755 and parameters: {'model_type': 'lightgbm', 'num_leaves': 79, 'learning_rate': 0.02447761204807942, 'n_estimators': 192, 'feature_fraction': 0.9646176486026815}. Best is trial 41 with value: 0.9239431629950449.\n"
     ]
    },
    {
     "name": "stdout",
     "output_type": "stream",
     "text": [
      "[LightGBM] [Warning] feature_fraction is set=0.9646176486026815, colsample_bytree=1.0 will be ignored. Current value: feature_fraction=0.9646176486026815\n"
     ]
    },
    {
     "name": "stderr",
     "output_type": "stream",
     "text": [
      "C:\\Users\\cheng\\AppData\\Local\\Temp\\ipykernel_19784\\2020316554.py:11: FutureWarning: suggest_loguniform has been deprecated in v3.0.0. This feature will be removed in v6.0.0. See https://github.com/optuna/optuna/releases/tag/v3.0.0. Use suggest_float(..., log=True) instead.\n",
      "  learning_rate=trial.suggest_loguniform('learning_rate', 0.01, 0.3),\n",
      "C:\\Users\\cheng\\AppData\\Local\\Temp\\ipykernel_19784\\2020316554.py:13: FutureWarning: suggest_uniform has been deprecated in v3.0.0. This feature will be removed in v6.0.0. See https://github.com/optuna/optuna/releases/tag/v3.0.0. Use suggest_float instead.\n",
      "  subsample=trial.suggest_uniform('subsample', 0.6, 1.0)\n",
      "[I 2024-10-03 19:42:31,304] Trial 49 finished with value: 0.8883627666036584 and parameters: {'model_type': 'xgboost', 'max_depth': 6, 'learning_rate': 0.1741740648915996, 'n_estimators': 178, 'subsample': 0.6018234652236312}. Best is trial 41 with value: 0.9239431629950449.\n",
      "C:\\Users\\cheng\\AppData\\Local\\Temp\\ipykernel_19784\\2020316554.py:19: FutureWarning: suggest_loguniform has been deprecated in v3.0.0. This feature will be removed in v6.0.0. See https://github.com/optuna/optuna/releases/tag/v3.0.0. Use suggest_float(..., log=True) instead.\n",
      "  learning_rate=trial.suggest_loguniform('learning_rate', 0.01, 0.3),\n",
      "C:\\Users\\cheng\\AppData\\Local\\Temp\\ipykernel_19784\\2020316554.py:21: FutureWarning: suggest_uniform has been deprecated in v3.0.0. This feature will be removed in v6.0.0. See https://github.com/optuna/optuna/releases/tag/v3.0.0. Use suggest_float instead.\n",
      "  feature_fraction=trial.suggest_uniform('feature_fraction', 0.6, 1.0)\n"
     ]
    },
    {
     "name": "stdout",
     "output_type": "stream",
     "text": [
      "[LightGBM] [Warning] feature_fraction is set=0.987341652028261, colsample_bytree=1.0 will be ignored. Current value: feature_fraction=0.987341652028261\n",
      "[LightGBM] [Warning] feature_fraction is set=0.987341652028261, colsample_bytree=1.0 will be ignored. Current value: feature_fraction=0.987341652028261\n",
      "[LightGBM] [Info] Number of positive: 3744, number of negative: 3683\n",
      "[LightGBM] [Info] Auto-choosing row-wise multi-threading, the overhead of testing was 0.000632 seconds.\n",
      "You can set `force_row_wise=true` to remove the overhead.\n",
      "And if memory is not enough, you can set `force_col_wise=true`.\n",
      "[LightGBM] [Info] Total Bins 797\n",
      "[LightGBM] [Info] Number of data points in the train set: 7427, number of used features: 16\n",
      "[LightGBM] [Info] [binary:BoostFromScore]: pavg=0.504107 -> initscore=0.016427\n",
      "[LightGBM] [Info] Start training from score 0.016427\n"
     ]
    },
    {
     "name": "stderr",
     "output_type": "stream",
     "text": [
      "[I 2024-10-03 19:42:31,594] Trial 50 finished with value: 0.9024825608169538 and parameters: {'model_type': 'lightgbm', 'num_leaves': 44, 'learning_rate': 0.05592378382772744, 'n_estimators': 112, 'feature_fraction': 0.987341652028261}. Best is trial 41 with value: 0.9239431629950449.\n"
     ]
    },
    {
     "name": "stdout",
     "output_type": "stream",
     "text": [
      "[LightGBM] [Warning] feature_fraction is set=0.987341652028261, colsample_bytree=1.0 will be ignored. Current value: feature_fraction=0.987341652028261\n",
      "[LightGBM] [Warning] feature_fraction is set=0.7905928462985629, colsample_bytree=1.0 will be ignored. Current value: feature_fraction=0.7905928462985629\n",
      "[LightGBM] [Warning] feature_fraction is set=0.7905928462985629, colsample_bytree=1.0 will be ignored. Current value: feature_fraction=0.7905928462985629\n",
      "[LightGBM] [Info] Number of positive: 3744, number of negative: 3683\n",
      "[LightGBM] [Info] Auto-choosing col-wise multi-threading, the overhead of testing was 0.001165 seconds.\n",
      "You can set `force_col_wise=true` to remove the overhead.\n",
      "[LightGBM] [Info] Total Bins 797\n",
      "[LightGBM] [Info] Number of data points in the train set: 7427, number of used features: 16\n",
      "[LightGBM] [Info] [binary:BoostFromScore]: pavg=0.504107 -> initscore=0.016427\n",
      "[LightGBM] [Info] Start training from score 0.016427\n"
     ]
    },
    {
     "name": "stderr",
     "output_type": "stream",
     "text": [
      "C:\\Users\\cheng\\AppData\\Local\\Temp\\ipykernel_19784\\2020316554.py:19: FutureWarning: suggest_loguniform has been deprecated in v3.0.0. This feature will be removed in v6.0.0. See https://github.com/optuna/optuna/releases/tag/v3.0.0. Use suggest_float(..., log=True) instead.\n",
      "  learning_rate=trial.suggest_loguniform('learning_rate', 0.01, 0.3),\n",
      "C:\\Users\\cheng\\AppData\\Local\\Temp\\ipykernel_19784\\2020316554.py:21: FutureWarning: suggest_uniform has been deprecated in v3.0.0. This feature will be removed in v6.0.0. See https://github.com/optuna/optuna/releases/tag/v3.0.0. Use suggest_float instead.\n",
      "  feature_fraction=trial.suggest_uniform('feature_fraction', 0.6, 1.0)\n",
      "[I 2024-10-03 19:42:32,192] Trial 51 finished with value: 0.9233145940941776 and parameters: {'model_type': 'lightgbm', 'num_leaves': 107, 'learning_rate': 0.11430151099508833, 'n_estimators': 153, 'feature_fraction': 0.7905928462985629}. Best is trial 41 with value: 0.9239431629950449.\n"
     ]
    },
    {
     "name": "stdout",
     "output_type": "stream",
     "text": [
      "[LightGBM] [Warning] No further splits with positive gain, best gain: -inf\n",
      "[LightGBM] [Warning] feature_fraction is set=0.7905928462985629, colsample_bytree=1.0 will be ignored. Current value: feature_fraction=0.7905928462985629\n",
      "[LightGBM] [Warning] feature_fraction is set=0.7806822550820525, colsample_bytree=1.0 will be ignored. Current value: feature_fraction=0.7806822550820525\n",
      "[LightGBM] [Warning] feature_fraction is set=0.7806822550820525, colsample_bytree=1.0 will be ignored. Current value: feature_fraction=0.7806822550820525\n",
      "[LightGBM] [Info] Number of positive: 3744, number of negative: 3683\n",
      "[LightGBM] [Info] Auto-choosing row-wise multi-threading, the overhead of testing was 0.000450 seconds.\n",
      "You can set `force_row_wise=true` to remove the overhead.\n",
      "And if memory is not enough, you can set `force_col_wise=true`.\n",
      "[LightGBM] [Info] Total Bins 797\n",
      "[LightGBM] [Info] Number of data points in the train set: 7427, number of used features: 16\n",
      "[LightGBM] [Info] [binary:BoostFromScore]: pavg=0.504107 -> initscore=0.016427\n",
      "[LightGBM] [Info] Start training from score 0.016427\n"
     ]
    },
    {
     "name": "stderr",
     "output_type": "stream",
     "text": [
      "C:\\Users\\cheng\\AppData\\Local\\Temp\\ipykernel_19784\\2020316554.py:19: FutureWarning: suggest_loguniform has been deprecated in v3.0.0. This feature will be removed in v6.0.0. See https://github.com/optuna/optuna/releases/tag/v3.0.0. Use suggest_float(..., log=True) instead.\n",
      "  learning_rate=trial.suggest_loguniform('learning_rate', 0.01, 0.3),\n",
      "C:\\Users\\cheng\\AppData\\Local\\Temp\\ipykernel_19784\\2020316554.py:21: FutureWarning: suggest_uniform has been deprecated in v3.0.0. This feature will be removed in v6.0.0. See https://github.com/optuna/optuna/releases/tag/v3.0.0. Use suggest_float instead.\n",
      "  feature_fraction=trial.suggest_uniform('feature_fraction', 0.6, 1.0)\n",
      "[I 2024-10-03 19:42:32,849] Trial 52 finished with value: 0.9204438727269425 and parameters: {'model_type': 'lightgbm', 'num_leaves': 109, 'learning_rate': 0.08852272954451877, 'n_estimators': 153, 'feature_fraction': 0.7806822550820525}. Best is trial 41 with value: 0.9239431629950449.\n"
     ]
    },
    {
     "name": "stdout",
     "output_type": "stream",
     "text": [
      "[LightGBM] [Warning] No further splits with positive gain, best gain: -inf\n",
      "[LightGBM] [Warning] feature_fraction is set=0.7806822550820525, colsample_bytree=1.0 will be ignored. Current value: feature_fraction=0.7806822550820525\n",
      "[LightGBM] [Warning] feature_fraction is set=0.8271321316808289, colsample_bytree=1.0 will be ignored. Current value: feature_fraction=0.8271321316808289\n",
      "[LightGBM] [Warning] feature_fraction is set=0.8271321316808289, colsample_bytree=1.0 will be ignored. Current value: feature_fraction=0.8271321316808289\n",
      "[LightGBM] [Info] Number of positive: 3744, number of negative: 3683\n",
      "[LightGBM] [Info] Auto-choosing row-wise multi-threading, the overhead of testing was 0.000425 seconds.\n",
      "You can set `force_row_wise=true` to remove the overhead.\n",
      "And if memory is not enough, you can set `force_col_wise=true`.\n",
      "[LightGBM] [Info] Total Bins 797\n",
      "[LightGBM] [Info] Number of data points in the train set: 7427, number of used features: 16\n",
      "[LightGBM] [Info] [binary:BoostFromScore]: pavg=0.504107 -> initscore=0.016427\n",
      "[LightGBM] [Info] Start training from score 0.016427\n"
     ]
    },
    {
     "name": "stderr",
     "output_type": "stream",
     "text": [
      "C:\\Users\\cheng\\AppData\\Local\\Temp\\ipykernel_19784\\2020316554.py:19: FutureWarning: suggest_loguniform has been deprecated in v3.0.0. This feature will be removed in v6.0.0. See https://github.com/optuna/optuna/releases/tag/v3.0.0. Use suggest_float(..., log=True) instead.\n",
      "  learning_rate=trial.suggest_loguniform('learning_rate', 0.01, 0.3),\n",
      "C:\\Users\\cheng\\AppData\\Local\\Temp\\ipykernel_19784\\2020316554.py:21: FutureWarning: suggest_uniform has been deprecated in v3.0.0. This feature will be removed in v6.0.0. See https://github.com/optuna/optuna/releases/tag/v3.0.0. Use suggest_float instead.\n",
      "  feature_fraction=trial.suggest_uniform('feature_fraction', 0.6, 1.0)\n"
     ]
    },
    {
     "name": "stdout",
     "output_type": "stream",
     "text": [
      "[LightGBM] [Warning] No further splits with positive gain, best gain: -inf\n",
      "[LightGBM] [Warning] No further splits with positive gain, best gain: -inf\n"
     ]
    },
    {
     "name": "stderr",
     "output_type": "stream",
     "text": [
      "[I 2024-10-03 19:42:33,854] Trial 53 finished with value: 0.9226378408352166 and parameters: {'model_type': 'lightgbm', 'num_leaves': 132, 'learning_rate': 0.07719339084444327, 'n_estimators': 206, 'feature_fraction': 0.8271321316808289}. Best is trial 41 with value: 0.9239431629950449.\n"
     ]
    },
    {
     "name": "stdout",
     "output_type": "stream",
     "text": [
      "[LightGBM] [Warning] feature_fraction is set=0.8271321316808289, colsample_bytree=1.0 will be ignored. Current value: feature_fraction=0.8271321316808289\n",
      "[LightGBM] [Warning] feature_fraction is set=0.9019864992667759, colsample_bytree=1.0 will be ignored. Current value: feature_fraction=0.9019864992667759\n",
      "[LightGBM] [Warning] feature_fraction is set=0.9019864992667759, colsample_bytree=1.0 will be ignored. Current value: feature_fraction=0.9019864992667759\n",
      "[LightGBM] [Info] Number of positive: 3744, number of negative: 3683\n",
      "[LightGBM] [Info] Auto-choosing row-wise multi-threading, the overhead of testing was 0.000497 seconds.\n",
      "You can set `force_row_wise=true` to remove the overhead.\n",
      "And if memory is not enough, you can set `force_col_wise=true`.\n",
      "[LightGBM] [Info] Total Bins 797\n",
      "[LightGBM] [Info] Number of data points in the train set: 7427, number of used features: 16\n",
      "[LightGBM] [Info] [binary:BoostFromScore]: pavg=0.504107 -> initscore=0.016427\n",
      "[LightGBM] [Info] Start training from score 0.016427\n"
     ]
    },
    {
     "name": "stderr",
     "output_type": "stream",
     "text": [
      "C:\\Users\\cheng\\AppData\\Local\\Temp\\ipykernel_19784\\2020316554.py:19: FutureWarning: suggest_loguniform has been deprecated in v3.0.0. This feature will be removed in v6.0.0. See https://github.com/optuna/optuna/releases/tag/v3.0.0. Use suggest_float(..., log=True) instead.\n",
      "  learning_rate=trial.suggest_loguniform('learning_rate', 0.01, 0.3),\n",
      "C:\\Users\\cheng\\AppData\\Local\\Temp\\ipykernel_19784\\2020316554.py:21: FutureWarning: suggest_uniform has been deprecated in v3.0.0. This feature will be removed in v6.0.0. See https://github.com/optuna/optuna/releases/tag/v3.0.0. Use suggest_float instead.\n",
      "  feature_fraction=trial.suggest_uniform('feature_fraction', 0.6, 1.0)\n",
      "[I 2024-10-03 19:42:34,761] Trial 54 finished with value: 0.920800318490708 and parameters: {'model_type': 'lightgbm', 'num_leaves': 137, 'learning_rate': 0.10178710068723423, 'n_estimators': 210, 'feature_fraction': 0.9019864992667759}. Best is trial 41 with value: 0.9239431629950449.\n"
     ]
    },
    {
     "name": "stdout",
     "output_type": "stream",
     "text": [
      "[LightGBM] [Warning] feature_fraction is set=0.9019864992667759, colsample_bytree=1.0 will be ignored. Current value: feature_fraction=0.9019864992667759\n"
     ]
    },
    {
     "name": "stderr",
     "output_type": "stream",
     "text": [
      "[I 2024-10-03 19:42:40,803] Trial 55 finished with value: 0.8340896039482737 and parameters: {'model_type': 'randomforest', 'max_depth': 8, 'n_estimators': 226, 'max_features': None}. Best is trial 41 with value: 0.9239431629950449.\n",
      "C:\\Users\\cheng\\AppData\\Local\\Temp\\ipykernel_19784\\2020316554.py:19: FutureWarning: suggest_loguniform has been deprecated in v3.0.0. This feature will be removed in v6.0.0. See https://github.com/optuna/optuna/releases/tag/v3.0.0. Use suggest_float(..., log=True) instead.\n",
      "  learning_rate=trial.suggest_loguniform('learning_rate', 0.01, 0.3),\n",
      "C:\\Users\\cheng\\AppData\\Local\\Temp\\ipykernel_19784\\2020316554.py:21: FutureWarning: suggest_uniform has been deprecated in v3.0.0. This feature will be removed in v6.0.0. See https://github.com/optuna/optuna/releases/tag/v3.0.0. Use suggest_float instead.\n",
      "  feature_fraction=trial.suggest_uniform('feature_fraction', 0.6, 1.0)\n"
     ]
    },
    {
     "name": "stdout",
     "output_type": "stream",
     "text": [
      "[LightGBM] [Warning] feature_fraction is set=0.8552594919110286, colsample_bytree=1.0 will be ignored. Current value: feature_fraction=0.8552594919110286\n",
      "[LightGBM] [Warning] feature_fraction is set=0.8552594919110286, colsample_bytree=1.0 will be ignored. Current value: feature_fraction=0.8552594919110286\n",
      "[LightGBM] [Info] Number of positive: 3744, number of negative: 3683\n",
      "[LightGBM] [Info] Auto-choosing col-wise multi-threading, the overhead of testing was 0.001275 seconds.\n",
      "You can set `force_col_wise=true` to remove the overhead.\n",
      "[LightGBM] [Info] Total Bins 797\n",
      "[LightGBM] [Info] Number of data points in the train set: 7427, number of used features: 16\n",
      "[LightGBM] [Info] [binary:BoostFromScore]: pavg=0.504107 -> initscore=0.016427\n",
      "[LightGBM] [Info] Start training from score 0.016427\n"
     ]
    },
    {
     "name": "stderr",
     "output_type": "stream",
     "text": [
      "[I 2024-10-03 19:42:41,887] Trial 56 finished with value: 0.9170529972645504 and parameters: {'model_type': 'lightgbm', 'num_leaves': 131, 'learning_rate': 0.1451565713338017, 'n_estimators': 245, 'feature_fraction': 0.8552594919110286}. Best is trial 41 with value: 0.9239431629950449.\n"
     ]
    },
    {
     "name": "stdout",
     "output_type": "stream",
     "text": [
      "[LightGBM] [Warning] feature_fraction is set=0.8552594919110286, colsample_bytree=1.0 will be ignored. Current value: feature_fraction=0.8552594919110286\n",
      "[LightGBM] [Warning] feature_fraction is set=0.8400521436874747, colsample_bytree=1.0 will be ignored. Current value: feature_fraction=0.8400521436874747\n",
      "[LightGBM] [Warning] feature_fraction is set=0.8400521436874747, colsample_bytree=1.0 will be ignored. Current value: feature_fraction=0.8400521436874747\n",
      "[LightGBM] [Info] Number of positive: 3744, number of negative: 3683\n",
      "[LightGBM] [Info] Auto-choosing col-wise multi-threading, the overhead of testing was 0.001197 seconds.\n",
      "You can set `force_col_wise=true` to remove the overhead.\n",
      "[LightGBM] [Info] Total Bins 797\n",
      "[LightGBM] [Info] Number of data points in the train set: 7427, number of used features: 16\n",
      "[LightGBM] [Info] [binary:BoostFromScore]: pavg=0.504107 -> initscore=0.016427\n",
      "[LightGBM] [Info] Start training from score 0.016427\n"
     ]
    },
    {
     "name": "stderr",
     "output_type": "stream",
     "text": [
      "C:\\Users\\cheng\\AppData\\Local\\Temp\\ipykernel_19784\\2020316554.py:19: FutureWarning: suggest_loguniform has been deprecated in v3.0.0. This feature will be removed in v6.0.0. See https://github.com/optuna/optuna/releases/tag/v3.0.0. Use suggest_float(..., log=True) instead.\n",
      "  learning_rate=trial.suggest_loguniform('learning_rate', 0.01, 0.3),\n",
      "C:\\Users\\cheng\\AppData\\Local\\Temp\\ipykernel_19784\\2020316554.py:21: FutureWarning: suggest_uniform has been deprecated in v3.0.0. This feature will be removed in v6.0.0. See https://github.com/optuna/optuna/releases/tag/v3.0.0. Use suggest_float instead.\n",
      "  feature_fraction=trial.suggest_uniform('feature_fraction', 0.6, 1.0)\n"
     ]
    },
    {
     "name": "stdout",
     "output_type": "stream",
     "text": [
      "[LightGBM] [Warning] No further splits with positive gain, best gain: -inf\n",
      "[LightGBM] [Warning] No further splits with positive gain, best gain: -inf\n"
     ]
    },
    {
     "name": "stderr",
     "output_type": "stream",
     "text": [
      "[I 2024-10-03 19:42:42,653] Trial 57 finished with value: 0.9219610875762557 and parameters: {'model_type': 'lightgbm', 'num_leaves': 115, 'learning_rate': 0.07509613057630078, 'n_estimators': 203, 'feature_fraction': 0.8400521436874747}. Best is trial 41 with value: 0.9239431629950449.\n",
      "[I 2024-10-03 19:42:42,769] Trial 58 finished with value: 0.6364440812625248 and parameters: {'model_type': 'logistic', 'penalty': 'l1', 'C': 0.12158992319561819}. Best is trial 41 with value: 0.9239431629950449.\n"
     ]
    },
    {
     "name": "stdout",
     "output_type": "stream",
     "text": [
      "[LightGBM] [Warning] feature_fraction is set=0.8400521436874747, colsample_bytree=1.0 will be ignored. Current value: feature_fraction=0.8400521436874747\n",
      "[LightGBM] [Warning] feature_fraction is set=0.8224881765001291, colsample_bytree=1.0 will be ignored. Current value: feature_fraction=0.8224881765001291\n",
      "[LightGBM] [Warning] feature_fraction is set=0.8224881765001291, colsample_bytree=1.0 will be ignored. Current value: feature_fraction=0.8224881765001291\n",
      "[LightGBM] [Info] Number of positive: 3744, number of negative: 3683\n",
      "[LightGBM] [Info] Auto-choosing row-wise multi-threading, the overhead of testing was 0.000706 seconds.\n",
      "You can set `force_row_wise=true` to remove the overhead.\n",
      "And if memory is not enough, you can set `force_col_wise=true`.\n",
      "[LightGBM] [Info] Total Bins 797\n",
      "[LightGBM] [Info] Number of data points in the train set: 7427, number of used features: 16\n",
      "[LightGBM] [Info] [binary:BoostFromScore]: pavg=0.504107 -> initscore=0.016427\n",
      "[LightGBM] [Info] Start training from score 0.016427\n"
     ]
    },
    {
     "name": "stderr",
     "output_type": "stream",
     "text": [
      "C:\\Users\\cheng\\AppData\\Local\\Temp\\ipykernel_19784\\2020316554.py:19: FutureWarning: suggest_loguniform has been deprecated in v3.0.0. This feature will be removed in v6.0.0. See https://github.com/optuna/optuna/releases/tag/v3.0.0. Use suggest_float(..., log=True) instead.\n",
      "  learning_rate=trial.suggest_loguniform('learning_rate', 0.01, 0.3),\n",
      "C:\\Users\\cheng\\AppData\\Local\\Temp\\ipykernel_19784\\2020316554.py:21: FutureWarning: suggest_uniform has been deprecated in v3.0.0. This feature will be removed in v6.0.0. See https://github.com/optuna/optuna/releases/tag/v3.0.0. Use suggest_float instead.\n",
      "  feature_fraction=trial.suggest_uniform('feature_fraction', 0.6, 1.0)\n"
     ]
    },
    {
     "name": "stdout",
     "output_type": "stream",
     "text": [
      "[LightGBM] [Warning] No further splits with positive gain, best gain: -inf\n",
      "[LightGBM] [Warning] No further splits with positive gain, best gain: -inf\n"
     ]
    },
    {
     "name": "stderr",
     "output_type": "stream",
     "text": [
      "[I 2024-10-03 19:42:43,902] Trial 59 finished with value: 0.8993879006707104 and parameters: {'model_type': 'lightgbm', 'num_leaves': 131, 'learning_rate': 0.010264886672720987, 'n_estimators': 221, 'feature_fraction': 0.8224881765001291}. Best is trial 41 with value: 0.9239431629950449.\n"
     ]
    },
    {
     "name": "stdout",
     "output_type": "stream",
     "text": [
      "[LightGBM] [Warning] No further splits with positive gain, best gain: -inf\n",
      "[LightGBM] [Warning] feature_fraction is set=0.8224881765001291, colsample_bytree=1.0 will be ignored. Current value: feature_fraction=0.8224881765001291\n",
      "[LightGBM] [Warning] feature_fraction is set=0.7188519542092819, colsample_bytree=1.0 will be ignored. Current value: feature_fraction=0.7188519542092819\n",
      "[LightGBM] [Warning] feature_fraction is set=0.7188519542092819, colsample_bytree=1.0 will be ignored. Current value: feature_fraction=0.7188519542092819\n",
      "[LightGBM] [Info] Number of positive: 3744, number of negative: 3683\n",
      "[LightGBM] [Info] Auto-choosing row-wise multi-threading, the overhead of testing was 0.000420 seconds.\n",
      "You can set `force_row_wise=true` to remove the overhead.\n",
      "And if memory is not enough, you can set `force_col_wise=true`.\n",
      "[LightGBM] [Info] Total Bins 797\n",
      "[LightGBM] [Info] Number of data points in the train set: 7427, number of used features: 16\n",
      "[LightGBM] [Info] [binary:BoostFromScore]: pavg=0.504107 -> initscore=0.016427\n",
      "[LightGBM] [Info] Start training from score 0.016427\n"
     ]
    },
    {
     "name": "stderr",
     "output_type": "stream",
     "text": [
      "C:\\Users\\cheng\\AppData\\Local\\Temp\\ipykernel_19784\\2020316554.py:19: FutureWarning: suggest_loguniform has been deprecated in v3.0.0. This feature will be removed in v6.0.0. See https://github.com/optuna/optuna/releases/tag/v3.0.0. Use suggest_float(..., log=True) instead.\n",
      "  learning_rate=trial.suggest_loguniform('learning_rate', 0.01, 0.3),\n",
      "C:\\Users\\cheng\\AppData\\Local\\Temp\\ipykernel_19784\\2020316554.py:21: FutureWarning: suggest_uniform has been deprecated in v3.0.0. This feature will be removed in v6.0.0. See https://github.com/optuna/optuna/releases/tag/v3.0.0. Use suggest_float instead.\n",
      "  feature_fraction=trial.suggest_uniform('feature_fraction', 0.6, 1.0)\n"
     ]
    },
    {
     "name": "stdout",
     "output_type": "stream",
     "text": [
      "[LightGBM] [Warning] No further splits with positive gain, best gain: -inf\n",
      "[LightGBM] [Warning] No further splits with positive gain, best gain: -inf\n"
     ]
    },
    {
     "name": "stderr",
     "output_type": "stream",
     "text": [
      "[I 2024-10-03 19:42:44,827] Trial 60 finished with value: 0.919815303826075 and parameters: {'model_type': 'lightgbm', 'num_leaves': 140, 'learning_rate': 0.13020040904565988, 'n_estimators': 191, 'feature_fraction': 0.7188519542092819}. Best is trial 41 with value: 0.9239431629950449.\n"
     ]
    },
    {
     "name": "stdout",
     "output_type": "stream",
     "text": [
      "[LightGBM] [Warning] feature_fraction is set=0.7188519542092819, colsample_bytree=1.0 will be ignored. Current value: feature_fraction=0.7188519542092819\n",
      "[LightGBM] [Warning] feature_fraction is set=0.7905675152990813, colsample_bytree=1.0 will be ignored. Current value: feature_fraction=0.7905675152990813\n",
      "[LightGBM] [Warning] feature_fraction is set=0.7905675152990813, colsample_bytree=1.0 will be ignored. Current value: feature_fraction=0.7905675152990813\n",
      "[LightGBM] [Info] Number of positive: 3744, number of negative: 3683\n",
      "[LightGBM] [Info] Auto-choosing row-wise multi-threading, the overhead of testing was 0.000447 seconds.\n",
      "You can set `force_row_wise=true` to remove the overhead.\n",
      "And if memory is not enough, you can set `force_col_wise=true`.\n",
      "[LightGBM] [Info] Total Bins 797\n",
      "[LightGBM] [Info] Number of data points in the train set: 7427, number of used features: 16\n",
      "[LightGBM] [Info] [binary:BoostFromScore]: pavg=0.504107 -> initscore=0.016427\n",
      "[LightGBM] [Info] Start training from score 0.016427\n"
     ]
    },
    {
     "name": "stderr",
     "output_type": "stream",
     "text": [
      "C:\\Users\\cheng\\AppData\\Local\\Temp\\ipykernel_19784\\2020316554.py:19: FutureWarning: suggest_loguniform has been deprecated in v3.0.0. This feature will be removed in v6.0.0. See https://github.com/optuna/optuna/releases/tag/v3.0.0. Use suggest_float(..., log=True) instead.\n",
      "  learning_rate=trial.suggest_loguniform('learning_rate', 0.01, 0.3),\n",
      "C:\\Users\\cheng\\AppData\\Local\\Temp\\ipykernel_19784\\2020316554.py:21: FutureWarning: suggest_uniform has been deprecated in v3.0.0. This feature will be removed in v6.0.0. See https://github.com/optuna/optuna/releases/tag/v3.0.0. Use suggest_float instead.\n",
      "  feature_fraction=trial.suggest_uniform('feature_fraction', 0.6, 1.0)\n",
      "[I 2024-10-03 19:42:45,385] Trial 61 finished with value: 0.9229340561513654 and parameters: {'model_type': 'lightgbm', 'num_leaves': 95, 'learning_rate': 0.06828102683515591, 'n_estimators': 163, 'feature_fraction': 0.7905675152990813}. Best is trial 41 with value: 0.9239431629950449.\n"
     ]
    },
    {
     "name": "stdout",
     "output_type": "stream",
     "text": [
      "[LightGBM] [Warning] feature_fraction is set=0.7905675152990813, colsample_bytree=1.0 will be ignored. Current value: feature_fraction=0.7905675152990813\n",
      "[LightGBM] [Warning] feature_fraction is set=0.7756869090121667, colsample_bytree=1.0 will be ignored. Current value: feature_fraction=0.7756869090121667\n",
      "[LightGBM] [Warning] feature_fraction is set=0.7756869090121667, colsample_bytree=1.0 will be ignored. Current value: feature_fraction=0.7756869090121667\n",
      "[LightGBM] [Info] Number of positive: 3744, number of negative: 3683\n",
      "[LightGBM] [Info] Auto-choosing row-wise multi-threading, the overhead of testing was 0.000431 seconds.\n",
      "You can set `force_row_wise=true` to remove the overhead.\n",
      "And if memory is not enough, you can set `force_col_wise=true`.\n",
      "[LightGBM] [Info] Total Bins 797\n",
      "[LightGBM] [Info] Number of data points in the train set: 7427, number of used features: 16\n",
      "[LightGBM] [Info] [binary:BoostFromScore]: pavg=0.504107 -> initscore=0.016427\n",
      "[LightGBM] [Info] Start training from score 0.016427\n"
     ]
    },
    {
     "name": "stderr",
     "output_type": "stream",
     "text": [
      "C:\\Users\\cheng\\AppData\\Local\\Temp\\ipykernel_19784\\2020316554.py:19: FutureWarning: suggest_loguniform has been deprecated in v3.0.0. This feature will be removed in v6.0.0. See https://github.com/optuna/optuna/releases/tag/v3.0.0. Use suggest_float(..., log=True) instead.\n",
      "  learning_rate=trial.suggest_loguniform('learning_rate', 0.01, 0.3),\n",
      "C:\\Users\\cheng\\AppData\\Local\\Temp\\ipykernel_19784\\2020316554.py:21: FutureWarning: suggest_uniform has been deprecated in v3.0.0. This feature will be removed in v6.0.0. See https://github.com/optuna/optuna/releases/tag/v3.0.0. Use suggest_float instead.\n",
      "  feature_fraction=trial.suggest_uniform('feature_fraction', 0.6, 1.0)\n",
      "[I 2024-10-03 19:42:45,985] Trial 62 finished with value: 0.9235505789627093 and parameters: {'model_type': 'lightgbm', 'num_leaves': 110, 'learning_rate': 0.07988157155074133, 'n_estimators': 160, 'feature_fraction': 0.7756869090121667}. Best is trial 41 with value: 0.9239431629950449.\n"
     ]
    },
    {
     "name": "stdout",
     "output_type": "stream",
     "text": [
      "[LightGBM] [Warning] No further splits with positive gain, best gain: -inf\n",
      "[LightGBM] [Warning] feature_fraction is set=0.7756869090121667, colsample_bytree=1.0 will be ignored. Current value: feature_fraction=0.7756869090121667\n",
      "[LightGBM] [Warning] feature_fraction is set=0.7700795535919518, colsample_bytree=1.0 will be ignored. Current value: feature_fraction=0.7700795535919518\n",
      "[LightGBM] [Warning] feature_fraction is set=0.7700795535919518, colsample_bytree=1.0 will be ignored. Current value: feature_fraction=0.7700795535919518\n",
      "[LightGBM] [Info] Number of positive: 3744, number of negative: 3683\n",
      "[LightGBM] [Info] Auto-choosing row-wise multi-threading, the overhead of testing was 0.000439 seconds.\n",
      "You can set `force_row_wise=true` to remove the overhead.\n",
      "And if memory is not enough, you can set `force_col_wise=true`.\n",
      "[LightGBM] [Info] Total Bins 797\n",
      "[LightGBM] [Info] Number of data points in the train set: 7427, number of used features: 16\n",
      "[LightGBM] [Info] [binary:BoostFromScore]: pavg=0.504107 -> initscore=0.016427\n",
      "[LightGBM] [Info] Start training from score 0.016427\n"
     ]
    },
    {
     "name": "stderr",
     "output_type": "stream",
     "text": [
      "C:\\Users\\cheng\\AppData\\Local\\Temp\\ipykernel_19784\\2020316554.py:19: FutureWarning: suggest_loguniform has been deprecated in v3.0.0. This feature will be removed in v6.0.0. See https://github.com/optuna/optuna/releases/tag/v3.0.0. Use suggest_float(..., log=True) instead.\n",
      "  learning_rate=trial.suggest_loguniform('learning_rate', 0.01, 0.3),\n",
      "C:\\Users\\cheng\\AppData\\Local\\Temp\\ipykernel_19784\\2020316554.py:21: FutureWarning: suggest_uniform has been deprecated in v3.0.0. This feature will be removed in v6.0.0. See https://github.com/optuna/optuna/releases/tag/v3.0.0. Use suggest_float instead.\n",
      "  feature_fraction=trial.suggest_uniform('feature_fraction', 0.6, 1.0)\n",
      "[I 2024-10-03 19:42:46,570] Trial 63 finished with value: 0.9197189351098881 and parameters: {'model_type': 'lightgbm', 'num_leaves': 98, 'learning_rate': 0.05225970072464574, 'n_estimators': 155, 'feature_fraction': 0.7700795535919518}. Best is trial 41 with value: 0.9239431629950449.\n"
     ]
    },
    {
     "name": "stdout",
     "output_type": "stream",
     "text": [
      "[LightGBM] [Warning] No further splits with positive gain, best gain: -inf\n",
      "[LightGBM] [Warning] feature_fraction is set=0.7700795535919518, colsample_bytree=1.0 will be ignored. Current value: feature_fraction=0.7700795535919518\n",
      "[LightGBM] [Warning] feature_fraction is set=0.7976037543062144, colsample_bytree=1.0 will be ignored. Current value: feature_fraction=0.7976037543062144\n",
      "[LightGBM] [Warning] feature_fraction is set=0.7976037543062144, colsample_bytree=1.0 will be ignored. Current value: feature_fraction=0.7976037543062144\n",
      "[LightGBM] [Info] Number of positive: 3744, number of negative: 3683\n",
      "[LightGBM] [Info] Auto-choosing row-wise multi-threading, the overhead of testing was 0.000479 seconds.\n",
      "You can set `force_row_wise=true` to remove the overhead.\n",
      "And if memory is not enough, you can set `force_col_wise=true`.\n",
      "[LightGBM] [Info] Total Bins 797\n",
      "[LightGBM] [Info] Number of data points in the train set: 7427, number of used features: 16\n",
      "[LightGBM] [Info] [binary:BoostFromScore]: pavg=0.504107 -> initscore=0.016427\n",
      "[LightGBM] [Info] Start training from score 0.016427\n"
     ]
    },
    {
     "name": "stderr",
     "output_type": "stream",
     "text": [
      "C:\\Users\\cheng\\AppData\\Local\\Temp\\ipykernel_19784\\2020316554.py:19: FutureWarning: suggest_loguniform has been deprecated in v3.0.0. This feature will be removed in v6.0.0. See https://github.com/optuna/optuna/releases/tag/v3.0.0. Use suggest_float(..., log=True) instead.\n",
      "  learning_rate=trial.suggest_loguniform('learning_rate', 0.01, 0.3),\n",
      "C:\\Users\\cheng\\AppData\\Local\\Temp\\ipykernel_19784\\2020316554.py:21: FutureWarning: suggest_uniform has been deprecated in v3.0.0. This feature will be removed in v6.0.0. See https://github.com/optuna/optuna/releases/tag/v3.0.0. Use suggest_float instead.\n",
      "  feature_fraction=trial.suggest_uniform('feature_fraction', 0.6, 1.0)\n",
      "[I 2024-10-03 19:42:47,236] Trial 64 finished with value: 0.917965735392043 and parameters: {'model_type': 'lightgbm', 'num_leaves': 110, 'learning_rate': 0.1030163121131872, 'n_estimators': 173, 'feature_fraction': 0.7976037543062144}. Best is trial 41 with value: 0.9239431629950449.\n"
     ]
    },
    {
     "name": "stdout",
     "output_type": "stream",
     "text": [
      "[LightGBM] [Warning] No further splits with positive gain, best gain: -inf\n",
      "[LightGBM] [Warning] feature_fraction is set=0.7976037543062144, colsample_bytree=1.0 will be ignored. Current value: feature_fraction=0.7976037543062144\n",
      "[LightGBM] [Warning] feature_fraction is set=0.730934521407853, colsample_bytree=1.0 will be ignored. Current value: feature_fraction=0.730934521407853\n",
      "[LightGBM] [Warning] feature_fraction is set=0.730934521407853, colsample_bytree=1.0 will be ignored. Current value: feature_fraction=0.730934521407853\n",
      "[LightGBM] [Info] Number of positive: 3744, number of negative: 3683\n",
      "[LightGBM] [Info] Auto-choosing row-wise multi-threading, the overhead of testing was 0.000447 seconds.\n",
      "You can set `force_row_wise=true` to remove the overhead.\n",
      "And if memory is not enough, you can set `force_col_wise=true`.\n",
      "[LightGBM] [Info] Total Bins 797\n",
      "[LightGBM] [Info] Number of data points in the train set: 7427, number of used features: 16\n",
      "[LightGBM] [Info] [binary:BoostFromScore]: pavg=0.504107 -> initscore=0.016427\n",
      "[LightGBM] [Info] Start training from score 0.016427\n"
     ]
    },
    {
     "name": "stderr",
     "output_type": "stream",
     "text": [
      "C:\\Users\\cheng\\AppData\\Local\\Temp\\ipykernel_19784\\2020316554.py:19: FutureWarning: suggest_loguniform has been deprecated in v3.0.0. This feature will be removed in v6.0.0. See https://github.com/optuna/optuna/releases/tag/v3.0.0. Use suggest_float(..., log=True) instead.\n",
      "  learning_rate=trial.suggest_loguniform('learning_rate', 0.01, 0.3),\n",
      "C:\\Users\\cheng\\AppData\\Local\\Temp\\ipykernel_19784\\2020316554.py:21: FutureWarning: suggest_uniform has been deprecated in v3.0.0. This feature will be removed in v6.0.0. See https://github.com/optuna/optuna/releases/tag/v3.0.0. Use suggest_float instead.\n",
      "  feature_fraction=trial.suggest_uniform('feature_fraction', 0.6, 1.0)\n",
      "[I 2024-10-03 19:42:47,618] Trial 65 finished with value: 0.9204197805478955 and parameters: {'model_type': 'lightgbm', 'num_leaves': 83, 'learning_rate': 0.16649808902498103, 'n_estimators': 129, 'feature_fraction': 0.730934521407853}. Best is trial 41 with value: 0.9239431629950449.\n"
     ]
    },
    {
     "name": "stdout",
     "output_type": "stream",
     "text": [
      "[LightGBM] [Warning] feature_fraction is set=0.730934521407853, colsample_bytree=1.0 will be ignored. Current value: feature_fraction=0.730934521407853\n",
      "[LightGBM] [Warning] feature_fraction is set=0.7606692583367552, colsample_bytree=1.0 will be ignored. Current value: feature_fraction=0.7606692583367552\n",
      "[LightGBM] [Warning] feature_fraction is set=0.7606692583367552, colsample_bytree=1.0 will be ignored. Current value: feature_fraction=0.7606692583367552\n",
      "[LightGBM] [Info] Number of positive: 3744, number of negative: 3683\n",
      "[LightGBM] [Info] Auto-choosing row-wise multi-threading, the overhead of testing was 0.000462 seconds.\n",
      "You can set `force_row_wise=true` to remove the overhead.\n",
      "And if memory is not enough, you can set `force_col_wise=true`.\n",
      "[LightGBM] [Info] Total Bins 797\n",
      "[LightGBM] [Info] Number of data points in the train set: 7427, number of used features: 16\n",
      "[LightGBM] [Info] [binary:BoostFromScore]: pavg=0.504107 -> initscore=0.016427\n",
      "[LightGBM] [Info] Start training from score 0.016427\n"
     ]
    },
    {
     "name": "stderr",
     "output_type": "stream",
     "text": [
      "C:\\Users\\cheng\\AppData\\Local\\Temp\\ipykernel_19784\\2020316554.py:19: FutureWarning: suggest_loguniform has been deprecated in v3.0.0. This feature will be removed in v6.0.0. See https://github.com/optuna/optuna/releases/tag/v3.0.0. Use suggest_float(..., log=True) instead.\n",
      "  learning_rate=trial.suggest_loguniform('learning_rate', 0.01, 0.3),\n",
      "C:\\Users\\cheng\\AppData\\Local\\Temp\\ipykernel_19784\\2020316554.py:21: FutureWarning: suggest_uniform has been deprecated in v3.0.0. This feature will be removed in v6.0.0. See https://github.com/optuna/optuna/releases/tag/v3.0.0. Use suggest_float instead.\n",
      "  feature_fraction=trial.suggest_uniform('feature_fraction', 0.6, 1.0)\n",
      "[I 2024-10-03 19:42:47,938] Trial 66 finished with value: 0.9181776280815279 and parameters: {'model_type': 'lightgbm', 'num_leaves': 70, 'learning_rate': 0.08459948776277704, 'n_estimators': 117, 'feature_fraction': 0.7606692583367552}. Best is trial 41 with value: 0.9239431629950449.\n"
     ]
    },
    {
     "name": "stdout",
     "output_type": "stream",
     "text": [
      "[LightGBM] [Warning] feature_fraction is set=0.7606692583367552, colsample_bytree=1.0 will be ignored. Current value: feature_fraction=0.7606692583367552\n"
     ]
    },
    {
     "name": "stderr",
     "output_type": "stream",
     "text": [
      "[I 2024-10-03 19:42:50,417] Trial 67 finished with value: 0.7346487399790358 and parameters: {'model_type': 'randomforest', 'max_depth': 4, 'n_estimators': 160, 'max_features': None}. Best is trial 41 with value: 0.9239431629950449.\n",
      "C:\\Users\\cheng\\AppData\\Local\\Temp\\ipykernel_19784\\2020316554.py:19: FutureWarning: suggest_loguniform has been deprecated in v3.0.0. This feature will be removed in v6.0.0. See https://github.com/optuna/optuna/releases/tag/v3.0.0. Use suggest_float(..., log=True) instead.\n",
      "  learning_rate=trial.suggest_loguniform('learning_rate', 0.01, 0.3),\n",
      "C:\\Users\\cheng\\AppData\\Local\\Temp\\ipykernel_19784\\2020316554.py:21: FutureWarning: suggest_uniform has been deprecated in v3.0.0. This feature will be removed in v6.0.0. See https://github.com/optuna/optuna/releases/tag/v3.0.0. Use suggest_float instead.\n",
      "  feature_fraction=trial.suggest_uniform('feature_fraction', 0.6, 1.0)\n"
     ]
    },
    {
     "name": "stdout",
     "output_type": "stream",
     "text": [
      "[LightGBM] [Warning] feature_fraction is set=0.8684089111626768, colsample_bytree=1.0 will be ignored. Current value: feature_fraction=0.8684089111626768\n",
      "[LightGBM] [Warning] feature_fraction is set=0.8684089111626768, colsample_bytree=1.0 will be ignored. Current value: feature_fraction=0.8684089111626768\n",
      "[LightGBM] [Info] Number of positive: 3744, number of negative: 3683\n",
      "[LightGBM] [Info] Auto-choosing row-wise multi-threading, the overhead of testing was 0.001008 seconds.\n",
      "You can set `force_row_wise=true` to remove the overhead.\n",
      "And if memory is not enough, you can set `force_col_wise=true`.\n",
      "[LightGBM] [Info] Total Bins 797\n",
      "[LightGBM] [Info] Number of data points in the train set: 7427, number of used features: 16\n",
      "[LightGBM] [Info] [binary:BoostFromScore]: pavg=0.504107 -> initscore=0.016427\n",
      "[LightGBM] [Info] Start training from score 0.016427\n"
     ]
    },
    {
     "name": "stderr",
     "output_type": "stream",
     "text": [
      "[I 2024-10-03 19:42:51,072] Trial 68 finished with value: 0.9229461022408886 and parameters: {'model_type': 'lightgbm', 'num_leaves': 105, 'learning_rate': 0.11258254151495703, 'n_estimators': 139, 'feature_fraction': 0.8684089111626768}. Best is trial 41 with value: 0.9239431629950449.\n"
     ]
    },
    {
     "name": "stdout",
     "output_type": "stream",
     "text": [
      "[LightGBM] [Warning] feature_fraction is set=0.8684089111626768, colsample_bytree=1.0 will be ignored. Current value: feature_fraction=0.8684089111626768\n",
      "[LightGBM] [Warning] feature_fraction is set=0.6776971610316471, colsample_bytree=1.0 will be ignored. Current value: feature_fraction=0.6776971610316471\n",
      "[LightGBM] [Warning] feature_fraction is set=0.6776971610316471, colsample_bytree=1.0 will be ignored. Current value: feature_fraction=0.6776971610316471\n",
      "[LightGBM] [Info] Number of positive: 3744, number of negative: 3683\n",
      "[LightGBM] [Info] Auto-choosing row-wise multi-threading, the overhead of testing was 0.000674 seconds.\n",
      "You can set `force_row_wise=true` to remove the overhead.\n",
      "And if memory is not enough, you can set `force_col_wise=true`.\n",
      "[LightGBM] [Info] Total Bins 797\n",
      "[LightGBM] [Info] Number of data points in the train set: 7427, number of used features: 16\n",
      "[LightGBM] [Info] [binary:BoostFromScore]: pavg=0.504107 -> initscore=0.016427\n",
      "[LightGBM] [Info] Start training from score 0.016427\n"
     ]
    },
    {
     "name": "stderr",
     "output_type": "stream",
     "text": [
      "C:\\Users\\cheng\\AppData\\Local\\Temp\\ipykernel_19784\\2020316554.py:19: FutureWarning: suggest_loguniform has been deprecated in v3.0.0. This feature will be removed in v6.0.0. See https://github.com/optuna/optuna/releases/tag/v3.0.0. Use suggest_float(..., log=True) instead.\n",
      "  learning_rate=trial.suggest_loguniform('learning_rate', 0.01, 0.3),\n",
      "C:\\Users\\cheng\\AppData\\Local\\Temp\\ipykernel_19784\\2020316554.py:21: FutureWarning: suggest_uniform has been deprecated in v3.0.0. This feature will be removed in v6.0.0. See https://github.com/optuna/optuna/releases/tag/v3.0.0. Use suggest_float instead.\n",
      "  feature_fraction=trial.suggest_uniform('feature_fraction', 0.6, 1.0)\n",
      "[I 2024-10-03 19:42:51,462] Trial 69 finished with value: 0.9182619507081916 and parameters: {'model_type': 'lightgbm', 'num_leaves': 104, 'learning_rate': 0.21105252660527568, 'n_estimators': 96, 'feature_fraction': 0.6776971610316471}. Best is trial 41 with value: 0.9239431629950449.\n"
     ]
    },
    {
     "name": "stdout",
     "output_type": "stream",
     "text": [
      "[LightGBM] [Warning] feature_fraction is set=0.6776971610316471, colsample_bytree=1.0 will be ignored. Current value: feature_fraction=0.6776971610316471\n",
      "[LightGBM] [Warning] feature_fraction is set=0.78402187390785, colsample_bytree=1.0 will be ignored. Current value: feature_fraction=0.78402187390785\n",
      "[LightGBM] [Warning] feature_fraction is set=0.78402187390785, colsample_bytree=1.0 will be ignored. Current value: feature_fraction=0.78402187390785\n",
      "[LightGBM] [Info] Number of positive: 3744, number of negative: 3683\n",
      "[LightGBM] [Info] Auto-choosing col-wise multi-threading, the overhead of testing was 0.001020 seconds.\n",
      "You can set `force_col_wise=true` to remove the overhead.\n",
      "[LightGBM] [Info] Total Bins 797\n",
      "[LightGBM] [Info] Number of data points in the train set: 7427, number of used features: 16\n",
      "[LightGBM] [Info] [binary:BoostFromScore]: pavg=0.504107 -> initscore=0.016427\n",
      "[LightGBM] [Info] Start training from score 0.016427\n"
     ]
    },
    {
     "name": "stderr",
     "output_type": "stream",
     "text": [
      "C:\\Users\\cheng\\AppData\\Local\\Temp\\ipykernel_19784\\2020316554.py:19: FutureWarning: suggest_loguniform has been deprecated in v3.0.0. This feature will be removed in v6.0.0. See https://github.com/optuna/optuna/releases/tag/v3.0.0. Use suggest_float(..., log=True) instead.\n",
      "  learning_rate=trial.suggest_loguniform('learning_rate', 0.01, 0.3),\n",
      "C:\\Users\\cheng\\AppData\\Local\\Temp\\ipykernel_19784\\2020316554.py:21: FutureWarning: suggest_uniform has been deprecated in v3.0.0. This feature will be removed in v6.0.0. See https://github.com/optuna/optuna/releases/tag/v3.0.0. Use suggest_float instead.\n",
      "  feature_fraction=trial.suggest_uniform('feature_fraction', 0.6, 1.0)\n",
      "[I 2024-10-03 19:42:52,048] Trial 70 finished with value: 0.9242032400426234 and parameters: {'model_type': 'lightgbm', 'num_leaves': 123, 'learning_rate': 0.11256154541256796, 'n_estimators': 144, 'feature_fraction': 0.78402187390785}. Best is trial 70 with value: 0.9242032400426234.\n"
     ]
    },
    {
     "name": "stdout",
     "output_type": "stream",
     "text": [
      "[LightGBM] [Warning] feature_fraction is set=0.78402187390785, colsample_bytree=1.0 will be ignored. Current value: feature_fraction=0.78402187390785\n",
      "[LightGBM] [Warning] feature_fraction is set=0.7851082802967232, colsample_bytree=1.0 will be ignored. Current value: feature_fraction=0.7851082802967232\n",
      "[LightGBM] [Warning] feature_fraction is set=0.7851082802967232, colsample_bytree=1.0 will be ignored. Current value: feature_fraction=0.7851082802967232\n",
      "[LightGBM] [Info] Number of positive: 3744, number of negative: 3683\n",
      "[LightGBM] [Info] Auto-choosing row-wise multi-threading, the overhead of testing was 0.000573 seconds.\n",
      "You can set `force_row_wise=true` to remove the overhead.\n",
      "And if memory is not enough, you can set `force_col_wise=true`.\n",
      "[LightGBM] [Info] Total Bins 797\n",
      "[LightGBM] [Info] Number of data points in the train set: 7427, number of used features: 16\n",
      "[LightGBM] [Info] [binary:BoostFromScore]: pavg=0.504107 -> initscore=0.016427\n",
      "[LightGBM] [Info] Start training from score 0.016427\n"
     ]
    },
    {
     "name": "stderr",
     "output_type": "stream",
     "text": [
      "C:\\Users\\cheng\\AppData\\Local\\Temp\\ipykernel_19784\\2020316554.py:19: FutureWarning: suggest_loguniform has been deprecated in v3.0.0. This feature will be removed in v6.0.0. See https://github.com/optuna/optuna/releases/tag/v3.0.0. Use suggest_float(..., log=True) instead.\n",
      "  learning_rate=trial.suggest_loguniform('learning_rate', 0.01, 0.3),\n",
      "C:\\Users\\cheng\\AppData\\Local\\Temp\\ipykernel_19784\\2020316554.py:21: FutureWarning: suggest_uniform has been deprecated in v3.0.0. This feature will be removed in v6.0.0. See https://github.com/optuna/optuna/releases/tag/v3.0.0. Use suggest_float instead.\n",
      "  feature_fraction=trial.suggest_uniform('feature_fraction', 0.6, 1.0)\n",
      "[I 2024-10-03 19:42:52,652] Trial 71 finished with value: 0.919875534273692 and parameters: {'model_type': 'lightgbm', 'num_leaves': 122, 'learning_rate': 0.11413192102167251, 'n_estimators': 141, 'feature_fraction': 0.7851082802967232}. Best is trial 70 with value: 0.9242032400426234.\n"
     ]
    },
    {
     "name": "stdout",
     "output_type": "stream",
     "text": [
      "[LightGBM] [Warning] feature_fraction is set=0.7851082802967232, colsample_bytree=1.0 will be ignored. Current value: feature_fraction=0.7851082802967232\n",
      "[LightGBM] [Warning] feature_fraction is set=0.8069693524124345, colsample_bytree=1.0 will be ignored. Current value: feature_fraction=0.8069693524124345\n",
      "[LightGBM] [Warning] feature_fraction is set=0.8069693524124345, colsample_bytree=1.0 will be ignored. Current value: feature_fraction=0.8069693524124345\n",
      "[LightGBM] [Info] Number of positive: 3744, number of negative: 3683\n",
      "[LightGBM] [Info] Auto-choosing col-wise multi-threading, the overhead of testing was 0.001081 seconds.\n",
      "You can set `force_col_wise=true` to remove the overhead.\n",
      "[LightGBM] [Info] Total Bins 797\n",
      "[LightGBM] [Info] Number of data points in the train set: 7427, number of used features: 16\n",
      "[LightGBM] [Info] [binary:BoostFromScore]: pavg=0.504107 -> initscore=0.016427\n",
      "[LightGBM] [Info] Start training from score 0.016427\n"
     ]
    },
    {
     "name": "stderr",
     "output_type": "stream",
     "text": [
      "C:\\Users\\cheng\\AppData\\Local\\Temp\\ipykernel_19784\\2020316554.py:19: FutureWarning: suggest_loguniform has been deprecated in v3.0.0. This feature will be removed in v6.0.0. See https://github.com/optuna/optuna/releases/tag/v3.0.0. Use suggest_float(..., log=True) instead.\n",
      "  learning_rate=trial.suggest_loguniform('learning_rate', 0.01, 0.3),\n",
      "C:\\Users\\cheng\\AppData\\Local\\Temp\\ipykernel_19784\\2020316554.py:21: FutureWarning: suggest_uniform has been deprecated in v3.0.0. This feature will be removed in v6.0.0. See https://github.com/optuna/optuna/releases/tag/v3.0.0. Use suggest_float instead.\n",
      "  feature_fraction=trial.suggest_uniform('feature_fraction', 0.6, 1.0)\n",
      "[I 2024-10-03 19:42:53,193] Trial 72 finished with value: 0.9222934411609744 and parameters: {'model_type': 'lightgbm', 'num_leaves': 114, 'learning_rate': 0.12566928185748216, 'n_estimators': 135, 'feature_fraction': 0.8069693524124345}. Best is trial 70 with value: 0.9242032400426234.\n"
     ]
    },
    {
     "name": "stdout",
     "output_type": "stream",
     "text": [
      "[LightGBM] [Warning] feature_fraction is set=0.8069693524124345, colsample_bytree=1.0 will be ignored. Current value: feature_fraction=0.8069693524124345\n",
      "[LightGBM] [Warning] feature_fraction is set=0.7684758784006948, colsample_bytree=1.0 will be ignored. Current value: feature_fraction=0.7684758784006948\n",
      "[LightGBM] [Warning] feature_fraction is set=0.7684758784006948, colsample_bytree=1.0 will be ignored. Current value: feature_fraction=0.7684758784006948\n",
      "[LightGBM] [Info] Number of positive: 3744, number of negative: 3683\n",
      "[LightGBM] [Info] Auto-choosing row-wise multi-threading, the overhead of testing was 0.000431 seconds.\n",
      "You can set `force_row_wise=true` to remove the overhead.\n",
      "And if memory is not enough, you can set `force_col_wise=true`.\n",
      "[LightGBM] [Info] Total Bins 797\n",
      "[LightGBM] [Info] Number of data points in the train set: 7427, number of used features: 16\n",
      "[LightGBM] [Info] [binary:BoostFromScore]: pavg=0.504107 -> initscore=0.016427\n",
      "[LightGBM] [Info] Start training from score 0.016427\n"
     ]
    },
    {
     "name": "stderr",
     "output_type": "stream",
     "text": [
      "C:\\Users\\cheng\\AppData\\Local\\Temp\\ipykernel_19784\\2020316554.py:19: FutureWarning: suggest_loguniform has been deprecated in v3.0.0. This feature will be removed in v6.0.0. See https://github.com/optuna/optuna/releases/tag/v3.0.0. Use suggest_float(..., log=True) instead.\n",
      "  learning_rate=trial.suggest_loguniform('learning_rate', 0.01, 0.3),\n",
      "C:\\Users\\cheng\\AppData\\Local\\Temp\\ipykernel_19784\\2020316554.py:21: FutureWarning: suggest_uniform has been deprecated in v3.0.0. This feature will be removed in v6.0.0. See https://github.com/optuna/optuna/releases/tag/v3.0.0. Use suggest_float instead.\n",
      "  feature_fraction=trial.suggest_uniform('feature_fraction', 0.6, 1.0)\n",
      "[I 2024-10-03 19:42:53,687] Trial 73 finished with value: 0.919138550567114 and parameters: {'model_type': 'lightgbm', 'num_leaves': 101, 'learning_rate': 0.10442324262224238, 'n_estimators': 148, 'feature_fraction': 0.7684758784006948}. Best is trial 70 with value: 0.9242032400426234.\n"
     ]
    },
    {
     "name": "stdout",
     "output_type": "stream",
     "text": [
      "[LightGBM] [Warning] feature_fraction is set=0.7684758784006948, colsample_bytree=1.0 will be ignored. Current value: feature_fraction=0.7684758784006948\n",
      "[LightGBM] [Warning] feature_fraction is set=0.8627541157932314, colsample_bytree=1.0 will be ignored. Current value: feature_fraction=0.8627541157932314\n",
      "[LightGBM] [Warning] feature_fraction is set=0.8627541157932314, colsample_bytree=1.0 will be ignored. Current value: feature_fraction=0.8627541157932314\n",
      "[LightGBM] [Info] Number of positive: 3744, number of negative: 3683\n",
      "[LightGBM] [Info] Auto-choosing row-wise multi-threading, the overhead of testing was 0.000450 seconds.\n",
      "You can set `force_row_wise=true` to remove the overhead.\n",
      "And if memory is not enough, you can set `force_col_wise=true`.\n",
      "[LightGBM] [Info] Total Bins 797\n",
      "[LightGBM] [Info] Number of data points in the train set: 7427, number of used features: 16\n",
      "[LightGBM] [Info] [binary:BoostFromScore]: pavg=0.504107 -> initscore=0.016427\n",
      "[LightGBM] [Info] Start training from score 0.016427\n"
     ]
    },
    {
     "name": "stderr",
     "output_type": "stream",
     "text": [
      "C:\\Users\\cheng\\AppData\\Local\\Temp\\ipykernel_19784\\2020316554.py:19: FutureWarning: suggest_loguniform has been deprecated in v3.0.0. This feature will be removed in v6.0.0. See https://github.com/optuna/optuna/releases/tag/v3.0.0. Use suggest_float(..., log=True) instead.\n",
      "  learning_rate=trial.suggest_loguniform('learning_rate', 0.01, 0.3),\n",
      "C:\\Users\\cheng\\AppData\\Local\\Temp\\ipykernel_19784\\2020316554.py:21: FutureWarning: suggest_uniform has been deprecated in v3.0.0. This feature will be removed in v6.0.0. See https://github.com/optuna/optuna/releases/tag/v3.0.0. Use suggest_float instead.\n",
      "  feature_fraction=trial.suggest_uniform('feature_fraction', 0.6, 1.0)\n",
      "[I 2024-10-03 19:42:54,352] Trial 74 finished with value: 0.919815303826075 and parameters: {'model_type': 'lightgbm', 'num_leaves': 124, 'learning_rate': 0.14893088393309106, 'n_estimators': 164, 'feature_fraction': 0.8627541157932314}. Best is trial 70 with value: 0.9242032400426234.\n"
     ]
    },
    {
     "name": "stdout",
     "output_type": "stream",
     "text": [
      "[LightGBM] [Warning] feature_fraction is set=0.8627541157932314, colsample_bytree=1.0 will be ignored. Current value: feature_fraction=0.8627541157932314\n"
     ]
    },
    {
     "name": "stderr",
     "output_type": "stream",
     "text": [
      "C:\\Users\\cheng\\AppData\\Local\\Temp\\ipykernel_19784\\2020316554.py:11: FutureWarning: suggest_loguniform has been deprecated in v3.0.0. This feature will be removed in v6.0.0. See https://github.com/optuna/optuna/releases/tag/v3.0.0. Use suggest_float(..., log=True) instead.\n",
      "  learning_rate=trial.suggest_loguniform('learning_rate', 0.01, 0.3),\n",
      "C:\\Users\\cheng\\AppData\\Local\\Temp\\ipykernel_19784\\2020316554.py:13: FutureWarning: suggest_uniform has been deprecated in v3.0.0. This feature will be removed in v6.0.0. See https://github.com/optuna/optuna/releases/tag/v3.0.0. Use suggest_float instead.\n",
      "  subsample=trial.suggest_uniform('subsample', 0.6, 1.0)\n",
      "[I 2024-10-03 19:42:54,752] Trial 75 finished with value: 0.8904483199062221 and parameters: {'model_type': 'xgboost', 'max_depth': 7, 'learning_rate': 0.10827527683817041, 'n_estimators': 140, 'subsample': 0.9230243356917445}. Best is trial 70 with value: 0.9242032400426234.\n",
      "C:\\Users\\cheng\\AppData\\Local\\Temp\\ipykernel_19784\\2020316554.py:19: FutureWarning: suggest_loguniform has been deprecated in v3.0.0. This feature will be removed in v6.0.0. See https://github.com/optuna/optuna/releases/tag/v3.0.0. Use suggest_float(..., log=True) instead.\n",
      "  learning_rate=trial.suggest_loguniform('learning_rate', 0.01, 0.3),\n",
      "C:\\Users\\cheng\\AppData\\Local\\Temp\\ipykernel_19784\\2020316554.py:21: FutureWarning: suggest_uniform has been deprecated in v3.0.0. This feature will be removed in v6.0.0. See https://github.com/optuna/optuna/releases/tag/v3.0.0. Use suggest_float instead.\n",
      "  feature_fraction=trial.suggest_uniform('feature_fraction', 0.6, 1.0)\n"
     ]
    },
    {
     "name": "stdout",
     "output_type": "stream",
     "text": [
      "[LightGBM] [Warning] feature_fraction is set=0.7427870685944212, colsample_bytree=1.0 will be ignored. Current value: feature_fraction=0.7427870685944212\n",
      "[LightGBM] [Warning] feature_fraction is set=0.7427870685944212, colsample_bytree=1.0 will be ignored. Current value: feature_fraction=0.7427870685944212\n",
      "[LightGBM] [Info] Number of positive: 3744, number of negative: 3683\n",
      "[LightGBM] [Info] Auto-choosing col-wise multi-threading, the overhead of testing was 0.000983 seconds.\n",
      "You can set `force_col_wise=true` to remove the overhead.\n",
      "[LightGBM] [Info] Total Bins 797\n",
      "[LightGBM] [Info] Number of data points in the train set: 7427, number of used features: 16\n",
      "[LightGBM] [Info] [binary:BoostFromScore]: pavg=0.504107 -> initscore=0.016427\n",
      "[LightGBM] [Info] Start training from score 0.016427\n"
     ]
    },
    {
     "name": "stderr",
     "output_type": "stream",
     "text": [
      "[I 2024-10-03 19:42:55,336] Trial 76 finished with value: 0.9216889644391538 and parameters: {'model_type': 'lightgbm', 'num_leaves': 106, 'learning_rate': 0.06486030233780836, 'n_estimators': 157, 'feature_fraction': 0.7427870685944212}. Best is trial 70 with value: 0.9242032400426234.\n",
      "[I 2024-10-03 19:42:55,371] Trial 77 finished with value: 0.6381080214317706 and parameters: {'model_type': 'logistic', 'penalty': 'l2', 'C': 6.891759397916675}. Best is trial 70 with value: 0.9242032400426234.\n"
     ]
    },
    {
     "name": "stdout",
     "output_type": "stream",
     "text": [
      "[LightGBM] [Warning] No further splits with positive gain, best gain: -inf\n",
      "[LightGBM] [Warning] feature_fraction is set=0.7427870685944212, colsample_bytree=1.0 will be ignored. Current value: feature_fraction=0.7427870685944212\n",
      "[LightGBM] [Warning] feature_fraction is set=0.8117970391527555, colsample_bytree=1.0 will be ignored. Current value: feature_fraction=0.8117970391527555\n",
      "[LightGBM] [Warning] feature_fraction is set=0.8117970391527555, colsample_bytree=1.0 will be ignored. Current value: feature_fraction=0.8117970391527555\n",
      "[LightGBM] [Info] Number of positive: 3744, number of negative: 3683\n",
      "[LightGBM] [Info] Auto-choosing col-wise multi-threading, the overhead of testing was 0.000985 seconds.\n",
      "You can set `force_col_wise=true` to remove the overhead.\n",
      "[LightGBM] [Info] Total Bins 797\n",
      "[LightGBM] [Info] Number of data points in the train set: 7427, number of used features: 16\n",
      "[LightGBM] [Info] [binary:BoostFromScore]: pavg=0.504107 -> initscore=0.016427\n",
      "[LightGBM] [Info] Start training from score 0.016427\n"
     ]
    },
    {
     "name": "stderr",
     "output_type": "stream",
     "text": [
      "C:\\Users\\cheng\\AppData\\Local\\Temp\\ipykernel_19784\\2020316554.py:19: FutureWarning: suggest_loguniform has been deprecated in v3.0.0. This feature will be removed in v6.0.0. See https://github.com/optuna/optuna/releases/tag/v3.0.0. Use suggest_float(..., log=True) instead.\n",
      "  learning_rate=trial.suggest_loguniform('learning_rate', 0.01, 0.3),\n",
      "C:\\Users\\cheng\\AppData\\Local\\Temp\\ipykernel_19784\\2020316554.py:21: FutureWarning: suggest_uniform has been deprecated in v3.0.0. This feature will be removed in v6.0.0. See https://github.com/optuna/optuna/releases/tag/v3.0.0. Use suggest_float instead.\n",
      "  feature_fraction=trial.suggest_uniform('feature_fraction', 0.6, 1.0)\n",
      "[I 2024-10-03 19:42:55,993] Trial 78 finished with value: 0.9226017025666465 and parameters: {'model_type': 'lightgbm', 'num_leaves': 96, 'learning_rate': 0.08385304840584012, 'n_estimators': 184, 'feature_fraction': 0.8117970391527555}. Best is trial 70 with value: 0.9242032400426234.\n"
     ]
    },
    {
     "name": "stdout",
     "output_type": "stream",
     "text": [
      "[LightGBM] [Warning] feature_fraction is set=0.8117970391527555, colsample_bytree=1.0 will be ignored. Current value: feature_fraction=0.8117970391527555\n",
      "[LightGBM] [Warning] feature_fraction is set=0.7937814232161268, colsample_bytree=1.0 will be ignored. Current value: feature_fraction=0.7937814232161268\n",
      "[LightGBM] [Warning] feature_fraction is set=0.7937814232161268, colsample_bytree=1.0 will be ignored. Current value: feature_fraction=0.7937814232161268\n",
      "[LightGBM] [Info] Number of positive: 3744, number of negative: 3683\n",
      "[LightGBM] [Info] Auto-choosing col-wise multi-threading, the overhead of testing was 0.001004 seconds.\n",
      "You can set `force_col_wise=true` to remove the overhead.\n",
      "[LightGBM] [Info] Total Bins 797\n",
      "[LightGBM] [Info] Number of data points in the train set: 7427, number of used features: 16\n",
      "[LightGBM] [Info] [binary:BoostFromScore]: pavg=0.504107 -> initscore=0.016427\n",
      "[LightGBM] [Info] Start training from score 0.016427\n"
     ]
    },
    {
     "name": "stderr",
     "output_type": "stream",
     "text": [
      "C:\\Users\\cheng\\AppData\\Local\\Temp\\ipykernel_19784\\2020316554.py:19: FutureWarning: suggest_loguniform has been deprecated in v3.0.0. This feature will be removed in v6.0.0. See https://github.com/optuna/optuna/releases/tag/v3.0.0. Use suggest_float(..., log=True) instead.\n",
      "  learning_rate=trial.suggest_loguniform('learning_rate', 0.01, 0.3),\n",
      "C:\\Users\\cheng\\AppData\\Local\\Temp\\ipykernel_19784\\2020316554.py:21: FutureWarning: suggest_uniform has been deprecated in v3.0.0. This feature will be removed in v6.0.0. See https://github.com/optuna/optuna/releases/tag/v3.0.0. Use suggest_float instead.\n",
      "  feature_fraction=trial.suggest_uniform('feature_fraction', 0.6, 1.0)\n",
      "[I 2024-10-03 19:42:56,485] Trial 79 finished with value: 0.8889743524930667 and parameters: {'model_type': 'lightgbm', 'num_leaves': 114, 'learning_rate': 0.012313675731832391, 'n_estimators': 124, 'feature_fraction': 0.7937814232161268}. Best is trial 70 with value: 0.9242032400426234.\n"
     ]
    },
    {
     "name": "stdout",
     "output_type": "stream",
     "text": [
      "[LightGBM] [Warning] feature_fraction is set=0.7937814232161268, colsample_bytree=1.0 will be ignored. Current value: feature_fraction=0.7937814232161268\n",
      "[LightGBM] [Warning] feature_fraction is set=0.7754804212962859, colsample_bytree=1.0 will be ignored. Current value: feature_fraction=0.7754804212962859\n",
      "[LightGBM] [Warning] feature_fraction is set=0.7754804212962859, colsample_bytree=1.0 will be ignored. Current value: feature_fraction=0.7754804212962859\n",
      "[LightGBM] [Info] Number of positive: 3744, number of negative: 3683\n",
      "[LightGBM] [Info] Auto-choosing row-wise multi-threading, the overhead of testing was 0.000469 seconds.\n",
      "You can set `force_row_wise=true` to remove the overhead.\n",
      "And if memory is not enough, you can set `force_col_wise=true`.\n",
      "[LightGBM] [Info] Total Bins 797\n",
      "[LightGBM] [Info] Number of data points in the train set: 7427, number of used features: 16\n",
      "[LightGBM] [Info] [binary:BoostFromScore]: pavg=0.504107 -> initscore=0.016427\n",
      "[LightGBM] [Info] Start training from score 0.016427\n"
     ]
    },
    {
     "name": "stderr",
     "output_type": "stream",
     "text": [
      "C:\\Users\\cheng\\AppData\\Local\\Temp\\ipykernel_19784\\2020316554.py:19: FutureWarning: suggest_loguniform has been deprecated in v3.0.0. This feature will be removed in v6.0.0. See https://github.com/optuna/optuna/releases/tag/v3.0.0. Use suggest_float(..., log=True) instead.\n",
      "  learning_rate=trial.suggest_loguniform('learning_rate', 0.01, 0.3),\n",
      "C:\\Users\\cheng\\AppData\\Local\\Temp\\ipykernel_19784\\2020316554.py:21: FutureWarning: suggest_uniform has been deprecated in v3.0.0. This feature will be removed in v6.0.0. See https://github.com/optuna/optuna/releases/tag/v3.0.0. Use suggest_float instead.\n",
      "  feature_fraction=trial.suggest_uniform('feature_fraction', 0.6, 1.0)\n",
      "[I 2024-10-03 19:42:56,860] Trial 80 finished with value: 0.922958148330412 and parameters: {'model_type': 'lightgbm', 'num_leaves': 110, 'learning_rate': 0.12033753010080453, 'n_estimators': 100, 'feature_fraction': 0.7754804212962859}. Best is trial 70 with value: 0.9242032400426234.\n"
     ]
    },
    {
     "name": "stdout",
     "output_type": "stream",
     "text": [
      "[LightGBM] [Warning] feature_fraction is set=0.7754804212962859, colsample_bytree=1.0 will be ignored. Current value: feature_fraction=0.7754804212962859\n",
      "[LightGBM] [Warning] feature_fraction is set=0.7740950210321088, colsample_bytree=1.0 will be ignored. Current value: feature_fraction=0.7740950210321088\n",
      "[LightGBM] [Warning] feature_fraction is set=0.7740950210321088, colsample_bytree=1.0 will be ignored. Current value: feature_fraction=0.7740950210321088\n",
      "[LightGBM] [Info] Number of positive: 3744, number of negative: 3683\n",
      "[LightGBM] [Info] Auto-choosing col-wise multi-threading, the overhead of testing was 0.001018 seconds.\n",
      "You can set `force_col_wise=true` to remove the overhead.\n",
      "[LightGBM] [Info] Total Bins 797\n",
      "[LightGBM] [Info] Number of data points in the train set: 7427, number of used features: 16\n",
      "[LightGBM] [Info] [binary:BoostFromScore]: pavg=0.504107 -> initscore=0.016427\n",
      "[LightGBM] [Info] Start training from score 0.016427\n"
     ]
    },
    {
     "name": "stderr",
     "output_type": "stream",
     "text": [
      "C:\\Users\\cheng\\AppData\\Local\\Temp\\ipykernel_19784\\2020316554.py:19: FutureWarning: suggest_loguniform has been deprecated in v3.0.0. This feature will be removed in v6.0.0. See https://github.com/optuna/optuna/releases/tag/v3.0.0. Use suggest_float(..., log=True) instead.\n",
      "  learning_rate=trial.suggest_loguniform('learning_rate', 0.01, 0.3),\n",
      "C:\\Users\\cheng\\AppData\\Local\\Temp\\ipykernel_19784\\2020316554.py:21: FutureWarning: suggest_uniform has been deprecated in v3.0.0. This feature will be removed in v6.0.0. See https://github.com/optuna/optuna/releases/tag/v3.0.0. Use suggest_float instead.\n",
      "  feature_fraction=trial.suggest_uniform('feature_fraction', 0.6, 1.0)\n",
      "[I 2024-10-03 19:42:57,081] Trial 81 finished with value: 0.9204800109955126 and parameters: {'model_type': 'lightgbm', 'num_leaves': 111, 'learning_rate': 0.1232839307682861, 'n_estimators': 61, 'feature_fraction': 0.7740950210321088}. Best is trial 70 with value: 0.9242032400426234.\n"
     ]
    },
    {
     "name": "stdout",
     "output_type": "stream",
     "text": [
      "[LightGBM] [Warning] feature_fraction is set=0.7740950210321088, colsample_bytree=1.0 will be ignored. Current value: feature_fraction=0.7740950210321088\n",
      "[LightGBM] [Warning] feature_fraction is set=0.7597815431329916, colsample_bytree=1.0 will be ignored. Current value: feature_fraction=0.7597815431329916\n",
      "[LightGBM] [Warning] feature_fraction is set=0.7597815431329916, colsample_bytree=1.0 will be ignored. Current value: feature_fraction=0.7597815431329916\n",
      "[LightGBM] [Info] Number of positive: 3744, number of negative: 3683\n",
      "[LightGBM] [Info] Auto-choosing row-wise multi-threading, the overhead of testing was 0.000433 seconds.\n",
      "You can set `force_row_wise=true` to remove the overhead.\n",
      "And if memory is not enough, you can set `force_col_wise=true`.\n",
      "[LightGBM] [Info] Total Bins 797\n",
      "[LightGBM] [Info] Number of data points in the train set: 7427, number of used features: 16\n",
      "[LightGBM] [Info] [binary:BoostFromScore]: pavg=0.504107 -> initscore=0.016427\n",
      "[LightGBM] [Info] Start training from score 0.016427\n"
     ]
    },
    {
     "name": "stderr",
     "output_type": "stream",
     "text": [
      "C:\\Users\\cheng\\AppData\\Local\\Temp\\ipykernel_19784\\2020316554.py:19: FutureWarning: suggest_loguniform has been deprecated in v3.0.0. This feature will be removed in v6.0.0. See https://github.com/optuna/optuna/releases/tag/v3.0.0. Use suggest_float(..., log=True) instead.\n",
      "  learning_rate=trial.suggest_loguniform('learning_rate', 0.01, 0.3),\n",
      "C:\\Users\\cheng\\AppData\\Local\\Temp\\ipykernel_19784\\2020316554.py:21: FutureWarning: suggest_uniform has been deprecated in v3.0.0. This feature will be removed in v6.0.0. See https://github.com/optuna/optuna/releases/tag/v3.0.0. Use suggest_float instead.\n",
      "  feature_fraction=trial.suggest_uniform('feature_fraction', 0.6, 1.0)\n",
      "[I 2024-10-03 19:42:57,489] Trial 82 finished with value: 0.9207641802221378 and parameters: {'model_type': 'lightgbm', 'num_leaves': 119, 'learning_rate': 0.09561386476337341, 'n_estimators': 104, 'feature_fraction': 0.7597815431329916}. Best is trial 70 with value: 0.9242032400426234.\n"
     ]
    },
    {
     "name": "stdout",
     "output_type": "stream",
     "text": [
      "[LightGBM] [Warning] feature_fraction is set=0.7597815431329916, colsample_bytree=1.0 will be ignored. Current value: feature_fraction=0.7597815431329916\n",
      "[LightGBM] [Warning] feature_fraction is set=0.7853038617099092, colsample_bytree=1.0 will be ignored. Current value: feature_fraction=0.7853038617099092\n",
      "[LightGBM] [Warning] feature_fraction is set=0.7853038617099092, colsample_bytree=1.0 will be ignored. Current value: feature_fraction=0.7853038617099092\n",
      "[LightGBM] [Info] Number of positive: 3744, number of negative: 3683\n",
      "[LightGBM] [Info] Auto-choosing row-wise multi-threading, the overhead of testing was 0.000397 seconds.\n",
      "You can set `force_row_wise=true` to remove the overhead.\n",
      "And if memory is not enough, you can set `force_col_wise=true`.\n",
      "[LightGBM] [Info] Total Bins 797\n",
      "[LightGBM] [Info] Number of data points in the train set: 7427, number of used features: 16\n",
      "[LightGBM] [Info] [binary:BoostFromScore]: pavg=0.504107 -> initscore=0.016427\n",
      "[LightGBM] [Info] Start training from score 0.016427\n"
     ]
    },
    {
     "name": "stderr",
     "output_type": "stream",
     "text": [
      "C:\\Users\\cheng\\AppData\\Local\\Temp\\ipykernel_19784\\2020316554.py:19: FutureWarning: suggest_loguniform has been deprecated in v3.0.0. This feature will be removed in v6.0.0. See https://github.com/optuna/optuna/releases/tag/v3.0.0. Use suggest_float(..., log=True) instead.\n",
      "  learning_rate=trial.suggest_loguniform('learning_rate', 0.01, 0.3),\n",
      "C:\\Users\\cheng\\AppData\\Local\\Temp\\ipykernel_19784\\2020316554.py:21: FutureWarning: suggest_uniform has been deprecated in v3.0.0. This feature will be removed in v6.0.0. See https://github.com/optuna/optuna/releases/tag/v3.0.0. Use suggest_float instead.\n",
      "  feature_fraction=trial.suggest_uniform('feature_fraction', 0.6, 1.0)\n",
      "[I 2024-10-03 19:42:57,812] Trial 83 finished with value: 0.9159957060627771 and parameters: {'model_type': 'lightgbm', 'num_leaves': 103, 'learning_rate': 0.07090918448224579, 'n_estimators': 83, 'feature_fraction': 0.7853038617099092}. Best is trial 70 with value: 0.9242032400426234.\n"
     ]
    },
    {
     "name": "stdout",
     "output_type": "stream",
     "text": [
      "[LightGBM] [Warning] feature_fraction is set=0.7853038617099092, colsample_bytree=1.0 will be ignored. Current value: feature_fraction=0.7853038617099092\n",
      "[LightGBM] [Warning] feature_fraction is set=0.7487793726671441, colsample_bytree=1.0 will be ignored. Current value: feature_fraction=0.7487793726671441\n",
      "[LightGBM] [Warning] feature_fraction is set=0.7487793726671441, colsample_bytree=1.0 will be ignored. Current value: feature_fraction=0.7487793726671441\n",
      "[LightGBM] [Info] Number of positive: 3744, number of negative: 3683\n",
      "[LightGBM] [Info] Auto-choosing row-wise multi-threading, the overhead of testing was 0.000696 seconds.\n",
      "You can set `force_row_wise=true` to remove the overhead.\n",
      "And if memory is not enough, you can set `force_col_wise=true`.\n",
      "[LightGBM] [Info] Total Bins 797\n",
      "[LightGBM] [Info] Number of data points in the train set: 7427, number of used features: 16\n",
      "[LightGBM] [Info] [binary:BoostFromScore]: pavg=0.504107 -> initscore=0.016427\n",
      "[LightGBM] [Info] Start training from score 0.016427\n"
     ]
    },
    {
     "name": "stderr",
     "output_type": "stream",
     "text": [
      "C:\\Users\\cheng\\AppData\\Local\\Temp\\ipykernel_19784\\2020316554.py:19: FutureWarning: suggest_loguniform has been deprecated in v3.0.0. This feature will be removed in v6.0.0. See https://github.com/optuna/optuna/releases/tag/v3.0.0. Use suggest_float(..., log=True) instead.\n",
      "  learning_rate=trial.suggest_loguniform('learning_rate', 0.01, 0.3),\n",
      "C:\\Users\\cheng\\AppData\\Local\\Temp\\ipykernel_19784\\2020316554.py:21: FutureWarning: suggest_uniform has been deprecated in v3.0.0. This feature will be removed in v6.0.0. See https://github.com/optuna/optuna/releases/tag/v3.0.0. Use suggest_float instead.\n",
      "  feature_fraction=trial.suggest_uniform('feature_fraction', 0.6, 1.0)\n",
      "[I 2024-10-03 19:42:58,448] Trial 84 finished with value: 0.917869366675856 and parameters: {'model_type': 'lightgbm', 'num_leaves': 127, 'learning_rate': 0.13331329893356766, 'n_estimators': 147, 'feature_fraction': 0.7487793726671441}. Best is trial 70 with value: 0.9242032400426234.\n"
     ]
    },
    {
     "name": "stdout",
     "output_type": "stream",
     "text": [
      "[LightGBM] [Warning] feature_fraction is set=0.7487793726671441, colsample_bytree=1.0 will be ignored. Current value: feature_fraction=0.7487793726671441\n",
      "[LightGBM] [Warning] feature_fraction is set=0.8754270050902382, colsample_bytree=1.0 will be ignored. Current value: feature_fraction=0.8754270050902382\n",
      "[LightGBM] [Warning] feature_fraction is set=0.8754270050902382, colsample_bytree=1.0 will be ignored. Current value: feature_fraction=0.8754270050902382\n",
      "[LightGBM] [Info] Number of positive: 3744, number of negative: 3683\n",
      "[LightGBM] [Info] Auto-choosing col-wise multi-threading, the overhead of testing was 0.001136 seconds.\n",
      "You can set `force_col_wise=true` to remove the overhead.\n",
      "[LightGBM] [Info] Total Bins 797\n",
      "[LightGBM] [Info] Number of data points in the train set: 7427, number of used features: 16\n",
      "[LightGBM] [Info] [binary:BoostFromScore]: pavg=0.504107 -> initscore=0.016427\n",
      "[LightGBM] [Info] Start training from score 0.016427\n"
     ]
    },
    {
     "name": "stderr",
     "output_type": "stream",
     "text": [
      "C:\\Users\\cheng\\AppData\\Local\\Temp\\ipykernel_19784\\2020316554.py:19: FutureWarning: suggest_loguniform has been deprecated in v3.0.0. This feature will be removed in v6.0.0. See https://github.com/optuna/optuna/releases/tag/v3.0.0. Use suggest_float(..., log=True) instead.\n",
      "  learning_rate=trial.suggest_loguniform('learning_rate', 0.01, 0.3),\n",
      "C:\\Users\\cheng\\AppData\\Local\\Temp\\ipykernel_19784\\2020316554.py:21: FutureWarning: suggest_uniform has been deprecated in v3.0.0. This feature will be removed in v6.0.0. See https://github.com/optuna/optuna/releases/tag/v3.0.0. Use suggest_float instead.\n",
      "  feature_fraction=trial.suggest_uniform('feature_fraction', 0.6, 1.0)\n",
      "[I 2024-10-03 19:42:58,973] Trial 85 finished with value: 0.920740088043091 and parameters: {'model_type': 'lightgbm', 'num_leaves': 90, 'learning_rate': 0.1588611628684557, 'n_estimators': 174, 'feature_fraction': 0.8754270050902382}. Best is trial 70 with value: 0.9242032400426234.\n"
     ]
    },
    {
     "name": "stdout",
     "output_type": "stream",
     "text": [
      "[LightGBM] [Warning] feature_fraction is set=0.8754270050902382, colsample_bytree=1.0 will be ignored. Current value: feature_fraction=0.8754270050902382\n",
      "[LightGBM] [Warning] feature_fraction is set=0.8368033513384229, colsample_bytree=1.0 will be ignored. Current value: feature_fraction=0.8368033513384229\n",
      "[LightGBM] [Warning] feature_fraction is set=0.8368033513384229, colsample_bytree=1.0 will be ignored. Current value: feature_fraction=0.8368033513384229\n",
      "[LightGBM] [Info] Number of positive: 3744, number of negative: 3683\n",
      "[LightGBM] [Info] Auto-choosing row-wise multi-threading, the overhead of testing was 0.000428 seconds.\n",
      "You can set `force_row_wise=true` to remove the overhead.\n",
      "And if memory is not enough, you can set `force_col_wise=true`.\n",
      "[LightGBM] [Info] Total Bins 797\n",
      "[LightGBM] [Info] Number of data points in the train set: 7427, number of used features: 16\n",
      "[LightGBM] [Info] [binary:BoostFromScore]: pavg=0.504107 -> initscore=0.016427\n",
      "[LightGBM] [Info] Start training from score 0.016427\n"
     ]
    },
    {
     "name": "stderr",
     "output_type": "stream",
     "text": [
      "C:\\Users\\cheng\\AppData\\Local\\Temp\\ipykernel_19784\\2020316554.py:19: FutureWarning: suggest_loguniform has been deprecated in v3.0.0. This feature will be removed in v6.0.0. See https://github.com/optuna/optuna/releases/tag/v3.0.0. Use suggest_float(..., log=True) instead.\n",
      "  learning_rate=trial.suggest_loguniform('learning_rate', 0.01, 0.3),\n",
      "C:\\Users\\cheng\\AppData\\Local\\Temp\\ipykernel_19784\\2020316554.py:21: FutureWarning: suggest_uniform has been deprecated in v3.0.0. This feature will be removed in v6.0.0. See https://github.com/optuna/optuna/releases/tag/v3.0.0. Use suggest_float instead.\n",
      "  feature_fraction=trial.suggest_uniform('feature_fraction', 0.6, 1.0)\n",
      "[I 2024-10-03 19:42:59,373] Trial 86 finished with value: 0.9210242572697163 and parameters: {'model_type': 'lightgbm', 'num_leaves': 97, 'learning_rate': 0.11160607482003272, 'n_estimators': 121, 'feature_fraction': 0.8368033513384229}. Best is trial 70 with value: 0.9242032400426234.\n"
     ]
    },
    {
     "name": "stdout",
     "output_type": "stream",
     "text": [
      "[LightGBM] [Warning] feature_fraction is set=0.8368033513384229, colsample_bytree=1.0 will be ignored. Current value: feature_fraction=0.8368033513384229\n"
     ]
    },
    {
     "name": "stderr",
     "output_type": "stream",
     "text": [
      "[I 2024-10-03 19:43:00,492] Trial 87 finished with value: 0.804145000161931 and parameters: {'model_type': 'randomforest', 'max_depth': 9, 'n_estimators': 134, 'max_features': 'sqrt'}. Best is trial 70 with value: 0.9242032400426234.\n",
      "C:\\Users\\cheng\\AppData\\Local\\Temp\\ipykernel_19784\\2020316554.py:19: FutureWarning: suggest_loguniform has been deprecated in v3.0.0. This feature will be removed in v6.0.0. See https://github.com/optuna/optuna/releases/tag/v3.0.0. Use suggest_float(..., log=True) instead.\n",
      "  learning_rate=trial.suggest_loguniform('learning_rate', 0.01, 0.3),\n",
      "C:\\Users\\cheng\\AppData\\Local\\Temp\\ipykernel_19784\\2020316554.py:21: FutureWarning: suggest_uniform has been deprecated in v3.0.0. This feature will be removed in v6.0.0. See https://github.com/optuna/optuna/releases/tag/v3.0.0. Use suggest_float instead.\n",
      "  feature_fraction=trial.suggest_uniform('feature_fraction', 0.6, 1.0)\n"
     ]
    },
    {
     "name": "stdout",
     "output_type": "stream",
     "text": [
      "[LightGBM] [Warning] feature_fraction is set=0.9281411748862219, colsample_bytree=1.0 will be ignored. Current value: feature_fraction=0.9281411748862219\n",
      "[LightGBM] [Warning] feature_fraction is set=0.9281411748862219, colsample_bytree=1.0 will be ignored. Current value: feature_fraction=0.9281411748862219\n",
      "[LightGBM] [Info] Number of positive: 3744, number of negative: 3683\n",
      "[LightGBM] [Info] Auto-choosing row-wise multi-threading, the overhead of testing was 0.000672 seconds.\n",
      "You can set `force_row_wise=true` to remove the overhead.\n",
      "And if memory is not enough, you can set `force_col_wise=true`.\n",
      "[LightGBM] [Info] Total Bins 797\n",
      "[LightGBM] [Info] Number of data points in the train set: 7427, number of used features: 16\n",
      "[LightGBM] [Info] [binary:BoostFromScore]: pavg=0.504107 -> initscore=0.016427\n",
      "[LightGBM] [Info] Start training from score 0.016427\n"
     ]
    },
    {
     "name": "stderr",
     "output_type": "stream",
     "text": [
      "[I 2024-10-03 19:43:01,300] Trial 88 finished with value: 0.9226257947456933 and parameters: {'model_type': 'lightgbm', 'num_leaves': 116, 'learning_rate': 0.09637705101850798, 'n_estimators': 167, 'feature_fraction': 0.9281411748862219}. Best is trial 70 with value: 0.9242032400426234.\n"
     ]
    },
    {
     "name": "stdout",
     "output_type": "stream",
     "text": [
      "[LightGBM] [Warning] feature_fraction is set=0.9281411748862219, colsample_bytree=1.0 will be ignored. Current value: feature_fraction=0.9281411748862219\n"
     ]
    },
    {
     "name": "stderr",
     "output_type": "stream",
     "text": [
      "C:\\Users\\cheng\\AppData\\Local\\Temp\\ipykernel_19784\\2020316554.py:11: FutureWarning: suggest_loguniform has been deprecated in v3.0.0. This feature will be removed in v6.0.0. See https://github.com/optuna/optuna/releases/tag/v3.0.0. Use suggest_float(..., log=True) instead.\n",
      "  learning_rate=trial.suggest_loguniform('learning_rate', 0.01, 0.3),\n",
      "C:\\Users\\cheng\\AppData\\Local\\Temp\\ipykernel_19784\\2020316554.py:13: FutureWarning: suggest_uniform has been deprecated in v3.0.0. This feature will be removed in v6.0.0. See https://github.com/optuna/optuna/releases/tag/v3.0.0. Use suggest_float instead.\n",
      "  subsample=trial.suggest_uniform('subsample', 0.6, 1.0)\n",
      "[I 2024-10-03 19:43:01,507] Trial 89 finished with value: 0.8548728604367715 and parameters: {'model_type': 'xgboost', 'max_depth': 5, 'learning_rate': 0.058858897339673796, 'n_estimators': 101, 'subsample': 0.7385950449279816}. Best is trial 70 with value: 0.9242032400426234.\n",
      "C:\\Users\\cheng\\AppData\\Local\\Temp\\ipykernel_19784\\2020316554.py:19: FutureWarning: suggest_loguniform has been deprecated in v3.0.0. This feature will be removed in v6.0.0. See https://github.com/optuna/optuna/releases/tag/v3.0.0. Use suggest_float(..., log=True) instead.\n",
      "  learning_rate=trial.suggest_loguniform('learning_rate', 0.01, 0.3),\n",
      "C:\\Users\\cheng\\AppData\\Local\\Temp\\ipykernel_19784\\2020316554.py:21: FutureWarning: suggest_uniform has been deprecated in v3.0.0. This feature will be removed in v6.0.0. See https://github.com/optuna/optuna/releases/tag/v3.0.0. Use suggest_float instead.\n",
      "  feature_fraction=trial.suggest_uniform('feature_fraction', 0.6, 1.0)\n"
     ]
    },
    {
     "name": "stdout",
     "output_type": "stream",
     "text": [
      "[LightGBM] [Warning] feature_fraction is set=0.8200904778339597, colsample_bytree=1.0 will be ignored. Current value: feature_fraction=0.8200904778339597\n",
      "[LightGBM] [Warning] feature_fraction is set=0.8200904778339597, colsample_bytree=1.0 will be ignored. Current value: feature_fraction=0.8200904778339597\n",
      "[LightGBM] [Info] Number of positive: 3744, number of negative: 3683\n",
      "[LightGBM] [Info] Auto-choosing col-wise multi-threading, the overhead of testing was 0.000956 seconds.\n",
      "You can set `force_col_wise=true` to remove the overhead.\n",
      "[LightGBM] [Info] Total Bins 797\n",
      "[LightGBM] [Info] Number of data points in the train set: 7427, number of used features: 16\n",
      "[LightGBM] [Info] [binary:BoostFromScore]: pavg=0.504107 -> initscore=0.016427\n",
      "[LightGBM] [Info] Start training from score 0.016427\n"
     ]
    },
    {
     "name": "stderr",
     "output_type": "stream",
     "text": [
      "[I 2024-10-03 19:43:01,854] Trial 90 finished with value: 0.9222934411609744 and parameters: {'model_type': 'lightgbm', 'num_leaves': 54, 'learning_rate': 0.11944419133099309, 'n_estimators': 151, 'feature_fraction': 0.8200904778339597}. Best is trial 70 with value: 0.9242032400426234.\n"
     ]
    },
    {
     "name": "stdout",
     "output_type": "stream",
     "text": [
      "[LightGBM] [Warning] feature_fraction is set=0.8200904778339597, colsample_bytree=1.0 will be ignored. Current value: feature_fraction=0.8200904778339597\n",
      "[LightGBM] [Warning] feature_fraction is set=0.7987986707145942, colsample_bytree=1.0 will be ignored. Current value: feature_fraction=0.7987986707145942\n",
      "[LightGBM] [Warning] feature_fraction is set=0.7987986707145942, colsample_bytree=1.0 will be ignored. Current value: feature_fraction=0.7987986707145942\n",
      "[LightGBM] [Info] Number of positive: 3744, number of negative: 3683\n",
      "[LightGBM] [Info] Auto-choosing row-wise multi-threading, the overhead of testing was 0.000432 seconds.\n",
      "You can set `force_row_wise=true` to remove the overhead.\n",
      "And if memory is not enough, you can set `force_col_wise=true`.\n",
      "[LightGBM] [Info] Total Bins 797\n",
      "[LightGBM] [Info] Number of data points in the train set: 7427, number of used features: 16\n",
      "[LightGBM] [Info] [binary:BoostFromScore]: pavg=0.504107 -> initscore=0.016427\n",
      "[LightGBM] [Info] Start training from score 0.016427\n"
     ]
    },
    {
     "name": "stderr",
     "output_type": "stream",
     "text": [
      "C:\\Users\\cheng\\AppData\\Local\\Temp\\ipykernel_19784\\2020316554.py:19: FutureWarning: suggest_loguniform has been deprecated in v3.0.0. This feature will be removed in v6.0.0. See https://github.com/optuna/optuna/releases/tag/v3.0.0. Use suggest_float(..., log=True) instead.\n",
      "  learning_rate=trial.suggest_loguniform('learning_rate', 0.01, 0.3),\n",
      "C:\\Users\\cheng\\AppData\\Local\\Temp\\ipykernel_19784\\2020316554.py:21: FutureWarning: suggest_uniform has been deprecated in v3.0.0. This feature will be removed in v6.0.0. See https://github.com/optuna/optuna/releases/tag/v3.0.0. Use suggest_float instead.\n",
      "  feature_fraction=trial.suggest_uniform('feature_fraction', 0.6, 1.0)\n",
      "[I 2024-10-03 19:43:02,591] Trial 91 finished with value: 0.921973133665779 and parameters: {'model_type': 'lightgbm', 'num_leaves': 81, 'learning_rate': 0.08273852708369006, 'n_estimators': 233, 'feature_fraction': 0.7987986707145942}. Best is trial 70 with value: 0.9242032400426234.\n"
     ]
    },
    {
     "name": "stdout",
     "output_type": "stream",
     "text": [
      "[LightGBM] [Warning] feature_fraction is set=0.7987986707145942, colsample_bytree=1.0 will be ignored. Current value: feature_fraction=0.7987986707145942\n",
      "[LightGBM] [Warning] feature_fraction is set=0.9514783874133419, colsample_bytree=1.0 will be ignored. Current value: feature_fraction=0.9514783874133419\n",
      "[LightGBM] [Warning] feature_fraction is set=0.9514783874133419, colsample_bytree=1.0 will be ignored. Current value: feature_fraction=0.9514783874133419\n",
      "[LightGBM] [Info] Number of positive: 3744, number of negative: 3683\n",
      "[LightGBM] [Info] Auto-choosing row-wise multi-threading, the overhead of testing was 0.000516 seconds.\n",
      "You can set `force_row_wise=true` to remove the overhead.\n",
      "And if memory is not enough, you can set `force_col_wise=true`.\n",
      "[LightGBM] [Info] Total Bins 797\n",
      "[LightGBM] [Info] Number of data points in the train set: 7427, number of used features: 16\n",
      "[LightGBM] [Info] [binary:BoostFromScore]: pavg=0.504107 -> initscore=0.016427\n",
      "[LightGBM] [Info] Start training from score 0.016427\n"
     ]
    },
    {
     "name": "stderr",
     "output_type": "stream",
     "text": [
      "C:\\Users\\cheng\\AppData\\Local\\Temp\\ipykernel_19784\\2020316554.py:19: FutureWarning: suggest_loguniform has been deprecated in v3.0.0. This feature will be removed in v6.0.0. See https://github.com/optuna/optuna/releases/tag/v3.0.0. Use suggest_float(..., log=True) instead.\n",
      "  learning_rate=trial.suggest_loguniform('learning_rate', 0.01, 0.3),\n",
      "C:\\Users\\cheng\\AppData\\Local\\Temp\\ipykernel_19784\\2020316554.py:21: FutureWarning: suggest_uniform has been deprecated in v3.0.0. This feature will be removed in v6.0.0. See https://github.com/optuna/optuna/releases/tag/v3.0.0. Use suggest_float instead.\n",
      "  feature_fraction=trial.suggest_uniform('feature_fraction', 0.6, 1.0)\n",
      "[I 2024-10-03 19:43:03,278] Trial 92 finished with value: 0.9235746711417561 and parameters: {'model_type': 'lightgbm', 'num_leaves': 73, 'learning_rate': 0.07121469952331079, 'n_estimators': 213, 'feature_fraction': 0.9514783874133419}. Best is trial 70 with value: 0.9242032400426234.\n"
     ]
    },
    {
     "name": "stdout",
     "output_type": "stream",
     "text": [
      "[LightGBM] [Warning] feature_fraction is set=0.9514783874133419, colsample_bytree=1.0 will be ignored. Current value: feature_fraction=0.9514783874133419\n",
      "[LightGBM] [Warning] feature_fraction is set=0.955576356882539, colsample_bytree=1.0 will be ignored. Current value: feature_fraction=0.955576356882539\n",
      "[LightGBM] [Warning] feature_fraction is set=0.955576356882539, colsample_bytree=1.0 will be ignored. Current value: feature_fraction=0.955576356882539\n",
      "[LightGBM] [Info] Number of positive: 3744, number of negative: 3683\n",
      "[LightGBM] [Info] Auto-choosing row-wise multi-threading, the overhead of testing was 0.000435 seconds.\n",
      "You can set `force_row_wise=true` to remove the overhead.\n",
      "And if memory is not enough, you can set `force_col_wise=true`.\n",
      "[LightGBM] [Info] Total Bins 797\n",
      "[LightGBM] [Info] Number of data points in the train set: 7427, number of used features: 16\n",
      "[LightGBM] [Info] [binary:BoostFromScore]: pavg=0.504107 -> initscore=0.016427\n",
      "[LightGBM] [Info] Start training from score 0.016427\n"
     ]
    },
    {
     "name": "stderr",
     "output_type": "stream",
     "text": [
      "C:\\Users\\cheng\\AppData\\Local\\Temp\\ipykernel_19784\\2020316554.py:19: FutureWarning: suggest_loguniform has been deprecated in v3.0.0. This feature will be removed in v6.0.0. See https://github.com/optuna/optuna/releases/tag/v3.0.0. Use suggest_float(..., log=True) instead.\n",
      "  learning_rate=trial.suggest_loguniform('learning_rate', 0.01, 0.3),\n",
      "C:\\Users\\cheng\\AppData\\Local\\Temp\\ipykernel_19784\\2020316554.py:21: FutureWarning: suggest_uniform has been deprecated in v3.0.0. This feature will be removed in v6.0.0. See https://github.com/optuna/optuna/releases/tag/v3.0.0. Use suggest_float instead.\n",
      "  feature_fraction=trial.suggest_uniform('feature_fraction', 0.6, 1.0)\n",
      "[I 2024-10-03 19:43:03,944] Trial 93 finished with value: 0.9214168413020519 and parameters: {'model_type': 'lightgbm', 'num_leaves': 67, 'learning_rate': 0.06737105297683028, 'n_estimators': 197, 'feature_fraction': 0.955576356882539}. Best is trial 70 with value: 0.9242032400426234.\n"
     ]
    },
    {
     "name": "stdout",
     "output_type": "stream",
     "text": [
      "[LightGBM] [Warning] feature_fraction is set=0.955576356882539, colsample_bytree=1.0 will be ignored. Current value: feature_fraction=0.955576356882539\n",
      "[LightGBM] [Warning] feature_fraction is set=0.9483505675610852, colsample_bytree=1.0 will be ignored. Current value: feature_fraction=0.9483505675610852\n",
      "[LightGBM] [Warning] feature_fraction is set=0.9483505675610852, colsample_bytree=1.0 will be ignored. Current value: feature_fraction=0.9483505675610852\n",
      "[LightGBM] [Info] Number of positive: 3744, number of negative: 3683\n",
      "[LightGBM] [Info] Auto-choosing col-wise multi-threading, the overhead of testing was 0.001249 seconds.\n",
      "You can set `force_col_wise=true` to remove the overhead.\n",
      "[LightGBM] [Info] Total Bins 797\n",
      "[LightGBM] [Info] Number of data points in the train set: 7427, number of used features: 16\n",
      "[LightGBM] [Info] [binary:BoostFromScore]: pavg=0.504107 -> initscore=0.016427\n",
      "[LightGBM] [Info] Start training from score 0.016427\n"
     ]
    },
    {
     "name": "stderr",
     "output_type": "stream",
     "text": [
      "C:\\Users\\cheng\\AppData\\Local\\Temp\\ipykernel_19784\\2020316554.py:19: FutureWarning: suggest_loguniform has been deprecated in v3.0.0. This feature will be removed in v6.0.0. See https://github.com/optuna/optuna/releases/tag/v3.0.0. Use suggest_float(..., log=True) instead.\n",
      "  learning_rate=trial.suggest_loguniform('learning_rate', 0.01, 0.3),\n",
      "C:\\Users\\cheng\\AppData\\Local\\Temp\\ipykernel_19784\\2020316554.py:21: FutureWarning: suggest_uniform has been deprecated in v3.0.0. This feature will be removed in v6.0.0. See https://github.com/optuna/optuna/releases/tag/v3.0.0. Use suggest_float instead.\n",
      "  feature_fraction=trial.suggest_uniform('feature_fraction', 0.6, 1.0)\n",
      "[I 2024-10-03 19:43:04,565] Trial 94 finished with value: 0.9254603778443582 and parameters: {'model_type': 'lightgbm', 'num_leaves': 73, 'learning_rate': 0.07936529957304418, 'n_estimators': 213, 'feature_fraction': 0.9483505675610852}. Best is trial 94 with value: 0.9254603778443582.\n"
     ]
    },
    {
     "name": "stdout",
     "output_type": "stream",
     "text": [
      "[LightGBM] [Warning] feature_fraction is set=0.9483505675610852, colsample_bytree=1.0 will be ignored. Current value: feature_fraction=0.9483505675610852\n",
      "[LightGBM] [Warning] feature_fraction is set=0.9619565870828442, colsample_bytree=1.0 will be ignored. Current value: feature_fraction=0.9619565870828442\n",
      "[LightGBM] [Warning] feature_fraction is set=0.9619565870828442, colsample_bytree=1.0 will be ignored. Current value: feature_fraction=0.9619565870828442\n",
      "[LightGBM] [Info] Number of positive: 3744, number of negative: 3683\n",
      "[LightGBM] [Info] Auto-choosing row-wise multi-threading, the overhead of testing was 0.000588 seconds.\n",
      "You can set `force_row_wise=true` to remove the overhead.\n",
      "And if memory is not enough, you can set `force_col_wise=true`.\n",
      "[LightGBM] [Info] Total Bins 797\n",
      "[LightGBM] [Info] Number of data points in the train set: 7427, number of used features: 16\n",
      "[LightGBM] [Info] [binary:BoostFromScore]: pavg=0.504107 -> initscore=0.016427\n",
      "[LightGBM] [Info] Start training from score 0.016427\n"
     ]
    },
    {
     "name": "stderr",
     "output_type": "stream",
     "text": [
      "C:\\Users\\cheng\\AppData\\Local\\Temp\\ipykernel_19784\\2020316554.py:19: FutureWarning: suggest_loguniform has been deprecated in v3.0.0. This feature will be removed in v6.0.0. See https://github.com/optuna/optuna/releases/tag/v3.0.0. Use suggest_float(..., log=True) instead.\n",
      "  learning_rate=trial.suggest_loguniform('learning_rate', 0.01, 0.3),\n",
      "C:\\Users\\cheng\\AppData\\Local\\Temp\\ipykernel_19784\\2020316554.py:21: FutureWarning: suggest_uniform has been deprecated in v3.0.0. This feature will be removed in v6.0.0. See https://github.com/optuna/optuna/releases/tag/v3.0.0. Use suggest_float instead.\n",
      "  feature_fraction=trial.suggest_uniform('feature_fraction', 0.6, 1.0)\n",
      "[I 2024-10-03 19:43:05,235] Trial 95 finished with value: 0.9217130566182006 and parameters: {'model_type': 'lightgbm', 'num_leaves': 76, 'learning_rate': 0.08791135049981282, 'n_estimators': 246, 'feature_fraction': 0.9619565870828442}. Best is trial 94 with value: 0.9254603778443582.\n"
     ]
    },
    {
     "name": "stdout",
     "output_type": "stream",
     "text": [
      "[LightGBM] [Warning] feature_fraction is set=0.9619565870828442, colsample_bytree=1.0 will be ignored. Current value: feature_fraction=0.9619565870828442\n",
      "[LightGBM] [Warning] feature_fraction is set=0.9763913313258837, colsample_bytree=1.0 will be ignored. Current value: feature_fraction=0.9763913313258837\n",
      "[LightGBM] [Warning] feature_fraction is set=0.9763913313258837, colsample_bytree=1.0 will be ignored. Current value: feature_fraction=0.9763913313258837\n",
      "[LightGBM] [Info] Number of positive: 3744, number of negative: 3683\n",
      "[LightGBM] [Info] Auto-choosing row-wise multi-threading, the overhead of testing was 0.000530 seconds.\n",
      "You can set `force_row_wise=true` to remove the overhead.\n",
      "And if memory is not enough, you can set `force_col_wise=true`.\n",
      "[LightGBM] [Info] Total Bins 797\n",
      "[LightGBM] [Info] Number of data points in the train set: 7427, number of used features: 16\n",
      "[LightGBM] [Info] [binary:BoostFromScore]: pavg=0.504107 -> initscore=0.016427\n",
      "[LightGBM] [Info] Start training from score 0.016427\n"
     ]
    },
    {
     "name": "stderr",
     "output_type": "stream",
     "text": [
      "C:\\Users\\cheng\\AppData\\Local\\Temp\\ipykernel_19784\\2020316554.py:19: FutureWarning: suggest_loguniform has been deprecated in v3.0.0. This feature will be removed in v6.0.0. See https://github.com/optuna/optuna/releases/tag/v3.0.0. Use suggest_float(..., log=True) instead.\n",
      "  learning_rate=trial.suggest_loguniform('learning_rate', 0.01, 0.3),\n",
      "C:\\Users\\cheng\\AppData\\Local\\Temp\\ipykernel_19784\\2020316554.py:21: FutureWarning: suggest_uniform has been deprecated in v3.0.0. This feature will be removed in v6.0.0. See https://github.com/optuna/optuna/releases/tag/v3.0.0. Use suggest_float instead.\n",
      "  feature_fraction=trial.suggest_uniform('feature_fraction', 0.6, 1.0)\n",
      "[I 2024-10-03 19:43:05,793] Trial 96 finished with value: 0.9206919036849974 and parameters: {'model_type': 'lightgbm', 'num_leaves': 60, 'learning_rate': 0.0772097661900048, 'n_estimators': 212, 'feature_fraction': 0.9763913313258837}. Best is trial 94 with value: 0.9254603778443582.\n"
     ]
    },
    {
     "name": "stdout",
     "output_type": "stream",
     "text": [
      "[LightGBM] [Warning] feature_fraction is set=0.9763913313258837, colsample_bytree=1.0 will be ignored. Current value: feature_fraction=0.9763913313258837\n"
     ]
    },
    {
     "name": "stderr",
     "output_type": "stream",
     "text": [
      "[I 2024-10-03 19:43:06,036] Trial 97 finished with value: 0.6430210486654119 and parameters: {'model_type': 'logistic', 'penalty': 'l1', 'C': 0.3673607695183668}. Best is trial 94 with value: 0.9254603778443582.\n",
      "C:\\Users\\cheng\\AppData\\Local\\Temp\\ipykernel_19784\\2020316554.py:19: FutureWarning: suggest_loguniform has been deprecated in v3.0.0. This feature will be removed in v6.0.0. See https://github.com/optuna/optuna/releases/tag/v3.0.0. Use suggest_float(..., log=True) instead.\n",
      "  learning_rate=trial.suggest_loguniform('learning_rate', 0.01, 0.3),\n",
      "C:\\Users\\cheng\\AppData\\Local\\Temp\\ipykernel_19784\\2020316554.py:21: FutureWarning: suggest_uniform has been deprecated in v3.0.0. This feature will be removed in v6.0.0. See https://github.com/optuna/optuna/releases/tag/v3.0.0. Use suggest_float instead.\n",
      "  feature_fraction=trial.suggest_uniform('feature_fraction', 0.6, 1.0)\n"
     ]
    },
    {
     "name": "stdout",
     "output_type": "stream",
     "text": [
      "[LightGBM] [Warning] feature_fraction is set=0.9252554942043822, colsample_bytree=1.0 will be ignored. Current value: feature_fraction=0.9252554942043822\n",
      "[LightGBM] [Warning] feature_fraction is set=0.9252554942043822, colsample_bytree=1.0 will be ignored. Current value: feature_fraction=0.9252554942043822\n",
      "[LightGBM] [Info] Number of positive: 3744, number of negative: 3683\n",
      "[LightGBM] [Info] Auto-choosing row-wise multi-threading, the overhead of testing was 0.001336 seconds.\n",
      "You can set `force_row_wise=true` to remove the overhead.\n",
      "And if memory is not enough, you can set `force_col_wise=true`.\n",
      "[LightGBM] [Info] Total Bins 797\n",
      "[LightGBM] [Info] Number of data points in the train set: 7427, number of used features: 16\n",
      "[LightGBM] [Info] [binary:BoostFromScore]: pavg=0.504107 -> initscore=0.016427\n",
      "[LightGBM] [Info] Start training from score 0.016427\n"
     ]
    },
    {
     "name": "stderr",
     "output_type": "stream",
     "text": [
      "[I 2024-10-03 19:43:06,821] Trial 98 finished with value: 0.9195552267784964 and parameters: {'model_type': 'lightgbm', 'num_leaves': 89, 'learning_rate': 0.0999464650271344, 'n_estimators': 214, 'feature_fraction': 0.9252554942043822}. Best is trial 94 with value: 0.9254603778443582.\n"
     ]
    },
    {
     "name": "stdout",
     "output_type": "stream",
     "text": [
      "[LightGBM] [Warning] feature_fraction is set=0.9252554942043822, colsample_bytree=1.0 will be ignored. Current value: feature_fraction=0.9252554942043822\n",
      "[LightGBM] [Warning] feature_fraction is set=0.9987148207231908, colsample_bytree=1.0 will be ignored. Current value: feature_fraction=0.9987148207231908\n",
      "[LightGBM] [Warning] feature_fraction is set=0.9987148207231908, colsample_bytree=1.0 will be ignored. Current value: feature_fraction=0.9987148207231908\n",
      "[LightGBM] [Info] Number of positive: 3744, number of negative: 3683\n",
      "[LightGBM] [Info] Auto-choosing col-wise multi-threading, the overhead of testing was 0.001058 seconds.\n",
      "You can set `force_col_wise=true` to remove the overhead.\n",
      "[LightGBM] [Info] Total Bins 797\n",
      "[LightGBM] [Info] Number of data points in the train set: 7427, number of used features: 16\n",
      "[LightGBM] [Info] [binary:BoostFromScore]: pavg=0.504107 -> initscore=0.016427\n",
      "[LightGBM] [Info] Start training from score 0.016427\n"
     ]
    },
    {
     "name": "stderr",
     "output_type": "stream",
     "text": [
      "C:\\Users\\cheng\\AppData\\Local\\Temp\\ipykernel_19784\\2020316554.py:19: FutureWarning: suggest_loguniform has been deprecated in v3.0.0. This feature will be removed in v6.0.0. See https://github.com/optuna/optuna/releases/tag/v3.0.0. Use suggest_float(..., log=True) instead.\n",
      "  learning_rate=trial.suggest_loguniform('learning_rate', 0.01, 0.3),\n",
      "C:\\Users\\cheng\\AppData\\Local\\Temp\\ipykernel_19784\\2020316554.py:21: FutureWarning: suggest_uniform has been deprecated in v3.0.0. This feature will be removed in v6.0.0. See https://github.com/optuna/optuna/releases/tag/v3.0.0. Use suggest_float instead.\n",
      "  feature_fraction=trial.suggest_uniform('feature_fraction', 0.6, 1.0)\n",
      "[I 2024-10-03 19:43:07,526] Trial 99 finished with value: 0.9216889644391538 and parameters: {'model_type': 'lightgbm', 'num_leaves': 73, 'learning_rate': 0.06167697289006776, 'n_estimators': 239, 'feature_fraction': 0.9987148207231908}. Best is trial 94 with value: 0.9254603778443582.\n"
     ]
    },
    {
     "name": "stdout",
     "output_type": "stream",
     "text": [
      "[LightGBM] [Warning] feature_fraction is set=0.9987148207231908, colsample_bytree=1.0 will be ignored. Current value: feature_fraction=0.9987148207231908\n",
      "Best trial: FrozenTrial(number=94, state=1, values=[0.9254603778443582], datetime_start=datetime.datetime(2024, 10, 3, 19, 43, 3, 945294), datetime_complete=datetime.datetime(2024, 10, 3, 19, 43, 4, 565786), params={'model_type': 'lightgbm', 'num_leaves': 73, 'learning_rate': 0.07936529957304418, 'n_estimators': 213, 'feature_fraction': 0.9483505675610852}, user_attrs={}, system_attrs={}, intermediate_values={}, distributions={'model_type': CategoricalDistribution(choices=('xgboost', 'lightgbm', 'randomforest', 'logistic')), 'num_leaves': IntDistribution(high=150, log=False, low=20, step=1), 'learning_rate': FloatDistribution(high=0.3, log=True, low=0.01, step=None), 'n_estimators': IntDistribution(high=300, log=False, low=50, step=1), 'feature_fraction': FloatDistribution(high=1.0, log=False, low=0.6, step=None)}, trial_id=94, value=None)\n",
      "Best parameters: {'model_type': 'lightgbm', 'num_leaves': 73, 'learning_rate': 0.07936529957304418, 'n_estimators': 213, 'feature_fraction': 0.9483505675610852}\n"
     ]
    }
   ],
   "source": [
    "# Create an Optuna study and optimize\n",
    "study = optuna.create_study(direction='maximize')\n",
    "study.optimize(objective, n_trials=100)\n",
    "\n",
    "# Print the best trial and its parameters\n",
    "print(f\"Best trial: {study.best_trial}\")\n",
    "print(f\"Best parameters: {study.best_params}\")\n"
   ]
  },
  {
   "cell_type": "code",
   "execution_count": 10,
   "metadata": {},
   "outputs": [
    {
     "name": "stdout",
     "output_type": "stream",
     "text": [
      "[LightGBM] [Warning] Unknown parameter: model_type\n",
      "[LightGBM] [Warning] feature_fraction is set=0.9483505675610852, colsample_bytree=1.0 will be ignored. Current value: feature_fraction=0.9483505675610852\n",
      "[LightGBM] [Warning] Unknown parameter: model_type\n",
      "[LightGBM] [Warning] feature_fraction is set=0.9483505675610852, colsample_bytree=1.0 will be ignored. Current value: feature_fraction=0.9483505675610852\n",
      "[LightGBM] [Info] Number of positive: 5305, number of negative: 5305\n",
      "[LightGBM] [Info] Auto-choosing col-wise multi-threading, the overhead of testing was 0.001247 seconds.\n",
      "You can set `force_col_wise=true` to remove the overhead.\n",
      "[LightGBM] [Info] Total Bins 799\n",
      "[LightGBM] [Info] Number of data points in the train set: 10610, number of used features: 17\n",
      "[LightGBM] [Info] [binary:BoostFromScore]: pavg=0.500000 -> initscore=0.000000\n",
      "[LightGBM] [Warning] Unknown parameter: model_type\n",
      "[LightGBM] [Warning] feature_fraction is set=0.9483505675610852, colsample_bytree=1.0 will be ignored. Current value: feature_fraction=0.9483505675610852\n",
      "Accuracy: 0.981464027646874\n",
      "ROC AUC: 0.9813789178425099\n",
      "Confusion Matrix:\n",
      "[[1599   23]\n",
      " [  36 1525]]\n",
      "Classification Report:\n",
      "              precision    recall  f1-score   support\n",
      "\n",
      "           0       0.98      0.99      0.98      1622\n",
      "           1       0.99      0.98      0.98      1561\n",
      "\n",
      "    accuracy                           0.98      3183\n",
      "   macro avg       0.98      0.98      0.98      3183\n",
      "weighted avg       0.98      0.98      0.98      3183\n",
      "\n"
     ]
    }
   ],
   "source": [
    "# Best model based on Optuna\n",
    "best_params = study.best_params\n",
    "if best_params['model_type'] == 'xgboost':\n",
    "    best_model = xgb.XGBClassifier(**best_params)\n",
    "elif best_params['model_type'] == 'lightgbm':\n",
    "    best_model = lgb.LGBMClassifier(**best_params)\n",
    "elif best_params['model_type'] == 'randomforest':\n",
    "    best_model = RandomForestClassifier(**best_params)\n",
    "else:\n",
    "    best_model = LogisticRegression(**best_params)\n",
    "\n",
    "# Train the best model\n",
    "best_model.fit(X_resampled, y_resampled)\n",
    "\n",
    "# Predict on the test set\n",
    "y_pred = best_model.predict(X_test)\n",
    "\n",
    "# Evaluate the final model\n",
    "accuracy = accuracy_score(y_test, y_pred)\n",
    "roc_auc = roc_auc_score(y_test, y_pred)\n",
    "conf_matrix = confusion_matrix(y_test, y_pred)\n",
    "class_report = classification_report(y_test, y_pred)\n",
    "\n",
    "print(f'Accuracy: {accuracy}')\n",
    "print(f'ROC AUC: {roc_auc}')\n",
    "print(f'Confusion Matrix:\\n{conf_matrix}')\n",
    "print(f'Classification Report:\\n{class_report}')\n"
   ]
  },
  {
   "cell_type": "code",
   "execution_count": 11,
   "metadata": {},
   "outputs": [
    {
     "name": "stderr",
     "output_type": "stream",
     "text": [
      "c:\\Users\\cheng\\Workspace\\robinhood_classifer\\.venv\\Lib\\site-packages\\shap\\explainers\\_tree.py:448: UserWarning: LightGBM binary classifier with TreeExplainer shap values output has changed to a list of ndarray\n",
      "  warnings.warn('LightGBM binary classifier with TreeExplainer shap values output has changed to a list of ndarray')\n"
     ]
    },
    {
     "data": {
      "image/png": "[encoded data removed]",
      "text/plain": [
       "<Figure size 800x910 with 2 Axes>"
      ]
     },
     "metadata": {},
     "output_type": "display_data"
    }
   ],
   "source": [
    "# Explain the model predictions using SHAP\n",
    "explainer = shap.TreeExplainer(best_model)\n",
    "shap_values = explainer.shap_values(X_test)\n",
    "\n",
    "# Plot the SHAP summary\n",
    "shap.summary_plot(shap_values, X_test, feature_names=X.columns)\n"
   ]
  },
  {
   "cell_type": "code",
   "execution_count": 13,
   "metadata": {},
   "outputs": [
    {
     "data": {
      "image/png": "[encoded data removed]",
      "text/plain": [
       "<Figure size 640x480 with 1 Axes>"
      ]
     },
     "metadata": {},
     "output_type": "display_data"
    },
    {
     "data": {
      "image/png": "[encoded data removed]",
      "text/plain": [
       "<Figure size 640x480 with 1 Axes>"
      ]
     },
     "metadata": {},
     "output_type": "display_data"
    },
    {
     "data": {
      "image/png": "[encoded data removed]",
      "text/plain": [
       "<Figure size 1200x800 with 2 Axes>"
      ]
     },
     "metadata": {},
     "output_type": "display_data"
    },
    {
     "data": {
      "image/png": "[encoded data removed]",
      "text/plain": [
       "<Figure size 640x480 with 1 Axes>"
      ]
     },
     "metadata": {},
     "output_type": "display_data"
    }
   ],
   "source": [
    "# Distribution of time spent in app\n",
    "sns.histplot(df['time_spent'], kde=True)\n",
    "plt.title('Distribution of Time Spent in App')\n",
    "plt.show()\n",
    "\n",
    "# Boxplot of first deposit amount by churn flag\n",
    "sns.boxplot(x='churn_flag', y='first_deposit_amount', data=df)\n",
    "plt.title('First Deposit Amount by Churn Flag')\n",
    "plt.show()\n",
    "\n",
    "# Select only the numerical columns from the DataFrame\n",
    "numerical_df = df.select_dtypes(include=['float64', 'int64'])\n",
    "\n",
    "# Create the heatmap using the correlation matrix of the numerical columns\n",
    "plt.figure(figsize=(12, 8))\n",
    "sns.heatmap(numerical_df.corr(), annot=True, fmt='.2f', cmap='coolwarm')\n",
    "plt.title('Correlation Heatmap')\n",
    "plt.show()\n",
    "\n",
    "# Countplot for churn by platform for categorical features\n",
    "sns.countplot(x='platform', hue='churn_flag', data=df)\n",
    "plt.title('Churn by Platform')\n",
    "plt.show()\n"
   ]
  }
 ],
 "metadata": {
  "kernelspec": {
   "display_name": "venv",
   "language": "python",
   "name": "python3"
  },
  "language_info": {
   "codemirror_mode": {
    "name": "ipython",
    "version": 3
   },
   "file_extension": ".py",
   "mimetype": "text/x-python",
   "name": "python",
   "nbconvert_exporter": "python",
   "pygments_lexer": "ipython3",
   "version": "3.8.5"
  }
 },
 "nbformat": 4,
 "nbformat_minor": 2
}
